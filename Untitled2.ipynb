{
 "cells": [
  {
   "cell_type": "code",
   "execution_count": 9,
   "metadata": {},
   "outputs": [],
   "source": [
    "import re"
   ]
  },
  {
   "cell_type": "code",
   "execution_count": 1,
   "metadata": {},
   "outputs": [],
   "source": [
    "raw_cvs_data = '''Total Nationwide 7822 5471 499777 1333 9271 1499 61792 4953\n",
    "Alabama Activated 2020-12-28 101 79 5841 22 Scheduled 2021-01-15\n",
    "Alaska Activated 2020-12-28 2 2 107 Activated 2020-12-28 125 20 172 38\n",
    "Arizona Activated 2020-12-28 96 74 5903 20 Scheduled 2021-01-18\n",
    "Arkansas Activated 2020-12-28 19 8 789 5 Activated 2020-12-28 26 8 499 13\n",
    "California Activated 2020-12-28 499 400 39267 77 Scheduled 2021-01-11 734\n",
    "Chicago Activated 2020-12-28 30 30 2961 Activated 2020-12-28 29 3 6 13\n",
    "Colorado Activated 2020-12-28 119 64 6074 33 Activated 2021-01-04 263 30 1255 80\n",
    "Connecticut Activated 2020-12-21 178 178 19946 Activated 2021-01-04 398 59 2513 95\n",
    "Delaware Activated 2020-12-28 32 23 2121 9 Activated 2020-12-28 123 5 152 30\n",
    "District of Columbia Activated 2020-12-28 10 4 522 3 Activated 2020-12-28 10 2 199 7\n",
    "Florida Activated 2020-12-21 484 407 37026 44 Scheduled 2021-01-11 462\n",
    "Georgia Activated 2020-12-28 254 156 10109 63 Scheduled 2021-01-11 150\n",
    "Hawaii Activated 2020-12-28 28 25 3018 3 Activated 2020-12-28 17 7 643 10\n",
    "Idaho Activated 2020-12-28 18 6 236 3 Activated 2020-12-28 58 1 84 6\n",
    "Illinois (excl. Chicago) Activated 2020-12-28 301 177 13952 56 Not Activated TBD\n",
    "Indiana Activated 2020-12-28 319 150 10570 84 Scheduled 2021-01-18\n",
    "Iowa Activated 2020-12-28 221 118 7650 57 Activated 2020-12-28 265 13 358 100\n",
    "Kansas Activated 2020-12-28 136 56 3752 34 Activated 2020-12-28 219 62 2710 112\n",
    "Kentucky Activated 2020-12-21 129 83 6162 29 Activated 2020-12-21 207 68 3179 110\n",
    "Louisiana Activated 2020-12-28 130 75 5834 31 Activated 2021-01-04 417 7 167 70\n",
    "Maine Activated 2020-12-21 38 35 3022 3 Activated 2021-01-04 170 27 730 59\n",
    "Maryland Activated 2020-12-23 150 137 14183 13 Not Activated TBD\n",
    "Massachusetts Activated 2020-12-28 281 238 29047 43 Scheduled 2021-01-11 235\n",
    "Michigan Activated 2020-12-28 269 198 17062 37 Activated 2021-01-04 721 73 3119 230\n",
    "Minnesota Activated 2020-12-28 120 92 9926 23 Scheduled 2021-01-11 181\n",
    "Mississippi Activated 2020-12-28 103 30 1718 36 Scheduled 2021-01-11 46\n",
    "Missouri Activated 2020-12-28 277 120 8645 49 Activated 2020-12-28 332 54 1871 130\n",
    "Montana Activated 2020-12-28 27 11 565 4 Activated 2020-12-28 79 8 515 21\n",
    "Nebraska Activated 2020-12-28 30 11 816 11 Activated 2020-12-28 34 6 256 14\n",
    "Nevada Activated 2020-12-21 32 30 2335 2 Activated 2021-01-04 227 20 368 63\n",
    "New Hampshire Activated 2020-12-21 56 55 7089 1 Activated 2020-12-28 126 16 297 37\n",
    "New Jersey Activated 2020-12-28 277 224 21377 53 Activated 2021-01-04 821 63 1813 223\n",
    "New Mexico Activated 2020-12-28 40 23 2756 8 Activated 2020-12-28 131 15 397 40\n",
    "New York (incl. NYC) Activated 2020-12-21 252 252 31819 Scheduled 2021-01-11 125\n",
    "North Carolina Activated 2020-12-28 231 141 11874 53 Activated 2020-12-28 668 156 5371 212\n",
    "North Dakota Activated 2020-12-28 19 10 736 4 Activated 2021-01-04 22 2 77 6\n",
    "Ohio Activated 2020-12-21 488 400 30220 31 Activated 2021-01-04 942 174 5794 238\n",
    "Oklahoma Activated 2020-12-21 60 59 2850 1 Scheduled 2021-01-18 1\n",
    "Oregon Activated 2020-12-21 44 29 2448 6 Scheduled 2021-01-18\n",
    "Pennsylvania (excl. Philadelphia) Activated 2020-12-28 510 436 46629 74 Scheduled 2021-01-18\n",
    "Philadelphia Activated 2020-12-28 38 20 2416 13 Not Activated TBD\n",
    "Puerto Rico Activated 2021-01-04 0 Activated 2021-01-04 7 3 224 2\n",
    "Rhode Island Activated 2020-12-28 47 40 4478 7 Scheduled 2021-01-18\n",
    "South Carolina Activated 2020-12-28 113 98 8333 15 Activated 2020-12-28 569 113 4101 158\n",
    "South Dakota Activated 2020-12-28 10 7 359 Activated 2020-12-28 16 2 91 3\n",
    "Tennessee Activated 2020-12-28 92 55 3523 17 Scheduled 2021-01-13 35\n",
    "Texas Activated 2020-12-28 581 267 19708 139 Activated 2020-12-28 1431 449 23208 559\n",
    "Utah Activated 2020-12-28 43 18 2167 17 Activated 2021-01-04 153 14 954 35\n",
    "Vermont Activated 2020-12-21 16 15 1767 1 Scheduled 2021-01-11 11\n",
    "Virginia Activated 2020-12-28 195 142 16963 45 Scheduled 2021-01-11 131\n",
    "Washington Activated 2020-12-28 112 59 4685 19 Activated 2021-01-04 659 17 631 126\n",
    "Wisconsin Activated 2020-12-28 156 103 8401 35 Not Activated TBD\n",
    "Wyoming Activated 2021-01-04 9 1 20 Activated 2021-01-04 6 2 38 2'''"
   ]
  },
  {
   "cell_type": "code",
   "execution_count": 3,
   "metadata": {},
   "outputs": [],
   "source": [
    "for row in raw_cvs_data.split('\\n'):\n",
    "    continue"
   ]
  },
  {
   "cell_type": "code",
   "execution_count": 4,
   "metadata": {},
   "outputs": [
    {
     "data": {
      "text/plain": [
       "'Wyoming Activated 2021-01-04 9 1 20 Activated 2021-01-04 6 2 38 2'"
      ]
     },
     "execution_count": 4,
     "metadata": {},
     "output_type": "execute_result"
    }
   ],
   "source": [
    "row"
   ]
  },
  {
   "cell_type": "code",
   "execution_count": 10,
   "metadata": {},
   "outputs": [],
   "source": [
    "def my_split(s):\n",
    "    return filter(None, re.split(r'(\\d+)', s))"
   ]
  },
  {
   "cell_type": "code",
   "execution_count": 12,
   "metadata": {},
   "outputs": [],
   "source": [
    "a = my_split(row)"
   ]
  },
  {
   "cell_type": "code",
   "execution_count": 15,
   "metadata": {},
   "outputs": [],
   "source": [
    "fields = re.split(r'(^[^\\d]+)', row)[1:]"
   ]
  },
  {
   "cell_type": "code",
   "execution_count": 16,
   "metadata": {},
   "outputs": [
    {
     "data": {
      "text/plain": [
       "'Wyoming Activated'"
      ]
     },
     "execution_count": 16,
     "metadata": {},
     "output_type": "execute_result"
    }
   ],
   "source": [
    "fields[0].strip()"
   ]
  },
  {
   "cell_type": "code",
   "execution_count": 18,
   "metadata": {},
   "outputs": [
    {
     "data": {
      "text/plain": [
       "['2021-01-04', '9', '1', '20', 'Activated', '2021-01-04', '6', '2', '38', '2']"
      ]
     },
     "execution_count": 18,
     "metadata": {},
     "output_type": "execute_result"
    }
   ],
   "source": [
    "fields[1].split(' ')"
   ]
  },
  {
   "cell_type": "code",
   "execution_count": 19,
   "metadata": {},
   "outputs": [],
   "source": [
    "row = [fields[0].strip()] + fields[1].rosplit(' ')"
   ]
  },
  {
   "cell_type": "code",
   "execution_count": 20,
   "metadata": {},
   "outputs": [
    {
     "data": {
      "text/plain": [
       "['Wyoming Activated',\n",
       " '2021-01-04',\n",
       " '9',\n",
       " '1',\n",
       " '20',\n",
       " 'Activated',\n",
       " '2021-01-04',\n",
       " '6',\n",
       " '2',\n",
       " '38',\n",
       " '2']"
      ]
     },
     "execution_count": 20,
     "metadata": {},
     "output_type": "execute_result"
    }
   ],
   "source": [
    "row\n"
   ]
  },
  {
   "cell_type": "code",
   "execution_count": 21,
   "metadata": {},
   "outputs": [],
   "source": [
    "header = '''Activation Status Activation Date\n",
    "Activated\n",
    "Facilities\n",
    "Partnered\n",
    "with CVS\n",
    "Completed\n",
    "Clinics for First\n",
    "Dose\n",
    "Vaccines\n",
    "Administered\n",
    "Additional Clinics\n",
    "Scheduled Over\n",
    "Next 7 Days (incl.\n",
    "Today) in Activated\n",
    "Facilities\n",
    "Activation Status Activation Date\n",
    "Activated\n",
    "Facilities\n",
    "Partnered\n",
    "with CVS\n",
    "Completed\n",
    "Clinics for First\n",
    "Dose\n",
    "Vaccines\n",
    "Administered\n",
    "Additional Clinics\n",
    "Scheduled Over\n",
    "Next 7 Days (incl.\n",
    "Today) in Activated\n",
    "Facilities'''"
   ]
  },
  {
   "cell_type": "code",
   "execution_count": 24,
   "metadata": {},
   "outputs": [
    {
     "data": {
      "text/plain": [
       "['State',\n",
       " 'Activation Status Activation Date',\n",
       " 'Activated',\n",
       " 'Facilities',\n",
       " 'Partnered',\n",
       " 'with CVS',\n",
       " 'Completed',\n",
       " 'Clinics for First',\n",
       " 'Dose',\n",
       " 'Vaccines',\n",
       " 'Administered',\n",
       " 'Additional Clinics',\n",
       " 'Scheduled Over',\n",
       " 'Next 7 Days (incl.',\n",
       " 'Today) in Activated',\n",
       " 'Facilities',\n",
       " 'Activation Status Activation Date',\n",
       " 'Activated',\n",
       " 'Facilities',\n",
       " 'Partnered',\n",
       " 'with CVS',\n",
       " 'Completed',\n",
       " 'Clinics for First',\n",
       " 'Dose',\n",
       " 'Vaccines',\n",
       " 'Administered',\n",
       " 'Additional Clinics',\n",
       " 'Scheduled Over',\n",
       " 'Next 7 Days (incl.',\n",
       " 'Today) in Activated',\n",
       " 'Facilities']"
      ]
     },
     "execution_count": 24,
     "metadata": {},
     "output_type": "execute_result"
    }
   ],
   "source": [
    "['State'] + header.split('\\n')"
   ]
  },
  {
   "cell_type": "code",
   "execution_count": 26,
   "metadata": {},
   "outputs": [
    {
     "name": "stdout",
     "output_type": "stream",
     "text": [
      "color\n",
      "fruit\n",
      "pet\n"
     ]
    }
   ],
   "source": [
    "a_dict = {'color': 'blue', 'fruit': 'apple', 'pet': 'dog'}\n",
    "for key in a_dict:\n",
    "    print(key)"
   ]
  },
  {
   "cell_type": "code",
   "execution_count": 28,
   "metadata": {},
   "outputs": [
    {
     "data": {
      "text/plain": [
       "['color', 'fruit', 'pet']"
      ]
     },
     "execution_count": 28,
     "metadata": {},
     "output_type": "execute_result"
    }
   ],
   "source": [
    "list(a_dict.keys())"
   ]
  },
  {
   "cell_type": "code",
   "execution_count": 31,
   "metadata": {},
   "outputs": [],
   "source": [
    "list_of_dicts = [{'color': 'green', 'fruit': 'apple', 'pet': 'dog'},\n",
    "              {'color': 'green', 'fruit2': 'apple2', 'pet2': 'dog'}]"
   ]
  },
  {
   "cell_type": "code",
   "execution_count": 32,
   "metadata": {},
   "outputs": [],
   "source": [
    "tags = {'color': 'green'}\n"
   ]
  },
  {
   "cell_type": "code",
   "execution_count": null,
   "metadata": {},
   "outputs": [],
   "source": []
  }
 ],
 "metadata": {
  "kernelspec": {
   "display_name": "Python 3",
   "language": "python",
   "name": "python3"
  },
  "language_info": {
   "codemirror_mode": {
    "name": "ipython",
    "version": 3
   },
   "file_extension": ".py",
   "mimetype": "text/x-python",
   "name": "python",
   "nbconvert_exporter": "python",
   "pygments_lexer": "ipython3",
   "version": "3.7.6"
  }
 },
 "nbformat": 4,
 "nbformat_minor": 4
}
