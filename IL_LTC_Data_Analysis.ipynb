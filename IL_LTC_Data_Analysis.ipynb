{
 "cells": [
  {
   "cell_type": "code",
   "execution_count": 1,
   "metadata": {
    "colab": {},
    "colab_type": "code",
    "id": "r3I8QTIvyyyJ"
   },
   "outputs": [],
   "source": [
    "import pandas as pd\n",
    "import urllib3 as urllib\n",
    "import json\n",
    "import IPython.display"
   ]
  },
  {
   "cell_type": "code",
   "execution_count": 2,
   "metadata": {
    "colab": {},
    "colab_type": "code",
    "id": "0DpPxHYpyyyQ"
   },
   "outputs": [],
   "source": [
    "http = urllib.PoolManager()\n",
    "\n",
    "def getResponse(url):\n",
    "    operUrl = http.request('GET', url)\n",
    "    if(operUrl.status==200):\n",
    "        data = operUrl.data\n",
    "        jsonData = json.loads(data.decode('utf-8'))\n",
    "    else:\n",
    "        print(\"Error receiving data\", operUrl.getcode())\n",
    "    return jsonData"
   ]
  },
  {
   "cell_type": "code",
   "execution_count": 3,
   "metadata": {
    "colab": {},
    "colab_type": "code",
    "id": "rtSr_6rEyyyZ"
   },
   "outputs": [],
   "source": [
    "ltc_data = getResponse('http://www.dph.illinois.gov/sitefiles/COVIDLTC.json')\n",
    "reporting_date = '%d-%02d-%02d' %(ltc_data['LastUpdateDate']['year'], ltc_data['LastUpdateDate']['month'], ltc_data['LastUpdateDate']['day'])"
   ]
  },
  {
   "cell_type": "code",
   "execution_count": 4,
   "metadata": {},
   "outputs": [],
   "source": [
    "#Saving a copy of source data \n",
    "ltc_data_json = json.dumps(ltc_data)\n",
    "\n",
    "f = open(\"Source_data/IL_\" + reporting_date + \"LTC_data_Source.json\",\"w\")\n",
    "f.write(ltc_data_json)\n",
    "f.close()"
   ]
  },
  {
   "cell_type": "code",
   "execution_count": 5,
   "metadata": {
    "colab": {},
    "colab_type": "code",
    "id": "ubmsF36syyyn"
   },
   "outputs": [],
   "source": [
    "df = pd.DataFrame(ltc_data['FacilityValues'])\n",
    "df['reporting_date'] = reporting_date\n",
    "df['% deaths'] = df['deaths'] / df['confirmed_cases']"
   ]
  },
  {
   "cell_type": "code",
   "execution_count": 6,
   "metadata": {},
   "outputs": [],
   "source": [
    "df.to_csv('Reporting_data/IL_' + reporting_date + '_LTC_data_.csv', index = False)"
   ]
  },
  {
   "cell_type": "code",
   "execution_count": 7,
   "metadata": {
    "colab": {
     "base_uri": "https://localhost:8080/",
     "height": 67
    },
    "colab_type": "code",
    "id": "eBdmRkxzyyyx",
    "outputId": "e0123e5e-d68a-456a-f1b1-309334ca1a77"
   },
   "outputs": [
    {
     "name": "stdout",
     "output_type": "stream",
     "text": [
      "Date: 2020-08-14\n",
      "Cases: 25712\n",
      "Deaths:  4261\n",
      "Facilities: 742\n"
     ]
    }
   ],
   "source": [
    "df['num of facilities'] = 1 \n",
    "a = df.sum()\n",
    "print ('Date: %s' % reporting_date)\n",
    "print ('Cases: %d' % a.confirmed_cases)\n",
    "print ('Deaths:  %d'% a.deaths)\n",
    "print ('Facilities: %d' % df.reporting_date.value_counts()[0])"
   ]
  },
  {
   "cell_type": "code",
   "execution_count": 12,
   "metadata": {
    "colab": {
     "base_uri": "https://localhost:8080/",
     "height": 1000
    },
    "colab_type": "code",
    "id": "xSXUDYotyyzA",
    "outputId": "8066eaf5-6bbd-4311-de99-64fef7efc3d7"
   },
   "outputs": [
    {
     "data": {
      "text/html": [
       "<div>\n",
       "<style scoped>\n",
       "    .dataframe tbody tr th:only-of-type {\n",
       "        vertical-align: middle;\n",
       "    }\n",
       "\n",
       "    .dataframe tbody tr th {\n",
       "        vertical-align: top;\n",
       "    }\n",
       "\n",
       "    .dataframe thead th {\n",
       "        text-align: right;\n",
       "    }\n",
       "</style>\n",
       "<table border=\"1\" class=\"dataframe\">\n",
       "  <thead>\n",
       "    <tr style=\"text-align: right;\">\n",
       "      <th></th>\n",
       "      <th>confirmed_cases</th>\n",
       "      <th>deaths</th>\n",
       "      <th>% deaths</th>\n",
       "      <th>num of facilities</th>\n",
       "    </tr>\n",
       "    <tr>\n",
       "      <th>County</th>\n",
       "      <th></th>\n",
       "      <th></th>\n",
       "      <th></th>\n",
       "      <th></th>\n",
       "    </tr>\n",
       "  </thead>\n",
       "  <tbody>\n",
       "    <tr>\n",
       "      <th>Cook</th>\n",
       "      <td>13714</td>\n",
       "      <td>2348</td>\n",
       "      <td>0.171212</td>\n",
       "      <td>292</td>\n",
       "    </tr>\n",
       "    <tr>\n",
       "      <th>DuPage</th>\n",
       "      <td>2292</td>\n",
       "      <td>419</td>\n",
       "      <td>0.182810</td>\n",
       "      <td>67</td>\n",
       "    </tr>\n",
       "    <tr>\n",
       "      <th>Lake</th>\n",
       "      <td>2284</td>\n",
       "      <td>347</td>\n",
       "      <td>0.151926</td>\n",
       "      <td>55</td>\n",
       "    </tr>\n",
       "    <tr>\n",
       "      <th>Kane</th>\n",
       "      <td>1083</td>\n",
       "      <td>178</td>\n",
       "      <td>0.164358</td>\n",
       "      <td>44</td>\n",
       "    </tr>\n",
       "    <tr>\n",
       "      <th>Will</th>\n",
       "      <td>895</td>\n",
       "      <td>173</td>\n",
       "      <td>0.193296</td>\n",
       "      <td>38</td>\n",
       "    </tr>\n",
       "    <tr>\n",
       "      <th>...</th>\n",
       "      <td>...</td>\n",
       "      <td>...</td>\n",
       "      <td>...</td>\n",
       "      <td>...</td>\n",
       "    </tr>\n",
       "    <tr>\n",
       "      <th>Jo Daviess</th>\n",
       "      <td>5</td>\n",
       "      <td>0</td>\n",
       "      <td>0.000000</td>\n",
       "      <td>2</td>\n",
       "    </tr>\n",
       "    <tr>\n",
       "      <th>Clark</th>\n",
       "      <td>7</td>\n",
       "      <td>0</td>\n",
       "      <td>0.000000</td>\n",
       "      <td>1</td>\n",
       "    </tr>\n",
       "    <tr>\n",
       "      <th>Christian</th>\n",
       "      <td>4</td>\n",
       "      <td>0</td>\n",
       "      <td>0.000000</td>\n",
       "      <td>2</td>\n",
       "    </tr>\n",
       "    <tr>\n",
       "      <th>Bureau</th>\n",
       "      <td>3</td>\n",
       "      <td>0</td>\n",
       "      <td>0.000000</td>\n",
       "      <td>1</td>\n",
       "    </tr>\n",
       "    <tr>\n",
       "      <th>Woodford</th>\n",
       "      <td>2</td>\n",
       "      <td>0</td>\n",
       "      <td>0.000000</td>\n",
       "      <td>1</td>\n",
       "    </tr>\n",
       "  </tbody>\n",
       "</table>\n",
       "<p>64 rows × 4 columns</p>\n",
       "</div>"
      ],
      "text/plain": [
       "            confirmed_cases  deaths  % deaths  num of facilities\n",
       "County                                                          \n",
       "Cook                  13714    2348  0.171212                292\n",
       "DuPage                 2292     419  0.182810                 67\n",
       "Lake                   2284     347  0.151926                 55\n",
       "Kane                   1083     178  0.164358                 44\n",
       "Will                    895     173  0.193296                 38\n",
       "...                     ...     ...       ...                ...\n",
       "Jo Daviess                5       0  0.000000                  2\n",
       "Clark                     7       0  0.000000                  1\n",
       "Christian                 4       0  0.000000                  2\n",
       "Bureau                    3       0  0.000000                  1\n",
       "Woodford                  2       0  0.000000                  1\n",
       "\n",
       "[64 rows x 4 columns]"
      ]
     },
     "execution_count": 12,
     "metadata": {},
     "output_type": "execute_result"
    }
   ],
   "source": [
    "df_county = df.groupby(by=['County']).sum()\n",
    "df_county['% deaths'] = (df_county['deaths'] / df_county['confirmed_cases'])\n",
    "df_county.sort_values('deaths', ascending=False).to_csv('Reporting_data/IL_county_stats_' + reporting_date + '.csv')\n",
    "df_county.sort_values('deaths', ascending=False)"
   ]
  },
  {
   "cell_type": "code",
   "execution_count": 9,
   "metadata": {
    "colab": {
     "base_uri": "https://localhost:8080/",
     "height": 885
    },
    "colab_type": "code",
    "id": "XwtrMuSVyyzL",
    "outputId": "1c9bb650-b588-4f90-f329-5c14ba8a5385"
   },
   "outputs": [
    {
     "data": {
      "text/html": [
       "\n",
       "<div id=\"altair-viz-717bbd3095464d54b7db631f59d8cdce\"></div>\n",
       "<script type=\"text/javascript\">\n",
       "  (function(spec, embedOpt){\n",
       "    let outputDiv = document.currentScript.previousElementSibling;\n",
       "    if (outputDiv.id !== \"altair-viz-717bbd3095464d54b7db631f59d8cdce\") {\n",
       "      outputDiv = document.getElementById(\"altair-viz-717bbd3095464d54b7db631f59d8cdce\");\n",
       "    }\n",
       "    const paths = {\n",
       "      \"vega\": \"https://cdn.jsdelivr.net/npm//vega@5?noext\",\n",
       "      \"vega-lib\": \"https://cdn.jsdelivr.net/npm//vega-lib?noext\",\n",
       "      \"vega-lite\": \"https://cdn.jsdelivr.net/npm//vega-lite@4.8.1?noext\",\n",
       "      \"vega-embed\": \"https://cdn.jsdelivr.net/npm//vega-embed@6?noext\",\n",
       "    };\n",
       "\n",
       "    function loadScript(lib) {\n",
       "      return new Promise(function(resolve, reject) {\n",
       "        var s = document.createElement('script');\n",
       "        s.src = paths[lib];\n",
       "        s.async = true;\n",
       "        s.onload = () => resolve(paths[lib]);\n",
       "        s.onerror = () => reject(`Error loading script: ${paths[lib]}`);\n",
       "        document.getElementsByTagName(\"head\")[0].appendChild(s);\n",
       "      });\n",
       "    }\n",
       "\n",
       "    function showError(err) {\n",
       "      outputDiv.innerHTML = `<div class=\"error\" style=\"color:red;\">${err}</div>`;\n",
       "      throw err;\n",
       "    }\n",
       "\n",
       "    function displayChart(vegaEmbed) {\n",
       "      vegaEmbed(outputDiv, spec, embedOpt)\n",
       "        .catch(err => showError(`Javascript Error: ${err.message}<br>This usually means there's a typo in your chart specification. See the javascript console for the full traceback.`));\n",
       "    }\n",
       "\n",
       "    if(typeof define === \"function\" && define.amd) {\n",
       "      requirejs.config({paths});\n",
       "      require([\"vega-embed\"], displayChart, err => showError(`Error loading script: ${err.message}`));\n",
       "    } else if (typeof vegaEmbed === \"function\") {\n",
       "      displayChart(vegaEmbed);\n",
       "    } else {\n",
       "      loadScript(\"vega\")\n",
       "        .then(() => loadScript(\"vega-lite\"))\n",
       "        .then(() => loadScript(\"vega-embed\"))\n",
       "        .catch(showError)\n",
       "        .then(() => displayChart(vegaEmbed));\n",
       "    }\n",
       "  })({\"config\": {\"view\": {\"continuousWidth\": 400, \"continuousHeight\": 300}}, \"hconcat\": [{\"mark\": \"bar\", \"encoding\": {\"tooltip\": [{\"type\": \"nominal\", \"field\": \"County\"}, {\"type\": \"quantitative\", \"field\": \"deaths\"}, {\"type\": \"quantitative\", \"field\": \"confirmed_cases\"}, {\"type\": \"quantitative\", \"field\": \"% deaths\"}], \"x\": {\"type\": \"quantitative\", \"field\": \"deaths\"}, \"y\": {\"type\": \"ordinal\", \"field\": \"County\", \"sort\": \"-x\"}}}, {\"mark\": \"bar\", \"encoding\": {\"tooltip\": [{\"type\": \"nominal\", \"field\": \"County\"}, {\"type\": \"quantitative\", \"field\": \"deaths\"}, {\"type\": \"quantitative\", \"field\": \"confirmed_cases\"}, {\"type\": \"quantitative\", \"field\": \"% deaths\"}], \"x\": {\"type\": \"quantitative\", \"axis\": {\"format\": \"%\"}, \"field\": \"% deaths\"}, \"y\": {\"type\": \"ordinal\", \"field\": \"County\", \"sort\": \"-x\"}}}], \"data\": {\"name\": \"data-fd2165aa9d3d090c9d3a70d346d48548\"}, \"$schema\": \"https://vega.github.io/schema/vega-lite/v4.8.1.json\", \"datasets\": {\"data-fd2165aa9d3d090c9d3a70d346d48548\": [{\"County\": \"Cook\", \"confirmed_cases\": 13714, \"deaths\": 2348, \"% deaths\": 0.17121190024792182, \"num of facilities\": 292}, {\"County\": \"DuPage\", \"confirmed_cases\": 2292, \"deaths\": 419, \"% deaths\": 0.18280977312390925, \"num of facilities\": 67}, {\"County\": \"Lake\", \"confirmed_cases\": 2284, \"deaths\": 347, \"% deaths\": 0.15192644483362522, \"num of facilities\": 55}, {\"County\": \"Kane\", \"confirmed_cases\": 1083, \"deaths\": 178, \"% deaths\": 0.16435826408125578, \"num of facilities\": 44}, {\"County\": \"Will\", \"confirmed_cases\": 895, \"deaths\": 173, \"% deaths\": 0.19329608938547485, \"num of facilities\": 38}, {\"County\": \"St. Clair\", \"confirmed_cases\": 633, \"deaths\": 105, \"% deaths\": 0.16587677725118483, \"num of facilities\": 21}, {\"County\": \"Winnebago\", \"confirmed_cases\": 571, \"deaths\": 96, \"% deaths\": 0.1681260945709282, \"num of facilities\": 17}, {\"County\": \"McHenry\", \"confirmed_cases\": 501, \"deaths\": 90, \"% deaths\": 0.17964071856287425, \"num of facilities\": 14}, {\"County\": \"Madison\", \"confirmed_cases\": 376, \"deaths\": 71, \"% deaths\": 0.18882978723404256, \"num of facilities\": 21}, {\"County\": \"Kankakee\", \"confirmed_cases\": 378, \"deaths\": 40, \"% deaths\": 0.10582010582010581, \"num of facilities\": 12}, {\"County\": \"Rock Island\", \"confirmed_cases\": 266, \"deaths\": 35, \"% deaths\": 0.13157894736842105, \"num of facilities\": 14}, {\"County\": \"Peoria\", \"confirmed_cases\": 170, \"deaths\": 29, \"% deaths\": 0.17058823529411765, \"num of facilities\": 9}, {\"County\": \"Sangamon\", \"confirmed_cases\": 168, \"deaths\": 28, \"% deaths\": 0.16666666666666666, \"num of facilities\": 9}, {\"County\": \"DeKalb\", \"confirmed_cases\": 146, \"deaths\": 23, \"% deaths\": 0.15753424657534246, \"num of facilities\": 4}, {\"County\": \"Macon\", \"confirmed_cases\": 119, \"deaths\": 22, \"% deaths\": 0.18487394957983194, \"num of facilities\": 8}, {\"County\": \"Coles\", \"confirmed_cases\": 117, \"deaths\": 20, \"% deaths\": 0.17094017094017094, \"num of facilities\": 5}, {\"County\": \"Union\", \"confirmed_cases\": 132, \"deaths\": 20, \"% deaths\": 0.15151515151515152, \"num of facilities\": 3}, {\"County\": \"Jefferson\", \"confirmed_cases\": 148, \"deaths\": 19, \"% deaths\": 0.12837837837837837, \"num of facilities\": 5}, {\"County\": \"LaSalle\", \"confirmed_cases\": 187, \"deaths\": 19, \"% deaths\": 0.10160427807486631, \"num of facilities\": 7}, {\"County\": \"Clinton\", \"confirmed_cases\": 185, \"deaths\": 16, \"% deaths\": 0.08648648648648649, \"num of facilities\": 4}, {\"County\": \"McDonough\", \"confirmed_cases\": 69, \"deaths\": 16, \"% deaths\": 0.2318840579710145, \"num of facilities\": 3}, {\"County\": \"Boone\", \"confirmed_cases\": 95, \"deaths\": 16, \"% deaths\": 0.16842105263157894, \"num of facilities\": 2}, {\"County\": \"Jackson\", \"confirmed_cases\": 62, \"deaths\": 15, \"% deaths\": 0.24193548387096775, \"num of facilities\": 2}, {\"County\": \"Kendall\", \"confirmed_cases\": 62, \"deaths\": 14, \"% deaths\": 0.22580645161290322, \"num of facilities\": 3}, {\"County\": \"Iroquois\", \"confirmed_cases\": 128, \"deaths\": 12, \"% deaths\": 0.09375, \"num of facilities\": 3}, {\"County\": \"McLean\", \"confirmed_cases\": 67, \"deaths\": 11, \"% deaths\": 0.16417910447761194, \"num of facilities\": 3}, {\"County\": \"Cass\", \"confirmed_cases\": 60, \"deaths\": 11, \"% deaths\": 0.18333333333333332, \"num of facilities\": 2}, {\"County\": \"Monroe\", \"confirmed_cases\": 67, \"deaths\": 11, \"% deaths\": 0.16417910447761194, \"num of facilities\": 4}, {\"County\": \"Whiteside\", \"confirmed_cases\": 78, \"deaths\": 10, \"% deaths\": 0.1282051282051282, \"num of facilities\": 6}, {\"County\": \"Jasper\", \"confirmed_cases\": 49, \"deaths\": 8, \"% deaths\": 0.16326530612244897, \"num of facilities\": 1}, {\"County\": \"Tazewell\", \"confirmed_cases\": 32, \"deaths\": 6, \"% deaths\": 0.1875, \"num of facilities\": 5}, {\"County\": \"Morgan\", \"confirmed_cases\": 78, \"deaths\": 5, \"% deaths\": 0.0641025641025641, \"num of facilities\": 3}, {\"County\": \"Champaign\", \"confirmed_cases\": 51, \"deaths\": 5, \"% deaths\": 0.09803921568627451, \"num of facilities\": 6}, {\"County\": \"Carroll\", \"confirmed_cases\": 20, \"deaths\": 4, \"% deaths\": 0.2, \"num of facilities\": 1}, {\"County\": \"Adams\", \"confirmed_cases\": 35, \"deaths\": 3, \"% deaths\": 0.08571428571428572, \"num of facilities\": 4}, {\"County\": \"Grundy\", \"confirmed_cases\": 34, \"deaths\": 3, \"% deaths\": 0.08823529411764706, \"num of facilities\": 2}, {\"County\": \"Cumberland\", \"confirmed_cases\": 34, \"deaths\": 3, \"% deaths\": 0.08823529411764706, \"num of facilities\": 1}, {\"County\": \"Perry\", \"confirmed_cases\": 51, \"deaths\": 2, \"% deaths\": 0.0392156862745098, \"num of facilities\": 1}, {\"County\": \"Mercer\", \"confirmed_cases\": 12, \"deaths\": 2, \"% deaths\": 0.16666666666666666, \"num of facilities\": 1}, {\"County\": \"Montgomery\", \"confirmed_cases\": 15, \"deaths\": 2, \"% deaths\": 0.13333333333333333, \"num of facilities\": 2}, {\"County\": \"Wayne\", \"confirmed_cases\": 8, \"deaths\": 1, \"% deaths\": 0.125, \"num of facilities\": 2}, {\"County\": \"Lee\", \"confirmed_cases\": 85, \"deaths\": 1, \"% deaths\": 0.011764705882352941, \"num of facilities\": 1}, {\"County\": \"Ford\", \"confirmed_cases\": 26, \"deaths\": 1, \"% deaths\": 0.038461538461538464, \"num of facilities\": 4}, {\"County\": \"Jersey\", \"confirmed_cases\": 19, \"deaths\": 1, \"% deaths\": 0.05263157894736842, \"num of facilities\": 1}, {\"County\": \"Williamson\", \"confirmed_cases\": 2, \"deaths\": 0, \"% deaths\": 0.0, \"num of facilities\": 1}, {\"County\": \"Warren\", \"confirmed_cases\": 2, \"deaths\": 0, \"% deaths\": 0.0, \"num of facilities\": 1}, {\"County\": \"Shelby\", \"confirmed_cases\": 10, \"deaths\": 0, \"% deaths\": 0.0, \"num of facilities\": 3}, {\"County\": \"Stephenson\", \"confirmed_cases\": 2, \"deaths\": 0, \"% deaths\": 0.0, \"num of facilities\": 1}, {\"County\": \"Vermilion\", \"confirmed_cases\": 4, \"deaths\": 0, \"% deaths\": 0.0, \"num of facilities\": 1}, {\"County\": \"Wabash\", \"confirmed_cases\": 6, \"deaths\": 0, \"% deaths\": 0.0, \"num of facilities\": 2}, {\"County\": \"Macoupin\", \"confirmed_cases\": 12, \"deaths\": 0, \"% deaths\": 0.0, \"num of facilities\": 3}, {\"County\": \"Scott\", \"confirmed_cases\": 6, \"deaths\": 0, \"% deaths\": 0.0, \"num of facilities\": 1}, {\"County\": \"Randolph\", \"confirmed_cases\": 9, \"deaths\": 0, \"% deaths\": 0.0, \"num of facilities\": 3}, {\"County\": \"Ogle\", \"confirmed_cases\": 9, \"deaths\": 0, \"% deaths\": 0.0, \"num of facilities\": 2}, {\"County\": \"Moultrie\", \"confirmed_cases\": 5, \"deaths\": 0, \"% deaths\": 0.0, \"num of facilities\": 1}, {\"County\": \"Marion\", \"confirmed_cases\": 2, \"deaths\": 0, \"% deaths\": 0.0, \"num of facilities\": 1}, {\"County\": \"Bond\", \"confirmed_cases\": 4, \"deaths\": 0, \"% deaths\": 0.0, \"num of facilities\": 1}, {\"County\": \"Logan\", \"confirmed_cases\": 3, \"deaths\": 0, \"% deaths\": 0.0, \"num of facilities\": 1}, {\"County\": \"Knox\", \"confirmed_cases\": 13, \"deaths\": 0, \"% deaths\": 0.0, \"num of facilities\": 1}, {\"County\": \"Jo Daviess\", \"confirmed_cases\": 5, \"deaths\": 0, \"% deaths\": 0.0, \"num of facilities\": 2}, {\"County\": \"Clark\", \"confirmed_cases\": 7, \"deaths\": 0, \"% deaths\": 0.0, \"num of facilities\": 1}, {\"County\": \"Christian\", \"confirmed_cases\": 4, \"deaths\": 0, \"% deaths\": 0.0, \"num of facilities\": 2}, {\"County\": \"Bureau\", \"confirmed_cases\": 3, \"deaths\": 0, \"% deaths\": 0.0, \"num of facilities\": 1}, {\"County\": \"Woodford\", \"confirmed_cases\": 2, \"deaths\": 0, \"% deaths\": 0.0, \"num of facilities\": 1}]}}, {\"mode\": \"vega-lite\"});\n",
       "</script>"
      ],
      "text/plain": [
       "alt.HConcatChart(...)"
      ]
     },
     "execution_count": 9,
     "metadata": {},
     "output_type": "execute_result"
    }
   ],
   "source": [
    "import altair as alt\n",
    "df1=df_county.sort_values(by=['deaths'], ascending=False).reset_index()\n",
    "cols = ['Deaths Non LTC', 'LTC Deaths']\n",
    "cols = ['LTC Deaths', 'Deaths Non LTC']\n",
    "\n",
    "\n",
    "chart1 = alt.Chart(df_county.sort_values(by=['deaths'], ascending=False).reset_index()).mark_bar().encode(\n",
    "    x='deaths:Q',\n",
    "    y=alt.Y('County:O', sort='-x'),\n",
    "    tooltip=['County', 'deaths', 'confirmed_cases', '% deaths']\n",
    ")\n",
    "chart2=chart1.encode(x=alt.X('% deaths', axis=alt.Axis(format='%')))\n",
    "#chart2=chart1.encode(x=alt.X('% deaths'))\n",
    "\n",
    "\n",
    "chart1 | chart2"
   ]
  },
  {
   "cell_type": "code",
   "execution_count": 10,
   "metadata": {
    "colab": {},
    "colab_type": "code",
    "id": "lKfOyMwTyyzV",
    "outputId": "2ab0fea3-9b6b-4486-e889-1fef19f0e3db"
   },
   "outputs": [
    {
     "ename": "ModuleNotFoundError",
     "evalue": "No module named 'vega_datasets'",
     "output_type": "error",
     "traceback": [
      "\u001b[0;31m---------------------------------------------------------------------------\u001b[0m",
      "\u001b[0;31mModuleNotFoundError\u001b[0m                       Traceback (most recent call last)",
      "\u001b[0;32m<ipython-input-10-50c1cfff0564>\u001b[0m in \u001b[0;36m<module>\u001b[0;34m\u001b[0m\n\u001b[1;32m      1\u001b[0m \u001b[0;32mimport\u001b[0m \u001b[0maltair\u001b[0m \u001b[0;32mas\u001b[0m \u001b[0malt\u001b[0m\u001b[0;34m\u001b[0m\u001b[0;34m\u001b[0m\u001b[0m\n\u001b[0;32m----> 2\u001b[0;31m \u001b[0;32mfrom\u001b[0m \u001b[0mvega_datasets\u001b[0m \u001b[0;32mimport\u001b[0m \u001b[0mdata\u001b[0m\u001b[0;34m\u001b[0m\u001b[0;34m\u001b[0m\u001b[0m\n\u001b[0m\u001b[1;32m      3\u001b[0m \u001b[0mdf1\u001b[0m\u001b[0;34m=\u001b[0m\u001b[0mdf_county\u001b[0m\u001b[0;34m.\u001b[0m\u001b[0msort_values\u001b[0m\u001b[0;34m(\u001b[0m\u001b[0mby\u001b[0m\u001b[0;34m=\u001b[0m\u001b[0;34m[\u001b[0m\u001b[0;34m'deaths'\u001b[0m\u001b[0;34m]\u001b[0m\u001b[0;34m,\u001b[0m \u001b[0mascending\u001b[0m\u001b[0;34m=\u001b[0m\u001b[0;32mFalse\u001b[0m\u001b[0;34m)\u001b[0m\u001b[0;34m.\u001b[0m\u001b[0mreset_index\u001b[0m\u001b[0;34m(\u001b[0m\u001b[0;34m)\u001b[0m\u001b[0;34m\u001b[0m\u001b[0;34m\u001b[0m\u001b[0m\n\u001b[1;32m      4\u001b[0m \u001b[0mcols\u001b[0m \u001b[0;34m=\u001b[0m \u001b[0;34m[\u001b[0m\u001b[0;34m'Deaths Non LTC'\u001b[0m\u001b[0;34m,\u001b[0m \u001b[0;34m'LTC Deaths'\u001b[0m\u001b[0;34m]\u001b[0m\u001b[0;34m\u001b[0m\u001b[0;34m\u001b[0m\u001b[0m\n\u001b[1;32m      5\u001b[0m \u001b[0mcols\u001b[0m \u001b[0;34m=\u001b[0m \u001b[0;34m[\u001b[0m\u001b[0;34m'LTC Deaths'\u001b[0m\u001b[0;34m,\u001b[0m \u001b[0;34m'Deaths Non LTC'\u001b[0m\u001b[0;34m]\u001b[0m\u001b[0;34m\u001b[0m\u001b[0;34m\u001b[0m\u001b[0m\n",
      "\u001b[0;31mModuleNotFoundError\u001b[0m: No module named 'vega_datasets'"
     ]
    }
   ],
   "source": [
    "import altair as alt\n",
    "from vega_datasets import data\n",
    "df1=df_county.sort_values(by=['deaths'], ascending=False).reset_index()\n",
    "cols = ['Deaths Non LTC', 'LTC Deaths']\n",
    "cols = ['LTC Deaths', 'Deaths Non LTC']\n",
    "\n",
    "\n",
    "chart1 = alt.Chart(df_county.sort_values(by=['deaths'], ascending=False).reset_index()).mark_bar().encode(\n",
    "    x='deaths:Q',\n",
    "    y=alt.Y('County:O'),\n",
    "    tooltip=['County', 'deaths', 'confirmed_cases', '% deaths']\n",
    ")\n",
    "chart2=chart1.encode(x=alt.X('% deaths', axis=alt.Axis(format='%')))\n",
    "#chart2=chart1.encode(x=alt.X('% deaths'))\n",
    "\n",
    "\n",
    "chart1 | chart2 "
   ]
  },
  {
   "cell_type": "code",
   "execution_count": null,
   "metadata": {
    "colab": {},
    "colab_type": "code",
    "id": "h4ivtsiJyyzd"
   },
   "outputs": [],
   "source": [
    "df.sort_values(by=['deaths'], ascending=False).to_csv('IL_LTC_Covid.csv')"
   ]
  },
  {
   "cell_type": "code",
   "execution_count": null,
   "metadata": {
    "colab": {},
    "colab_type": "code",
    "id": "Rd1RZ4ZIyyzh",
    "outputId": "fa910313-2b6d-4cb3-cc8c-9fb9375f435d"
   },
   "outputs": [],
   "source": [
    "df.reporting_date.value_counts()[0]"
   ]
  },
  {
   "cell_type": "code",
   "execution_count": null,
   "metadata": {
    "colab": {},
    "colab_type": "code",
    "id": "QO2ctLpUyyzl"
   },
   "outputs": [],
   "source": [
    "df.head()"
   ]
  },
  {
   "cell_type": "code",
   "execution_count": null,
   "metadata": {},
   "outputs": [],
   "source": [
    "df.sum()"
   ]
  },
  {
   "cell_type": "code",
   "execution_count": null,
   "metadata": {},
   "outputs": [],
   "source": [
    "df2 = pd.read_json(r'../Covid-County-LTC-Analysis/Source_data/IL_2020-05-29LTC_data_Source.json'[FacilityValues])"
   ]
  },
  {
   "cell_type": "code",
   "execution_count": null,
   "metadata": {},
   "outputs": [],
   "source": [
    "int(3103.23)"
   ]
  },
  {
   "cell_type": "code",
   "execution_count": null,
   "metadata": {},
   "outputs": [],
   "source": [
    "len(str(3103))"
   ]
  },
  {
   "cell_type": "code",
   "execution_count": null,
   "metadata": {},
   "outputs": [],
   "source": [
    "def roundUp(n):\n",
    "    '''Round up to set axis upper limit'''\n",
    "    n1 = 10**(len(str(int(n))) - 2)\n",
    "    return int(n/n1+1)*n1"
   ]
  },
  {
   "cell_type": "code",
   "execution_count": null,
   "metadata": {},
   "outputs": [],
   "source": [
    "n=3103.23\n",
    "n1=10**(len(str(int(n))) - 2)\n",
    "int(n/n1+1)*n1"
   ]
  },
  {
   "cell_type": "code",
   "execution_count": null,
   "metadata": {},
   "outputs": [],
   "source": [
    "print(roundUp(3199.33))\n",
    "print(roundUp(39.33))"
   ]
  },
  {
   "cell_type": "code",
   "execution_count": null,
   "metadata": {},
   "outputs": [],
   "source": [
    "n=33.8\n",
    "n1 = 10 ** (len(str(int(n))) - 2)\n",
    "if n1 <0: n1 = 2\n",
    "print (n, n1)\n",
    "int(int(n / n1 + 1) * n1)"
   ]
  },
  {
   "cell_type": "code",
   "execution_count": null,
   "metadata": {},
   "outputs": [],
   "source": [
    "n1"
   ]
  },
  {
   "cell_type": "code",
   "execution_count": null,
   "metadata": {},
   "outputs": [],
   "source": [
    "int(n)"
   ]
  },
  {
   "cell_type": "code",
   "execution_count": null,
   "metadata": {},
   "outputs": [],
   "source": []
  }
 ],
 "metadata": {
  "colab": {
   "name": "IL LTC Data Analysis.ipynb",
   "provenance": []
  },
  "kernelspec": {
   "display_name": "Python 3",
   "language": "python",
   "name": "python3"
  },
  "language_info": {
   "codemirror_mode": {
    "name": "ipython",
    "version": 3
   },
   "file_extension": ".py",
   "mimetype": "text/x-python",
   "name": "python",
   "nbconvert_exporter": "python",
   "pygments_lexer": "ipython3",
   "version": "3.7.6"
  }
 },
 "nbformat": 4,
 "nbformat_minor": 4
}
