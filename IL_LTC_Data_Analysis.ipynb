{
 "cells": [
  {
   "cell_type": "code",
   "execution_count": 1,
   "metadata": {
    "colab": {},
    "colab_type": "code",
    "id": "r3I8QTIvyyyJ"
   },
   "outputs": [],
   "source": [
    "import pandas as pd\n",
    "import urllib3 as urllib\n",
    "import json\n",
    "import IPython.display"
   ]
  },
  {
   "cell_type": "code",
   "execution_count": 2,
   "metadata": {
    "colab": {},
    "colab_type": "code",
    "id": "0DpPxHYpyyyQ"
   },
   "outputs": [],
   "source": [
    "http = urllib.PoolManager()\n",
    "\n",
    "def getResponse(url):\n",
    "    operUrl = http.request('GET', url)\n",
    "    if(operUrl.status==200):\n",
    "        data = operUrl.data\n",
    "        jsonData = json.loads(data.decode('utf-8'))\n",
    "    else:\n",
    "        print(\"Error receiving data\", operUrl.getcode())\n",
    "    return jsonData"
   ]
  },
  {
   "cell_type": "code",
   "execution_count": 3,
   "metadata": {
    "colab": {},
    "colab_type": "code",
    "id": "rtSr_6rEyyyZ"
   },
   "outputs": [],
   "source": [
    "ltc_data = getResponse('http://www.dph.illinois.gov/sitefiles/COVIDLTC.json')\n",
    "reporting_date = '%d-%02d-%02d' %(ltc_data['LastUpdateDate']['year'], ltc_data['LastUpdateDate']['month'], ltc_data['LastUpdateDate']['day'])"
   ]
  },
  {
   "cell_type": "code",
   "execution_count": 4,
   "metadata": {},
   "outputs": [],
   "source": [
    "#Saving a copy of source data \n",
    "ltc_data_json = json.dumps(ltc_data)\n",
    "\n",
    "f = open(\"Source_data/IL_\" + reporting_date + \"LTC_data_Source.json\",\"w\")\n",
    "f.write(ltc_data_json)\n",
    "f.close()"
   ]
  },
  {
   "cell_type": "code",
   "execution_count": 5,
   "metadata": {
    "colab": {},
    "colab_type": "code",
    "id": "ubmsF36syyyn"
   },
   "outputs": [],
   "source": [
    "df = pd.DataFrame(ltc_data['FacilityValues'])\n",
    "df['reporting_date'] = reporting_date\n",
    "df['% deaths'] = df['deaths'] / df['confirmed_cases']\n",
    "df['num of facilities'] = 1 "
   ]
  },
  {
   "cell_type": "code",
   "execution_count": 6,
   "metadata": {},
   "outputs": [],
   "source": [
    "df.to_csv('Reporting_data/IL_' + reporting_date + '_LTC_data_.csv', index = False)"
   ]
  },
  {
   "cell_type": "code",
   "execution_count": 7,
   "metadata": {
    "colab": {
     "base_uri": "https://localhost:8080/",
     "height": 67
    },
    "colab_type": "code",
    "id": "eBdmRkxzyyyx",
    "outputId": "e0123e5e-d68a-456a-f1b1-309334ca1a77"
   },
   "outputs": [
    {
     "name": "stdout",
     "output_type": "stream",
     "text": [
      "Date: 2020-07-17\n",
      "Cases: 23403\n",
      "Deaths:  3974\n",
      "Facilities: 643\n"
     ]
    }
   ],
   "source": [
    "a = df.sum()\n",
    "print ('Date: %s' % reporting_date)\n",
    "print ('Cases: %d' % a.confirmed_cases)\n",
    "print ('Deaths:  %d'% a.deaths)\n",
    "print ('Facilities: %d' % df.reporting_date.value_counts()[0])"
   ]
  },
  {
   "cell_type": "code",
   "execution_count": 8,
   "metadata": {
    "colab": {
     "base_uri": "https://localhost:8080/",
     "height": 1000
    },
    "colab_type": "code",
    "id": "xSXUDYotyyzA",
    "outputId": "8066eaf5-6bbd-4311-de99-64fef7efc3d7"
   },
   "outputs": [
    {
     "data": {
      "text/html": [
       "<div>\n",
       "<style scoped>\n",
       "    .dataframe tbody tr th:only-of-type {\n",
       "        vertical-align: middle;\n",
       "    }\n",
       "\n",
       "    .dataframe tbody tr th {\n",
       "        vertical-align: top;\n",
       "    }\n",
       "\n",
       "    .dataframe thead th {\n",
       "        text-align: right;\n",
       "    }\n",
       "</style>\n",
       "<table border=\"1\" class=\"dataframe\">\n",
       "  <thead>\n",
       "    <tr style=\"text-align: right;\">\n",
       "      <th></th>\n",
       "      <th>confirmed_cases</th>\n",
       "      <th>deaths</th>\n",
       "      <th>% deaths</th>\n",
       "      <th>num of facilities</th>\n",
       "    </tr>\n",
       "    <tr>\n",
       "      <th>County</th>\n",
       "      <th></th>\n",
       "      <th></th>\n",
       "      <th></th>\n",
       "      <th></th>\n",
       "    </tr>\n",
       "  </thead>\n",
       "  <tbody>\n",
       "    <tr>\n",
       "      <th>Cook</th>\n",
       "      <td>13396</td>\n",
       "      <td>2295</td>\n",
       "      <td>0.171320</td>\n",
       "      <td>286</td>\n",
       "    </tr>\n",
       "    <tr>\n",
       "      <th>DuPage</th>\n",
       "      <td>2209</td>\n",
       "      <td>396</td>\n",
       "      <td>0.179267</td>\n",
       "      <td>59</td>\n",
       "    </tr>\n",
       "    <tr>\n",
       "      <th>Lake</th>\n",
       "      <td>1668</td>\n",
       "      <td>284</td>\n",
       "      <td>0.170264</td>\n",
       "      <td>48</td>\n",
       "    </tr>\n",
       "    <tr>\n",
       "      <th>Kane</th>\n",
       "      <td>1009</td>\n",
       "      <td>171</td>\n",
       "      <td>0.169475</td>\n",
       "      <td>37</td>\n",
       "    </tr>\n",
       "    <tr>\n",
       "      <th>Will</th>\n",
       "      <td>826</td>\n",
       "      <td>155</td>\n",
       "      <td>0.187651</td>\n",
       "      <td>33</td>\n",
       "    </tr>\n",
       "    <tr>\n",
       "      <th>St. Clair</th>\n",
       "      <td>578</td>\n",
       "      <td>99</td>\n",
       "      <td>0.171280</td>\n",
       "      <td>18</td>\n",
       "    </tr>\n",
       "    <tr>\n",
       "      <th>McHenry</th>\n",
       "      <td>477</td>\n",
       "      <td>84</td>\n",
       "      <td>0.176101</td>\n",
       "      <td>14</td>\n",
       "    </tr>\n",
       "    <tr>\n",
       "      <th>Winnebago</th>\n",
       "      <td>418</td>\n",
       "      <td>66</td>\n",
       "      <td>0.157895</td>\n",
       "      <td>17</td>\n",
       "    </tr>\n",
       "    <tr>\n",
       "      <th>Madison</th>\n",
       "      <td>302</td>\n",
       "      <td>61</td>\n",
       "      <td>0.201987</td>\n",
       "      <td>14</td>\n",
       "    </tr>\n",
       "    <tr>\n",
       "      <th>Kankakee</th>\n",
       "      <td>330</td>\n",
       "      <td>41</td>\n",
       "      <td>0.124242</td>\n",
       "      <td>12</td>\n",
       "    </tr>\n",
       "    <tr>\n",
       "      <th>Sangamon</th>\n",
       "      <td>148</td>\n",
       "      <td>28</td>\n",
       "      <td>0.189189</td>\n",
       "      <td>6</td>\n",
       "    </tr>\n",
       "    <tr>\n",
       "      <th>Peoria</th>\n",
       "      <td>147</td>\n",
       "      <td>26</td>\n",
       "      <td>0.176871</td>\n",
       "      <td>7</td>\n",
       "    </tr>\n",
       "    <tr>\n",
       "      <th>Rock Island</th>\n",
       "      <td>191</td>\n",
       "      <td>23</td>\n",
       "      <td>0.120419</td>\n",
       "      <td>11</td>\n",
       "    </tr>\n",
       "    <tr>\n",
       "      <th>Macon</th>\n",
       "      <td>104</td>\n",
       "      <td>22</td>\n",
       "      <td>0.211538</td>\n",
       "      <td>5</td>\n",
       "    </tr>\n",
       "    <tr>\n",
       "      <th>Union</th>\n",
       "      <td>130</td>\n",
       "      <td>18</td>\n",
       "      <td>0.138462</td>\n",
       "      <td>3</td>\n",
       "    </tr>\n",
       "    <tr>\n",
       "      <th>Clinton</th>\n",
       "      <td>183</td>\n",
       "      <td>17</td>\n",
       "      <td>0.092896</td>\n",
       "      <td>4</td>\n",
       "    </tr>\n",
       "    <tr>\n",
       "      <th>Jefferson</th>\n",
       "      <td>73</td>\n",
       "      <td>16</td>\n",
       "      <td>0.219178</td>\n",
       "      <td>1</td>\n",
       "    </tr>\n",
       "    <tr>\n",
       "      <th>McDonough</th>\n",
       "      <td>69</td>\n",
       "      <td>16</td>\n",
       "      <td>0.231884</td>\n",
       "      <td>3</td>\n",
       "    </tr>\n",
       "    <tr>\n",
       "      <th>Coles</th>\n",
       "      <td>90</td>\n",
       "      <td>16</td>\n",
       "      <td>0.177778</td>\n",
       "      <td>2</td>\n",
       "    </tr>\n",
       "    <tr>\n",
       "      <th>Jackson</th>\n",
       "      <td>56</td>\n",
       "      <td>15</td>\n",
       "      <td>0.267857</td>\n",
       "      <td>2</td>\n",
       "    </tr>\n",
       "    <tr>\n",
       "      <th>DeKalb</th>\n",
       "      <td>123</td>\n",
       "      <td>15</td>\n",
       "      <td>0.121951</td>\n",
       "      <td>4</td>\n",
       "    </tr>\n",
       "    <tr>\n",
       "      <th>Boone</th>\n",
       "      <td>93</td>\n",
       "      <td>14</td>\n",
       "      <td>0.150538</td>\n",
       "      <td>2</td>\n",
       "    </tr>\n",
       "    <tr>\n",
       "      <th>Kendall</th>\n",
       "      <td>61</td>\n",
       "      <td>14</td>\n",
       "      <td>0.229508</td>\n",
       "      <td>3</td>\n",
       "    </tr>\n",
       "    <tr>\n",
       "      <th>Monroe</th>\n",
       "      <td>52</td>\n",
       "      <td>11</td>\n",
       "      <td>0.211538</td>\n",
       "      <td>3</td>\n",
       "    </tr>\n",
       "    <tr>\n",
       "      <th>McLean</th>\n",
       "      <td>63</td>\n",
       "      <td>11</td>\n",
       "      <td>0.174603</td>\n",
       "      <td>2</td>\n",
       "    </tr>\n",
       "    <tr>\n",
       "      <th>LaSalle</th>\n",
       "      <td>49</td>\n",
       "      <td>10</td>\n",
       "      <td>0.204082</td>\n",
       "      <td>2</td>\n",
       "    </tr>\n",
       "    <tr>\n",
       "      <th>Whiteside</th>\n",
       "      <td>70</td>\n",
       "      <td>10</td>\n",
       "      <td>0.142857</td>\n",
       "      <td>6</td>\n",
       "    </tr>\n",
       "    <tr>\n",
       "      <th>Cass</th>\n",
       "      <td>57</td>\n",
       "      <td>10</td>\n",
       "      <td>0.175439</td>\n",
       "      <td>1</td>\n",
       "    </tr>\n",
       "    <tr>\n",
       "      <th>Jasper</th>\n",
       "      <td>49</td>\n",
       "      <td>8</td>\n",
       "      <td>0.163265</td>\n",
       "      <td>1</td>\n",
       "    </tr>\n",
       "    <tr>\n",
       "      <th>Tazewell</th>\n",
       "      <td>26</td>\n",
       "      <td>6</td>\n",
       "      <td>0.230769</td>\n",
       "      <td>2</td>\n",
       "    </tr>\n",
       "    <tr>\n",
       "      <th>Champaign</th>\n",
       "      <td>39</td>\n",
       "      <td>4</td>\n",
       "      <td>0.102564</td>\n",
       "      <td>4</td>\n",
       "    </tr>\n",
       "    <tr>\n",
       "      <th>Iroquois</th>\n",
       "      <td>55</td>\n",
       "      <td>4</td>\n",
       "      <td>0.072727</td>\n",
       "      <td>3</td>\n",
       "    </tr>\n",
       "    <tr>\n",
       "      <th>Morgan</th>\n",
       "      <td>64</td>\n",
       "      <td>3</td>\n",
       "      <td>0.046875</td>\n",
       "      <td>1</td>\n",
       "    </tr>\n",
       "    <tr>\n",
       "      <th>Grundy</th>\n",
       "      <td>34</td>\n",
       "      <td>3</td>\n",
       "      <td>0.088235</td>\n",
       "      <td>2</td>\n",
       "    </tr>\n",
       "    <tr>\n",
       "      <th>Wayne</th>\n",
       "      <td>8</td>\n",
       "      <td>1</td>\n",
       "      <td>0.125000</td>\n",
       "      <td>2</td>\n",
       "    </tr>\n",
       "    <tr>\n",
       "      <th>Lee</th>\n",
       "      <td>76</td>\n",
       "      <td>1</td>\n",
       "      <td>0.013158</td>\n",
       "      <td>1</td>\n",
       "    </tr>\n",
       "    <tr>\n",
       "      <th>Ogle</th>\n",
       "      <td>8</td>\n",
       "      <td>0</td>\n",
       "      <td>0.000000</td>\n",
       "      <td>2</td>\n",
       "    </tr>\n",
       "    <tr>\n",
       "      <th>Montgomery</th>\n",
       "      <td>15</td>\n",
       "      <td>0</td>\n",
       "      <td>0.000000</td>\n",
       "      <td>2</td>\n",
       "    </tr>\n",
       "    <tr>\n",
       "      <th>Randolph</th>\n",
       "      <td>4</td>\n",
       "      <td>0</td>\n",
       "      <td>0.000000</td>\n",
       "      <td>2</td>\n",
       "    </tr>\n",
       "    <tr>\n",
       "      <th>Macoupin</th>\n",
       "      <td>6</td>\n",
       "      <td>0</td>\n",
       "      <td>0.000000</td>\n",
       "      <td>2</td>\n",
       "    </tr>\n",
       "    <tr>\n",
       "      <th>Logan</th>\n",
       "      <td>2</td>\n",
       "      <td>0</td>\n",
       "      <td>0.000000</td>\n",
       "      <td>1</td>\n",
       "    </tr>\n",
       "    <tr>\n",
       "      <th>Shelby</th>\n",
       "      <td>8</td>\n",
       "      <td>0</td>\n",
       "      <td>0.000000</td>\n",
       "      <td>2</td>\n",
       "    </tr>\n",
       "    <tr>\n",
       "      <th>Bond</th>\n",
       "      <td>3</td>\n",
       "      <td>0</td>\n",
       "      <td>0.000000</td>\n",
       "      <td>1</td>\n",
       "    </tr>\n",
       "    <tr>\n",
       "      <th>Stephenson</th>\n",
       "      <td>2</td>\n",
       "      <td>0</td>\n",
       "      <td>0.000000</td>\n",
       "      <td>1</td>\n",
       "    </tr>\n",
       "    <tr>\n",
       "      <th>Jo Daviess</th>\n",
       "      <td>2</td>\n",
       "      <td>0</td>\n",
       "      <td>0.000000</td>\n",
       "      <td>1</td>\n",
       "    </tr>\n",
       "    <tr>\n",
       "      <th>Ford</th>\n",
       "      <td>11</td>\n",
       "      <td>0</td>\n",
       "      <td>0.000000</td>\n",
       "      <td>3</td>\n",
       "    </tr>\n",
       "    <tr>\n",
       "      <th>Effingham</th>\n",
       "      <td>3</td>\n",
       "      <td>0</td>\n",
       "      <td>0.000000</td>\n",
       "      <td>1</td>\n",
       "    </tr>\n",
       "    <tr>\n",
       "      <th>Clark</th>\n",
       "      <td>3</td>\n",
       "      <td>0</td>\n",
       "      <td>0.000000</td>\n",
       "      <td>1</td>\n",
       "    </tr>\n",
       "    <tr>\n",
       "      <th>Christian</th>\n",
       "      <td>2</td>\n",
       "      <td>0</td>\n",
       "      <td>0.000000</td>\n",
       "      <td>1</td>\n",
       "    </tr>\n",
       "    <tr>\n",
       "      <th>Williamson</th>\n",
       "      <td>2</td>\n",
       "      <td>0</td>\n",
       "      <td>0.000000</td>\n",
       "      <td>1</td>\n",
       "    </tr>\n",
       "    <tr>\n",
       "      <th>Adams</th>\n",
       "      <td>9</td>\n",
       "      <td>0</td>\n",
       "      <td>0.000000</td>\n",
       "      <td>1</td>\n",
       "    </tr>\n",
       "  </tbody>\n",
       "</table>\n",
       "</div>"
      ],
      "text/plain": [
       "             confirmed_cases  deaths  % deaths  num of facilities\n",
       "County                                                           \n",
       "Cook                   13396    2295  0.171320                286\n",
       "DuPage                  2209     396  0.179267                 59\n",
       "Lake                    1668     284  0.170264                 48\n",
       "Kane                    1009     171  0.169475                 37\n",
       "Will                     826     155  0.187651                 33\n",
       "St. Clair                578      99  0.171280                 18\n",
       "McHenry                  477      84  0.176101                 14\n",
       "Winnebago                418      66  0.157895                 17\n",
       "Madison                  302      61  0.201987                 14\n",
       "Kankakee                 330      41  0.124242                 12\n",
       "Sangamon                 148      28  0.189189                  6\n",
       "Peoria                   147      26  0.176871                  7\n",
       "Rock Island              191      23  0.120419                 11\n",
       "Macon                    104      22  0.211538                  5\n",
       "Union                    130      18  0.138462                  3\n",
       "Clinton                  183      17  0.092896                  4\n",
       "Jefferson                 73      16  0.219178                  1\n",
       "McDonough                 69      16  0.231884                  3\n",
       "Coles                     90      16  0.177778                  2\n",
       "Jackson                   56      15  0.267857                  2\n",
       "DeKalb                   123      15  0.121951                  4\n",
       "Boone                     93      14  0.150538                  2\n",
       "Kendall                   61      14  0.229508                  3\n",
       "Monroe                    52      11  0.211538                  3\n",
       "McLean                    63      11  0.174603                  2\n",
       "LaSalle                   49      10  0.204082                  2\n",
       "Whiteside                 70      10  0.142857                  6\n",
       "Cass                      57      10  0.175439                  1\n",
       "Jasper                    49       8  0.163265                  1\n",
       "Tazewell                  26       6  0.230769                  2\n",
       "Champaign                 39       4  0.102564                  4\n",
       "Iroquois                  55       4  0.072727                  3\n",
       "Morgan                    64       3  0.046875                  1\n",
       "Grundy                    34       3  0.088235                  2\n",
       "Wayne                      8       1  0.125000                  2\n",
       "Lee                       76       1  0.013158                  1\n",
       "Ogle                       8       0  0.000000                  2\n",
       "Montgomery                15       0  0.000000                  2\n",
       "Randolph                   4       0  0.000000                  2\n",
       "Macoupin                   6       0  0.000000                  2\n",
       "Logan                      2       0  0.000000                  1\n",
       "Shelby                     8       0  0.000000                  2\n",
       "Bond                       3       0  0.000000                  1\n",
       "Stephenson                 2       0  0.000000                  1\n",
       "Jo Daviess                 2       0  0.000000                  1\n",
       "Ford                      11       0  0.000000                  3\n",
       "Effingham                  3       0  0.000000                  1\n",
       "Clark                      3       0  0.000000                  1\n",
       "Christian                  2       0  0.000000                  1\n",
       "Williamson                 2       0  0.000000                  1\n",
       "Adams                      9       0  0.000000                  1"
      ]
     },
     "execution_count": 8,
     "metadata": {},
     "output_type": "execute_result"
    }
   ],
   "source": [
    "df_county = df.groupby(by=['County']).sum()\n",
    "df_county['% deaths'] = (df_county['deaths'] / df_county['confirmed_cases'])\n",
    "df_county.sort_values('deaths', ascending=False)"
   ]
  },
  {
   "cell_type": "code",
   "execution_count": 9,
   "metadata": {
    "colab": {
     "base_uri": "https://localhost:8080/",
     "height": 885
    },
    "colab_type": "code",
    "id": "XwtrMuSVyyzL",
    "outputId": "1c9bb650-b588-4f90-f329-5c14ba8a5385"
   },
   "outputs": [
    {
     "data": {
      "text/html": [
       "\n",
       "<div id=\"altair-viz-23a3ac024db3437e86a1f32cf6f6f5bf\"></div>\n",
       "<script type=\"text/javascript\">\n",
       "  (function(spec, embedOpt){\n",
       "    let outputDiv = document.currentScript.previousElementSibling;\n",
       "    if (outputDiv.id !== \"altair-viz-23a3ac024db3437e86a1f32cf6f6f5bf\") {\n",
       "      outputDiv = document.getElementById(\"altair-viz-23a3ac024db3437e86a1f32cf6f6f5bf\");\n",
       "    }\n",
       "    const paths = {\n",
       "      \"vega\": \"https://cdn.jsdelivr.net/npm//vega@5?noext\",\n",
       "      \"vega-lib\": \"https://cdn.jsdelivr.net/npm//vega-lib?noext\",\n",
       "      \"vega-lite\": \"https://cdn.jsdelivr.net/npm//vega-lite@4.8.1?noext\",\n",
       "      \"vega-embed\": \"https://cdn.jsdelivr.net/npm//vega-embed@6?noext\",\n",
       "    };\n",
       "\n",
       "    function loadScript(lib) {\n",
       "      return new Promise(function(resolve, reject) {\n",
       "        var s = document.createElement('script');\n",
       "        s.src = paths[lib];\n",
       "        s.async = true;\n",
       "        s.onload = () => resolve(paths[lib]);\n",
       "        s.onerror = () => reject(`Error loading script: ${paths[lib]}`);\n",
       "        document.getElementsByTagName(\"head\")[0].appendChild(s);\n",
       "      });\n",
       "    }\n",
       "\n",
       "    function showError(err) {\n",
       "      outputDiv.innerHTML = `<div class=\"error\" style=\"color:red;\">${err}</div>`;\n",
       "      throw err;\n",
       "    }\n",
       "\n",
       "    function displayChart(vegaEmbed) {\n",
       "      vegaEmbed(outputDiv, spec, embedOpt)\n",
       "        .catch(err => showError(`Javascript Error: ${err.message}<br>This usually means there's a typo in your chart specification. See the javascript console for the full traceback.`));\n",
       "    }\n",
       "\n",
       "    if(typeof define === \"function\" && define.amd) {\n",
       "      requirejs.config({paths});\n",
       "      require([\"vega-embed\"], displayChart, err => showError(`Error loading script: ${err.message}`));\n",
       "    } else if (typeof vegaEmbed === \"function\") {\n",
       "      displayChart(vegaEmbed);\n",
       "    } else {\n",
       "      loadScript(\"vega\")\n",
       "        .then(() => loadScript(\"vega-lite\"))\n",
       "        .then(() => loadScript(\"vega-embed\"))\n",
       "        .catch(showError)\n",
       "        .then(() => displayChart(vegaEmbed));\n",
       "    }\n",
       "  })({\"config\": {\"view\": {\"continuousWidth\": 400, \"continuousHeight\": 300}}, \"hconcat\": [{\"mark\": \"bar\", \"encoding\": {\"tooltip\": [{\"type\": \"nominal\", \"field\": \"County\"}, {\"type\": \"quantitative\", \"field\": \"deaths\"}, {\"type\": \"quantitative\", \"field\": \"confirmed_cases\"}, {\"type\": \"quantitative\", \"field\": \"% deaths\"}], \"x\": {\"type\": \"quantitative\", \"field\": \"deaths\"}, \"y\": {\"type\": \"ordinal\", \"field\": \"County\", \"sort\": \"-x\"}}}, {\"mark\": \"bar\", \"encoding\": {\"tooltip\": [{\"type\": \"nominal\", \"field\": \"County\"}, {\"type\": \"quantitative\", \"field\": \"deaths\"}, {\"type\": \"quantitative\", \"field\": \"confirmed_cases\"}, {\"type\": \"quantitative\", \"field\": \"% deaths\"}], \"x\": {\"type\": \"quantitative\", \"axis\": {\"format\": \"%\"}, \"field\": \"% deaths\"}, \"y\": {\"type\": \"ordinal\", \"field\": \"County\", \"sort\": \"-x\"}}}], \"data\": {\"name\": \"data-83326e8a2d24994ba4631a712f3c9a80\"}, \"$schema\": \"https://vega.github.io/schema/vega-lite/v4.8.1.json\", \"datasets\": {\"data-83326e8a2d24994ba4631a712f3c9a80\": [{\"County\": \"Cook\", \"confirmed_cases\": 13396, \"deaths\": 2295, \"% deaths\": 0.1713197969543147, \"num of facilities\": 286}, {\"County\": \"DuPage\", \"confirmed_cases\": 2209, \"deaths\": 396, \"% deaths\": 0.17926663648709823, \"num of facilities\": 59}, {\"County\": \"Lake\", \"confirmed_cases\": 1668, \"deaths\": 284, \"% deaths\": 0.17026378896882494, \"num of facilities\": 48}, {\"County\": \"Kane\", \"confirmed_cases\": 1009, \"deaths\": 171, \"% deaths\": 0.1694747274529237, \"num of facilities\": 37}, {\"County\": \"Will\", \"confirmed_cases\": 826, \"deaths\": 155, \"% deaths\": 0.18765133171912832, \"num of facilities\": 33}, {\"County\": \"St. Clair\", \"confirmed_cases\": 578, \"deaths\": 99, \"% deaths\": 0.17128027681660898, \"num of facilities\": 18}, {\"County\": \"McHenry\", \"confirmed_cases\": 477, \"deaths\": 84, \"% deaths\": 0.1761006289308176, \"num of facilities\": 14}, {\"County\": \"Winnebago\", \"confirmed_cases\": 418, \"deaths\": 66, \"% deaths\": 0.15789473684210525, \"num of facilities\": 17}, {\"County\": \"Madison\", \"confirmed_cases\": 302, \"deaths\": 61, \"% deaths\": 0.20198675496688742, \"num of facilities\": 14}, {\"County\": \"Kankakee\", \"confirmed_cases\": 330, \"deaths\": 41, \"% deaths\": 0.12424242424242424, \"num of facilities\": 12}, {\"County\": \"Sangamon\", \"confirmed_cases\": 148, \"deaths\": 28, \"% deaths\": 0.1891891891891892, \"num of facilities\": 6}, {\"County\": \"Peoria\", \"confirmed_cases\": 147, \"deaths\": 26, \"% deaths\": 0.17687074829931973, \"num of facilities\": 7}, {\"County\": \"Rock Island\", \"confirmed_cases\": 191, \"deaths\": 23, \"% deaths\": 0.12041884816753927, \"num of facilities\": 11}, {\"County\": \"Macon\", \"confirmed_cases\": 104, \"deaths\": 22, \"% deaths\": 0.21153846153846154, \"num of facilities\": 5}, {\"County\": \"Union\", \"confirmed_cases\": 130, \"deaths\": 18, \"% deaths\": 0.13846153846153847, \"num of facilities\": 3}, {\"County\": \"Clinton\", \"confirmed_cases\": 183, \"deaths\": 17, \"% deaths\": 0.09289617486338798, \"num of facilities\": 4}, {\"County\": \"Jefferson\", \"confirmed_cases\": 73, \"deaths\": 16, \"% deaths\": 0.2191780821917808, \"num of facilities\": 1}, {\"County\": \"McDonough\", \"confirmed_cases\": 69, \"deaths\": 16, \"% deaths\": 0.2318840579710145, \"num of facilities\": 3}, {\"County\": \"Coles\", \"confirmed_cases\": 90, \"deaths\": 16, \"% deaths\": 0.17777777777777778, \"num of facilities\": 2}, {\"County\": \"Jackson\", \"confirmed_cases\": 56, \"deaths\": 15, \"% deaths\": 0.26785714285714285, \"num of facilities\": 2}, {\"County\": \"DeKalb\", \"confirmed_cases\": 123, \"deaths\": 15, \"% deaths\": 0.12195121951219512, \"num of facilities\": 4}, {\"County\": \"Boone\", \"confirmed_cases\": 93, \"deaths\": 14, \"% deaths\": 0.15053763440860216, \"num of facilities\": 2}, {\"County\": \"Kendall\", \"confirmed_cases\": 61, \"deaths\": 14, \"% deaths\": 0.22950819672131148, \"num of facilities\": 3}, {\"County\": \"Monroe\", \"confirmed_cases\": 52, \"deaths\": 11, \"% deaths\": 0.21153846153846154, \"num of facilities\": 3}, {\"County\": \"McLean\", \"confirmed_cases\": 63, \"deaths\": 11, \"% deaths\": 0.1746031746031746, \"num of facilities\": 2}, {\"County\": \"LaSalle\", \"confirmed_cases\": 49, \"deaths\": 10, \"% deaths\": 0.20408163265306123, \"num of facilities\": 2}, {\"County\": \"Whiteside\", \"confirmed_cases\": 70, \"deaths\": 10, \"% deaths\": 0.14285714285714285, \"num of facilities\": 6}, {\"County\": \"Cass\", \"confirmed_cases\": 57, \"deaths\": 10, \"% deaths\": 0.17543859649122806, \"num of facilities\": 1}, {\"County\": \"Jasper\", \"confirmed_cases\": 49, \"deaths\": 8, \"% deaths\": 0.16326530612244897, \"num of facilities\": 1}, {\"County\": \"Tazewell\", \"confirmed_cases\": 26, \"deaths\": 6, \"% deaths\": 0.23076923076923078, \"num of facilities\": 2}, {\"County\": \"Champaign\", \"confirmed_cases\": 39, \"deaths\": 4, \"% deaths\": 0.10256410256410256, \"num of facilities\": 4}, {\"County\": \"Iroquois\", \"confirmed_cases\": 55, \"deaths\": 4, \"% deaths\": 0.07272727272727272, \"num of facilities\": 3}, {\"County\": \"Morgan\", \"confirmed_cases\": 64, \"deaths\": 3, \"% deaths\": 0.046875, \"num of facilities\": 1}, {\"County\": \"Grundy\", \"confirmed_cases\": 34, \"deaths\": 3, \"% deaths\": 0.08823529411764706, \"num of facilities\": 2}, {\"County\": \"Wayne\", \"confirmed_cases\": 8, \"deaths\": 1, \"% deaths\": 0.125, \"num of facilities\": 2}, {\"County\": \"Lee\", \"confirmed_cases\": 76, \"deaths\": 1, \"% deaths\": 0.013157894736842105, \"num of facilities\": 1}, {\"County\": \"Ogle\", \"confirmed_cases\": 8, \"deaths\": 0, \"% deaths\": 0.0, \"num of facilities\": 2}, {\"County\": \"Montgomery\", \"confirmed_cases\": 15, \"deaths\": 0, \"% deaths\": 0.0, \"num of facilities\": 2}, {\"County\": \"Randolph\", \"confirmed_cases\": 4, \"deaths\": 0, \"% deaths\": 0.0, \"num of facilities\": 2}, {\"County\": \"Macoupin\", \"confirmed_cases\": 6, \"deaths\": 0, \"% deaths\": 0.0, \"num of facilities\": 2}, {\"County\": \"Logan\", \"confirmed_cases\": 2, \"deaths\": 0, \"% deaths\": 0.0, \"num of facilities\": 1}, {\"County\": \"Shelby\", \"confirmed_cases\": 8, \"deaths\": 0, \"% deaths\": 0.0, \"num of facilities\": 2}, {\"County\": \"Bond\", \"confirmed_cases\": 3, \"deaths\": 0, \"% deaths\": 0.0, \"num of facilities\": 1}, {\"County\": \"Stephenson\", \"confirmed_cases\": 2, \"deaths\": 0, \"% deaths\": 0.0, \"num of facilities\": 1}, {\"County\": \"Jo Daviess\", \"confirmed_cases\": 2, \"deaths\": 0, \"% deaths\": 0.0, \"num of facilities\": 1}, {\"County\": \"Ford\", \"confirmed_cases\": 11, \"deaths\": 0, \"% deaths\": 0.0, \"num of facilities\": 3}, {\"County\": \"Effingham\", \"confirmed_cases\": 3, \"deaths\": 0, \"% deaths\": 0.0, \"num of facilities\": 1}, {\"County\": \"Clark\", \"confirmed_cases\": 3, \"deaths\": 0, \"% deaths\": 0.0, \"num of facilities\": 1}, {\"County\": \"Christian\", \"confirmed_cases\": 2, \"deaths\": 0, \"% deaths\": 0.0, \"num of facilities\": 1}, {\"County\": \"Williamson\", \"confirmed_cases\": 2, \"deaths\": 0, \"% deaths\": 0.0, \"num of facilities\": 1}, {\"County\": \"Adams\", \"confirmed_cases\": 9, \"deaths\": 0, \"% deaths\": 0.0, \"num of facilities\": 1}]}}, {\"mode\": \"vega-lite\"});\n",
       "</script>"
      ],
      "text/plain": [
       "alt.HConcatChart(...)"
      ]
     },
     "execution_count": 9,
     "metadata": {},
     "output_type": "execute_result"
    }
   ],
   "source": [
    "import altair as alt\n",
    "df1=df_county.sort_values(by=['deaths'], ascending=False).reset_index()\n",
    "cols = ['Deaths Non LTC', 'LTC Deaths']\n",
    "cols = ['LTC Deaths', 'Deaths Non LTC']\n",
    "\n",
    "\n",
    "chart1 = alt.Chart(df_county.sort_values(by=['deaths'], ascending=False).reset_index()).mark_bar().encode(\n",
    "    x='deaths:Q',\n",
    "    y=alt.Y('County:O', sort='-x'),\n",
    "    tooltip=['County', 'deaths', 'confirmed_cases', '% deaths']\n",
    ")\n",
    "chart2=chart1.encode(x=alt.X('% deaths', axis=alt.Axis(format='%')))\n",
    "#chart2=chart1.encode(x=alt.X('% deaths'))\n",
    "\n",
    "\n",
    "chart1 | chart2"
   ]
  },
  {
   "cell_type": "code",
   "execution_count": 10,
   "metadata": {
    "colab": {},
    "colab_type": "code",
    "id": "lKfOyMwTyyzV",
    "outputId": "2ab0fea3-9b6b-4486-e889-1fef19f0e3db"
   },
   "outputs": [
    {
     "ename": "ModuleNotFoundError",
     "evalue": "No module named 'vega_datasets'",
     "output_type": "error",
     "traceback": [
      "\u001b[0;31m---------------------------------------------------------------------------\u001b[0m",
      "\u001b[0;31mModuleNotFoundError\u001b[0m                       Traceback (most recent call last)",
      "\u001b[0;32m<ipython-input-10-50c1cfff0564>\u001b[0m in \u001b[0;36m<module>\u001b[0;34m\u001b[0m\n\u001b[1;32m      1\u001b[0m \u001b[0;32mimport\u001b[0m \u001b[0maltair\u001b[0m \u001b[0;32mas\u001b[0m \u001b[0malt\u001b[0m\u001b[0;34m\u001b[0m\u001b[0;34m\u001b[0m\u001b[0m\n\u001b[0;32m----> 2\u001b[0;31m \u001b[0;32mfrom\u001b[0m \u001b[0mvega_datasets\u001b[0m \u001b[0;32mimport\u001b[0m \u001b[0mdata\u001b[0m\u001b[0;34m\u001b[0m\u001b[0;34m\u001b[0m\u001b[0m\n\u001b[0m\u001b[1;32m      3\u001b[0m \u001b[0mdf1\u001b[0m\u001b[0;34m=\u001b[0m\u001b[0mdf_county\u001b[0m\u001b[0;34m.\u001b[0m\u001b[0msort_values\u001b[0m\u001b[0;34m(\u001b[0m\u001b[0mby\u001b[0m\u001b[0;34m=\u001b[0m\u001b[0;34m[\u001b[0m\u001b[0;34m'deaths'\u001b[0m\u001b[0;34m]\u001b[0m\u001b[0;34m,\u001b[0m \u001b[0mascending\u001b[0m\u001b[0;34m=\u001b[0m\u001b[0;32mFalse\u001b[0m\u001b[0;34m)\u001b[0m\u001b[0;34m.\u001b[0m\u001b[0mreset_index\u001b[0m\u001b[0;34m(\u001b[0m\u001b[0;34m)\u001b[0m\u001b[0;34m\u001b[0m\u001b[0;34m\u001b[0m\u001b[0m\n\u001b[1;32m      4\u001b[0m \u001b[0mcols\u001b[0m \u001b[0;34m=\u001b[0m \u001b[0;34m[\u001b[0m\u001b[0;34m'Deaths Non LTC'\u001b[0m\u001b[0;34m,\u001b[0m \u001b[0;34m'LTC Deaths'\u001b[0m\u001b[0;34m]\u001b[0m\u001b[0;34m\u001b[0m\u001b[0;34m\u001b[0m\u001b[0m\n\u001b[1;32m      5\u001b[0m \u001b[0mcols\u001b[0m \u001b[0;34m=\u001b[0m \u001b[0;34m[\u001b[0m\u001b[0;34m'LTC Deaths'\u001b[0m\u001b[0;34m,\u001b[0m \u001b[0;34m'Deaths Non LTC'\u001b[0m\u001b[0;34m]\u001b[0m\u001b[0;34m\u001b[0m\u001b[0;34m\u001b[0m\u001b[0m\n",
      "\u001b[0;31mModuleNotFoundError\u001b[0m: No module named 'vega_datasets'"
     ]
    }
   ],
   "source": [
    "import altair as alt\n",
    "from vega_datasets import data\n",
    "df1=df_county.sort_values(by=['deaths'], ascending=False).reset_index()\n",
    "cols = ['Deaths Non LTC', 'LTC Deaths']\n",
    "cols = ['LTC Deaths', 'Deaths Non LTC']\n",
    "\n",
    "\n",
    "chart1 = alt.Chart(df_county.sort_values(by=['deaths'], ascending=False).reset_index()).mark_bar().encode(\n",
    "    x='deaths:Q',\n",
    "    y=alt.Y('County:O'),\n",
    "    tooltip=['County', 'deaths', 'confirmed_cases', '% deaths']\n",
    ")\n",
    "chart2=chart1.encode(x=alt.X('% deaths', axis=alt.Axis(format='%')))\n",
    "#chart2=chart1.encode(x=alt.X('% deaths'))\n",
    "\n",
    "\n",
    "chart1 | chart2 "
   ]
  },
  {
   "cell_type": "code",
   "execution_count": null,
   "metadata": {
    "colab": {},
    "colab_type": "code",
    "id": "h4ivtsiJyyzd"
   },
   "outputs": [],
   "source": [
    "df.sort_values(by=['deaths'], ascending=False).to_csv('IL_LTC_Covid.csv')"
   ]
  },
  {
   "cell_type": "code",
   "execution_count": null,
   "metadata": {
    "colab": {},
    "colab_type": "code",
    "id": "Rd1RZ4ZIyyzh",
    "outputId": "fa910313-2b6d-4cb3-cc8c-9fb9375f435d"
   },
   "outputs": [],
   "source": [
    "df.reporting_date.value_counts()[0]"
   ]
  },
  {
   "cell_type": "code",
   "execution_count": null,
   "metadata": {
    "colab": {},
    "colab_type": "code",
    "id": "QO2ctLpUyyzl"
   },
   "outputs": [],
   "source": [
    "df.head()"
   ]
  },
  {
   "cell_type": "code",
   "execution_count": null,
   "metadata": {},
   "outputs": [],
   "source": [
    "df.sum()"
   ]
  },
  {
   "cell_type": "code",
   "execution_count": null,
   "metadata": {},
   "outputs": [],
   "source": [
    "df2 = pd.read_json(r'../Covid-County-LTC-Analysis/Source_data/IL_2020-05-29LTC_data_Source.json'[FacilityValues])"
   ]
  },
  {
   "cell_type": "code",
   "execution_count": null,
   "metadata": {},
   "outputs": [],
   "source": [
    "int(3103.23)"
   ]
  },
  {
   "cell_type": "code",
   "execution_count": null,
   "metadata": {},
   "outputs": [],
   "source": [
    "len(str(3103))"
   ]
  },
  {
   "cell_type": "code",
   "execution_count": null,
   "metadata": {},
   "outputs": [],
   "source": [
    "def roundUp(n):\n",
    "    '''Round up to set axis upper limit'''\n",
    "    n1 = 10**(len(str(int(n))) - 2)\n",
    "    return int(n/n1+1)*n1"
   ]
  },
  {
   "cell_type": "code",
   "execution_count": null,
   "metadata": {},
   "outputs": [],
   "source": [
    "n=3103.23\n",
    "n1=10**(len(str(int(n))) - 2)\n",
    "int(n/n1+1)*n1"
   ]
  },
  {
   "cell_type": "code",
   "execution_count": null,
   "metadata": {},
   "outputs": [],
   "source": [
    "print(roundUp(3199.33))\n",
    "print(roundUp(39.33))"
   ]
  },
  {
   "cell_type": "code",
   "execution_count": 19,
   "metadata": {},
   "outputs": [
    {
     "name": "stdout",
     "output_type": "stream",
     "text": [
      "33.8 1\n"
     ]
    },
    {
     "data": {
      "text/plain": [
       "34"
      ]
     },
     "execution_count": 19,
     "metadata": {},
     "output_type": "execute_result"
    }
   ],
   "source": [
    "n=33.8\n",
    "n1 = 10 ** (len(str(int(n))) - 2)\n",
    "if n1 <0: n1 = 2\n",
    "print (n, n1)\n",
    "int(int(n / n1 + 1) * n1)"
   ]
  },
  {
   "cell_type": "code",
   "execution_count": 15,
   "metadata": {},
   "outputs": [
    {
     "data": {
      "text/plain": [
       "0.1"
      ]
     },
     "execution_count": 15,
     "metadata": {},
     "output_type": "execute_result"
    }
   ],
   "source": [
    "n1"
   ]
  },
  {
   "cell_type": "code",
   "execution_count": 13,
   "metadata": {},
   "outputs": [
    {
     "data": {
      "text/plain": [
       "3"
      ]
     },
     "execution_count": 13,
     "metadata": {},
     "output_type": "execute_result"
    }
   ],
   "source": [
    "int(n)"
   ]
  },
  {
   "cell_type": "code",
   "execution_count": null,
   "metadata": {},
   "outputs": [],
   "source": []
  }
 ],
 "metadata": {
  "colab": {
   "name": "IL LTC Data Analysis.ipynb",
   "provenance": []
  },
  "kernelspec": {
   "display_name": "Python 3",
   "language": "python",
   "name": "python3"
  },
  "language_info": {
   "codemirror_mode": {
    "name": "ipython",
    "version": 3
   },
   "file_extension": ".py",
   "mimetype": "text/x-python",
   "name": "python",
   "nbconvert_exporter": "python",
   "pygments_lexer": "ipython3",
   "version": "3.7.6"
  }
 },
 "nbformat": 4,
 "nbformat_minor": 4
}
