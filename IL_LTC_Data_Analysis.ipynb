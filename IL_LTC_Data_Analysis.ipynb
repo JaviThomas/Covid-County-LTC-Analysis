{
 "cells": [
  {
   "cell_type": "code",
   "execution_count": 1,
   "metadata": {
    "colab": {},
    "colab_type": "code",
    "id": "r3I8QTIvyyyJ"
   },
   "outputs": [],
   "source": [
    "import pandas as pd\n",
    "import urllib3 as urllib\n",
    "import json\n",
    "import IPython.display"
   ]
  },
  {
   "cell_type": "code",
   "execution_count": 2,
   "metadata": {
    "colab": {},
    "colab_type": "code",
    "id": "0DpPxHYpyyyQ"
   },
   "outputs": [],
   "source": [
    "http = urllib.PoolManager()\n",
    "\n",
    "def getResponse(url):\n",
    "    operUrl = http.request('GET', url)\n",
    "    if(operUrl.status==200):\n",
    "        data = operUrl.data\n",
    "        jsonData = json.loads(data.decode('utf-8'))\n",
    "    else:\n",
    "        print(\"Error receiving data\", operUrl.getcode())\n",
    "    return jsonData"
   ]
  },
  {
   "cell_type": "code",
   "execution_count": 3,
   "metadata": {
    "colab": {},
    "colab_type": "code",
    "id": "rtSr_6rEyyyZ"
   },
   "outputs": [],
   "source": [
    "ltc_data = getResponse('http://www.dph.illinois.gov/sitefiles/COVIDLTC.json')\n",
    "reporting_date = '%d-%02d-%02d' %(ltc_data['LastUpdateDate']['year'], ltc_data['LastUpdateDate']['month'], ltc_data['LastUpdateDate']['day'])"
   ]
  },
  {
   "cell_type": "code",
   "execution_count": 4,
   "metadata": {},
   "outputs": [],
   "source": [
    "#Saving a copy of source data \n",
    "ltc_data_json = json.dumps(ltc_data)"
   ]
  },
  {
   "cell_type": "code",
   "execution_count": 30,
   "metadata": {},
   "outputs": [],
   "source": [
    "deaths = ltc_data['LTC_Reported_Cases']['deaths']\n",
    "confirmed_cases = ltc_data['LTC_Reported_Cases']['confirmed_cases']"
   ]
  },
  {
   "cell_type": "code",
   "execution_count": 5,
   "metadata": {},
   "outputs": [],
   "source": [
    "#Saving a copy of source data \n",
    "ltc_data_json = json.dumps(ltc_data)\n",
    "\n",
    "f = open(\"Source_data/IL_\" + reporting_date + \"LTC_data_Source.json\",\"w\")\n",
    "f.write(ltc_data_json)\n",
    "f.close()"
   ]
  },
  {
   "cell_type": "code",
   "execution_count": 25,
   "metadata": {
    "colab": {},
    "colab_type": "code",
    "id": "ubmsF36syyyn"
   },
   "outputs": [],
   "source": [
    "df = pd.DataFrame(ltc_data['FacilityValues'])\n",
    "#ltc_data['LTC_Reported_Cases']\n",
    "df['reporting_date'] = reporting_date\n",
    "df['% deaths'] = df['deaths'] / df['confirmed_cases']"
   ]
  },
  {
   "cell_type": "code",
   "execution_count": 26,
   "metadata": {},
   "outputs": [],
   "source": [
    "df.to_csv('Reporting_data/IL_' + reporting_date + '_LTC_data_.csv', index = False)"
   ]
  },
  {
   "cell_type": "code",
   "execution_count": 31,
   "metadata": {
    "colab": {
     "base_uri": "https://localhost:8080/",
     "height": 67
    },
    "colab_type": "code",
    "id": "eBdmRkxzyyyx",
    "outputId": "e0123e5e-d68a-456a-f1b1-309334ca1a77"
   },
   "outputs": [
    {
     "name": "stdout",
     "output_type": "stream",
     "text": [
      "Date: 2020-11-06\n",
      "Cases: 36683\n",
      "Deaths:  5253\n",
      "Facilities: 1309\n"
     ]
    }
   ],
   "source": [
    "df['num of facilities'] = 1 \n",
    "a = df.sum()\n",
    "print ('Date: %s' % reporting_date)\n",
    "print ('Cases: %d' % confirmed_cases)\n",
    "print ('Deaths:  %d'% deaths)\n",
    "print ('Facilities: %d' % df.reporting_date.value_counts()[0])"
   ]
  },
  {
   "cell_type": "code",
   "execution_count": 9,
   "metadata": {
    "colab": {
     "base_uri": "https://localhost:8080/",
     "height": 1000
    },
    "colab_type": "code",
    "id": "xSXUDYotyyzA",
    "outputId": "8066eaf5-6bbd-4311-de99-64fef7efc3d7"
   },
   "outputs": [
    {
     "data": {
      "text/html": [
       "<div>\n",
       "<style scoped>\n",
       "    .dataframe tbody tr th:only-of-type {\n",
       "        vertical-align: middle;\n",
       "    }\n",
       "\n",
       "    .dataframe tbody tr th {\n",
       "        vertical-align: top;\n",
       "    }\n",
       "\n",
       "    .dataframe thead th {\n",
       "        text-align: right;\n",
       "    }\n",
       "</style>\n",
       "<table border=\"1\" class=\"dataframe\">\n",
       "  <thead>\n",
       "    <tr style=\"text-align: right;\">\n",
       "      <th></th>\n",
       "      <th>confirmed_cases</th>\n",
       "      <th>deaths</th>\n",
       "      <th>% deaths</th>\n",
       "      <th>num of facilities</th>\n",
       "    </tr>\n",
       "    <tr>\n",
       "      <th>County</th>\n",
       "      <th></th>\n",
       "      <th></th>\n",
       "      <th></th>\n",
       "      <th></th>\n",
       "    </tr>\n",
       "  </thead>\n",
       "  <tbody>\n",
       "    <tr>\n",
       "      <th>Cook</th>\n",
       "      <td>15294</td>\n",
       "      <td>2450</td>\n",
       "      <td>0.160194</td>\n",
       "      <td>409</td>\n",
       "    </tr>\n",
       "    <tr>\n",
       "      <th>DuPage</th>\n",
       "      <td>2872</td>\n",
       "      <td>463</td>\n",
       "      <td>0.161212</td>\n",
       "      <td>118</td>\n",
       "    </tr>\n",
       "    <tr>\n",
       "      <th>Lake</th>\n",
       "      <td>2319</td>\n",
       "      <td>342</td>\n",
       "      <td>0.147477</td>\n",
       "      <td>90</td>\n",
       "    </tr>\n",
       "    <tr>\n",
       "      <th>Will</th>\n",
       "      <td>1533</td>\n",
       "      <td>212</td>\n",
       "      <td>0.138291</td>\n",
       "      <td>59</td>\n",
       "    </tr>\n",
       "    <tr>\n",
       "      <th>Kane</th>\n",
       "      <td>1497</td>\n",
       "      <td>198</td>\n",
       "      <td>0.132265</td>\n",
       "      <td>77</td>\n",
       "    </tr>\n",
       "    <tr>\n",
       "      <th>...</th>\n",
       "      <td>...</td>\n",
       "      <td>...</td>\n",
       "      <td>...</td>\n",
       "      <td>...</td>\n",
       "    </tr>\n",
       "    <tr>\n",
       "      <th>Effingham</th>\n",
       "      <td>9</td>\n",
       "      <td>0</td>\n",
       "      <td>0.000000</td>\n",
       "      <td>3</td>\n",
       "    </tr>\n",
       "    <tr>\n",
       "      <th>Crawford</th>\n",
       "      <td>2</td>\n",
       "      <td>0</td>\n",
       "      <td>0.000000</td>\n",
       "      <td>1</td>\n",
       "    </tr>\n",
       "    <tr>\n",
       "      <th>Fulton</th>\n",
       "      <td>5</td>\n",
       "      <td>0</td>\n",
       "      <td>0.000000</td>\n",
       "      <td>1</td>\n",
       "    </tr>\n",
       "    <tr>\n",
       "      <th>Brown</th>\n",
       "      <td>12</td>\n",
       "      <td>0</td>\n",
       "      <td>0.000000</td>\n",
       "      <td>1</td>\n",
       "    </tr>\n",
       "    <tr>\n",
       "      <th>Piatt</th>\n",
       "      <td>11</td>\n",
       "      <td>0</td>\n",
       "      <td>0.000000</td>\n",
       "      <td>1</td>\n",
       "    </tr>\n",
       "  </tbody>\n",
       "</table>\n",
       "<p>85 rows × 4 columns</p>\n",
       "</div>"
      ],
      "text/plain": [
       "           confirmed_cases  deaths  % deaths  num of facilities\n",
       "County                                                         \n",
       "Cook                 15294    2450  0.160194                409\n",
       "DuPage                2872     463  0.161212                118\n",
       "Lake                  2319     342  0.147477                 90\n",
       "Will                  1533     212  0.138291                 59\n",
       "Kane                  1497     198  0.132265                 77\n",
       "...                    ...     ...       ...                ...\n",
       "Effingham                9       0  0.000000                  3\n",
       "Crawford                 2       0  0.000000                  1\n",
       "Fulton                   5       0  0.000000                  1\n",
       "Brown                   12       0  0.000000                  1\n",
       "Piatt                   11       0  0.000000                  1\n",
       "\n",
       "[85 rows x 4 columns]"
      ]
     },
     "execution_count": 9,
     "metadata": {},
     "output_type": "execute_result"
    }
   ],
   "source": [
    "df_county = df.groupby(by=['County']).sum()\n",
    "df_county['% deaths'] = (df_county['deaths'] / df_county['confirmed_cases'])\n",
    "df_county.sort_values('deaths', ascending=False).to_csv('Reporting_data/IL_county_stats_' + reporting_date + '.csv')\n",
    "df_county.sort_values('deaths', ascending=False)"
   ]
  },
  {
   "cell_type": "code",
   "execution_count": 10,
   "metadata": {
    "colab": {
     "base_uri": "https://localhost:8080/",
     "height": 885
    },
    "colab_type": "code",
    "id": "XwtrMuSVyyzL",
    "outputId": "1c9bb650-b588-4f90-f329-5c14ba8a5385"
   },
   "outputs": [
    {
     "data": {
      "text/html": [
       "\n",
       "<div id=\"altair-viz-4ee1601d77b54e82ad4e37e7af7d8b59\"></div>\n",
       "<script type=\"text/javascript\">\n",
       "  (function(spec, embedOpt){\n",
       "    let outputDiv = document.currentScript.previousElementSibling;\n",
       "    if (outputDiv.id !== \"altair-viz-4ee1601d77b54e82ad4e37e7af7d8b59\") {\n",
       "      outputDiv = document.getElementById(\"altair-viz-4ee1601d77b54e82ad4e37e7af7d8b59\");\n",
       "    }\n",
       "    const paths = {\n",
       "      \"vega\": \"https://cdn.jsdelivr.net/npm//vega@5?noext\",\n",
       "      \"vega-lib\": \"https://cdn.jsdelivr.net/npm//vega-lib?noext\",\n",
       "      \"vega-lite\": \"https://cdn.jsdelivr.net/npm//vega-lite@4.8.1?noext\",\n",
       "      \"vega-embed\": \"https://cdn.jsdelivr.net/npm//vega-embed@6?noext\",\n",
       "    };\n",
       "\n",
       "    function loadScript(lib) {\n",
       "      return new Promise(function(resolve, reject) {\n",
       "        var s = document.createElement('script');\n",
       "        s.src = paths[lib];\n",
       "        s.async = true;\n",
       "        s.onload = () => resolve(paths[lib]);\n",
       "        s.onerror = () => reject(`Error loading script: ${paths[lib]}`);\n",
       "        document.getElementsByTagName(\"head\")[0].appendChild(s);\n",
       "      });\n",
       "    }\n",
       "\n",
       "    function showError(err) {\n",
       "      outputDiv.innerHTML = `<div class=\"error\" style=\"color:red;\">${err}</div>`;\n",
       "      throw err;\n",
       "    }\n",
       "\n",
       "    function displayChart(vegaEmbed) {\n",
       "      vegaEmbed(outputDiv, spec, embedOpt)\n",
       "        .catch(err => showError(`Javascript Error: ${err.message}<br>This usually means there's a typo in your chart specification. See the javascript console for the full traceback.`));\n",
       "    }\n",
       "\n",
       "    if(typeof define === \"function\" && define.amd) {\n",
       "      requirejs.config({paths});\n",
       "      require([\"vega-embed\"], displayChart, err => showError(`Error loading script: ${err.message}`));\n",
       "    } else if (typeof vegaEmbed === \"function\") {\n",
       "      displayChart(vegaEmbed);\n",
       "    } else {\n",
       "      loadScript(\"vega\")\n",
       "        .then(() => loadScript(\"vega-lite\"))\n",
       "        .then(() => loadScript(\"vega-embed\"))\n",
       "        .catch(showError)\n",
       "        .then(() => displayChart(vegaEmbed));\n",
       "    }\n",
       "  })({\"config\": {\"view\": {\"continuousWidth\": 400, \"continuousHeight\": 300}}, \"hconcat\": [{\"mark\": \"bar\", \"encoding\": {\"tooltip\": [{\"type\": \"nominal\", \"field\": \"County\"}, {\"type\": \"quantitative\", \"field\": \"deaths\"}, {\"type\": \"quantitative\", \"field\": \"confirmed_cases\"}, {\"type\": \"quantitative\", \"field\": \"% deaths\"}], \"x\": {\"type\": \"quantitative\", \"field\": \"deaths\"}, \"y\": {\"type\": \"ordinal\", \"field\": \"County\", \"sort\": \"-x\"}}}, {\"mark\": \"bar\", \"encoding\": {\"tooltip\": [{\"type\": \"nominal\", \"field\": \"County\"}, {\"type\": \"quantitative\", \"field\": \"deaths\"}, {\"type\": \"quantitative\", \"field\": \"confirmed_cases\"}, {\"type\": \"quantitative\", \"field\": \"% deaths\"}], \"x\": {\"type\": \"quantitative\", \"axis\": {\"format\": \"%\"}, \"field\": \"% deaths\"}, \"y\": {\"type\": \"ordinal\", \"field\": \"County\", \"sort\": \"-x\"}}}], \"data\": {\"name\": \"data-573b462798393c502b845b6726e02cc0\"}, \"$schema\": \"https://vega.github.io/schema/vega-lite/v4.8.1.json\", \"datasets\": {\"data-573b462798393c502b845b6726e02cc0\": [{\"County\": \"Cook\", \"confirmed_cases\": 15294, \"deaths\": 2450, \"% deaths\": 0.1601935399503073, \"num of facilities\": 409}, {\"County\": \"DuPage\", \"confirmed_cases\": 2872, \"deaths\": 463, \"% deaths\": 0.1612116991643454, \"num of facilities\": 118}, {\"County\": \"Lake\", \"confirmed_cases\": 2319, \"deaths\": 342, \"% deaths\": 0.14747736093143596, \"num of facilities\": 90}, {\"County\": \"Will\", \"confirmed_cases\": 1533, \"deaths\": 212, \"% deaths\": 0.13829093281148075, \"num of facilities\": 59}, {\"County\": \"Kane\", \"confirmed_cases\": 1497, \"deaths\": 198, \"% deaths\": 0.13226452905811623, \"num of facilities\": 77}, {\"County\": \"St. Clair\", \"confirmed_cases\": 951, \"deaths\": 132, \"% deaths\": 0.138801261829653, \"num of facilities\": 39}, {\"County\": \"Madison\", \"confirmed_cases\": 966, \"deaths\": 112, \"% deaths\": 0.11594202898550725, \"num of facilities\": 39}, {\"County\": \"Winnebago\", \"confirmed_cases\": 812, \"deaths\": 107, \"% deaths\": 0.13177339901477833, \"num of facilities\": 39}, {\"County\": \"McHenry\", \"confirmed_cases\": 554, \"deaths\": 92, \"% deaths\": 0.16606498194945848, \"num of facilities\": 22}, {\"County\": \"Rock Island\", \"confirmed_cases\": 476, \"deaths\": 69, \"% deaths\": 0.14495798319327732, \"num of facilities\": 17}, {\"County\": \"Peoria\", \"confirmed_cases\": 494, \"deaths\": 58, \"% deaths\": 0.11740890688259109, \"num of facilities\": 21}, {\"County\": \"LaSalle\", \"confirmed_cases\": 494, \"deaths\": 56, \"% deaths\": 0.11336032388663968, \"num of facilities\": 13}, {\"County\": \"Kankakee\", \"confirmed_cases\": 581, \"deaths\": 47, \"% deaths\": 0.08089500860585198, \"num of facilities\": 20}, {\"County\": \"Jefferson\", \"confirmed_cases\": 236, \"deaths\": 44, \"% deaths\": 0.1864406779661017, \"num of facilities\": 5}, {\"County\": \"Williamson\", \"confirmed_cases\": 245, \"deaths\": 41, \"% deaths\": 0.1673469387755102, \"num of facilities\": 9}, {\"County\": \"Sangamon\", \"confirmed_cases\": 420, \"deaths\": 38, \"% deaths\": 0.09047619047619047, \"num of facilities\": 18}, {\"County\": \"Tazewell\", \"confirmed_cases\": 271, \"deaths\": 35, \"% deaths\": 0.12915129151291513, \"num of facilities\": 14}, {\"County\": \"Macon\", \"confirmed_cases\": 288, \"deaths\": 34, \"% deaths\": 0.11805555555555555, \"num of facilities\": 10}, {\"County\": \"Coles\", \"confirmed_cases\": 330, \"deaths\": 33, \"% deaths\": 0.1, \"num of facilities\": 9}, {\"County\": \"Clinton\", \"confirmed_cases\": 306, \"deaths\": 29, \"% deaths\": 0.09477124183006536, \"num of facilities\": 10}, {\"County\": \"DeKalb\", \"confirmed_cases\": 214, \"deaths\": 28, \"% deaths\": 0.1308411214953271, \"num of facilities\": 10}, {\"County\": \"Monroe\", \"confirmed_cases\": 179, \"deaths\": 27, \"% deaths\": 0.15083798882681565, \"num of facilities\": 5}, {\"County\": \"Morgan\", \"confirmed_cases\": 159, \"deaths\": 24, \"% deaths\": 0.1509433962264151, \"num of facilities\": 6}, {\"County\": \"McLean\", \"confirmed_cases\": 228, \"deaths\": 23, \"% deaths\": 0.10087719298245613, \"num of facilities\": 14}, {\"County\": \"Christian\", \"confirmed_cases\": 162, \"deaths\": 22, \"% deaths\": 0.13580246913580246, \"num of facilities\": 9}, {\"County\": \"McDonough\", \"confirmed_cases\": 117, \"deaths\": 21, \"% deaths\": 0.1794871794871795, \"num of facilities\": 7}, {\"County\": \"Union\", \"confirmed_cases\": 132, \"deaths\": 20, \"% deaths\": 0.15151515151515152, \"num of facilities\": 3}, {\"County\": \"Richland\", \"confirmed_cases\": 147, \"deaths\": 19, \"% deaths\": 0.1292517006802721, \"num of facilities\": 5}, {\"County\": \"Jersey\", \"confirmed_cases\": 105, \"deaths\": 18, \"% deaths\": 0.17142857142857143, \"num of facilities\": 3}, {\"County\": \"Iroquois\", \"confirmed_cases\": 136, \"deaths\": 18, \"% deaths\": 0.1323529411764706, \"num of facilities\": 4}, {\"County\": \"Whiteside\", \"confirmed_cases\": 186, \"deaths\": 18, \"% deaths\": 0.0967741935483871, \"num of facilities\": 11}, {\"County\": \"Adams\", \"confirmed_cases\": 185, \"deaths\": 17, \"% deaths\": 0.0918918918918919, \"num of facilities\": 10}, {\"County\": \"Jackson\", \"confirmed_cases\": 121, \"deaths\": 17, \"% deaths\": 0.14049586776859505, \"num of facilities\": 5}, {\"County\": \"Boone\", \"confirmed_cases\": 106, \"deaths\": 17, \"% deaths\": 0.16037735849056603, \"num of facilities\": 4}, {\"County\": \"Greene\", \"confirmed_cases\": 102, \"deaths\": 15, \"% deaths\": 0.14705882352941177, \"num of facilities\": 1}, {\"County\": \"Fayette\", \"confirmed_cases\": 112, \"deaths\": 15, \"% deaths\": 0.13392857142857142, \"num of facilities\": 3}, {\"County\": \"Clark\", \"confirmed_cases\": 78, \"deaths\": 15, \"% deaths\": 0.19230769230769232, \"num of facilities\": 4}, {\"County\": \"Kendall\", \"confirmed_cases\": 72, \"deaths\": 15, \"% deaths\": 0.20833333333333334, \"num of facilities\": 5}, {\"County\": \"Ford\", \"confirmed_cases\": 139, \"deaths\": 14, \"% deaths\": 0.10071942446043165, \"num of facilities\": 7}, {\"County\": \"Knox\", \"confirmed_cases\": 180, \"deaths\": 14, \"% deaths\": 0.07777777777777778, \"num of facilities\": 10}, {\"County\": \"Perry\", \"confirmed_cases\": 79, \"deaths\": 12, \"% deaths\": 0.1518987341772152, \"num of facilities\": 2}, {\"County\": \"Clay\", \"confirmed_cases\": 64, \"deaths\": 12, \"% deaths\": 0.1875, \"num of facilities\": 2}, {\"County\": \"Cass\", \"confirmed_cases\": 67, \"deaths\": 11, \"% deaths\": 0.16417910447761194, \"num of facilities\": 2}, {\"County\": \"Champaign\", \"confirmed_cases\": 193, \"deaths\": 10, \"% deaths\": 0.05181347150259067, \"num of facilities\": 21}, {\"County\": \"Shelby\", \"confirmed_cases\": 148, \"deaths\": 9, \"% deaths\": 0.060810810810810814, \"num of facilities\": 5}, {\"County\": \"Mason\", \"confirmed_cases\": 96, \"deaths\": 9, \"% deaths\": 0.09375, \"num of facilities\": 2}, {\"County\": \"Marion\", \"confirmed_cases\": 138, \"deaths\": 9, \"% deaths\": 0.06521739130434782, \"num of facilities\": 7}, {\"County\": \"Woodford\", \"confirmed_cases\": 69, \"deaths\": 9, \"% deaths\": 0.13043478260869565, \"num of facilities\": 4}, {\"County\": \"Carroll\", \"confirmed_cases\": 118, \"deaths\": 9, \"% deaths\": 0.07627118644067797, \"num of facilities\": 2}, {\"County\": \"Jasper\", \"confirmed_cases\": 58, \"deaths\": 8, \"% deaths\": 0.13793103448275862, \"num of facilities\": 2}, {\"County\": \"Pike\", \"confirmed_cases\": 89, \"deaths\": 7, \"% deaths\": 0.07865168539325842, \"num of facilities\": 4}, {\"County\": \"De Witt\", \"confirmed_cases\": 70, \"deaths\": 7, \"% deaths\": 0.1, \"num of facilities\": 1}, {\"County\": \"Jo Daviess\", \"confirmed_cases\": 30, \"deaths\": 6, \"% deaths\": 0.2, \"num of facilities\": 4}, {\"County\": \"Wayne\", \"confirmed_cases\": 67, \"deaths\": 6, \"% deaths\": 0.08955223880597014, \"num of facilities\": 4}, {\"County\": \"Edgar\", \"confirmed_cases\": 39, \"deaths\": 6, \"% deaths\": 0.15384615384615385, \"num of facilities\": 1}, {\"County\": \"Saline\", \"confirmed_cases\": 49, \"deaths\": 5, \"% deaths\": 0.10204081632653061, \"num of facilities\": 2}, {\"County\": \"Lawrence\", \"confirmed_cases\": 114, \"deaths\": 5, \"% deaths\": 0.043859649122807015, \"num of facilities\": 2}, {\"County\": \"Moultrie\", \"confirmed_cases\": 52, \"deaths\": 5, \"% deaths\": 0.09615384615384616, \"num of facilities\": 3}, {\"County\": \"Bond\", \"confirmed_cases\": 41, \"deaths\": 4, \"% deaths\": 0.0975609756097561, \"num of facilities\": 2}, {\"County\": \"Mercer\", \"confirmed_cases\": 16, \"deaths\": 4, \"% deaths\": 0.25, \"num of facilities\": 1}, {\"County\": \"Cumberland\", \"confirmed_cases\": 43, \"deaths\": 3, \"% deaths\": 0.06976744186046512, \"num of facilities\": 1}, {\"County\": \"Macoupin\", \"confirmed_cases\": 60, \"deaths\": 3, \"% deaths\": 0.05, \"num of facilities\": 8}, {\"County\": \"Montgomery\", \"confirmed_cases\": 17, \"deaths\": 3, \"% deaths\": 0.17647058823529413, \"num of facilities\": 3}, {\"County\": \"Grundy\", \"confirmed_cases\": 31, \"deaths\": 3, \"% deaths\": 0.0967741935483871, \"num of facilities\": 1}, {\"County\": \"Ogle\", \"confirmed_cases\": 55, \"deaths\": 2, \"% deaths\": 0.03636363636363636, \"num of facilities\": 4}, {\"County\": \"Franklin\", \"confirmed_cases\": 50, \"deaths\": 2, \"% deaths\": 0.04, \"num of facilities\": 5}, {\"County\": \"White\", \"confirmed_cases\": 45, \"deaths\": 2, \"% deaths\": 0.044444444444444446, \"num of facilities\": 2}, {\"County\": \"Warren\", \"confirmed_cases\": 14, \"deaths\": 2, \"% deaths\": 0.14285714285714285, \"num of facilities\": 2}, {\"County\": \"Vermilion\", \"confirmed_cases\": 56, \"deaths\": 1, \"% deaths\": 0.017857142857142856, \"num of facilities\": 7}, {\"County\": \"Bureau\", \"confirmed_cases\": 20, \"deaths\": 1, \"% deaths\": 0.05, \"num of facilities\": 3}, {\"County\": \"Livingston\", \"confirmed_cases\": 30, \"deaths\": 1, \"% deaths\": 0.03333333333333333, \"num of facilities\": 3}, {\"County\": \"Washington\", \"confirmed_cases\": 2, \"deaths\": 1, \"% deaths\": 0.5, \"num of facilities\": 1}, {\"County\": \"Wabash\", \"confirmed_cases\": 31, \"deaths\": 1, \"% deaths\": 0.03225806451612903, \"num of facilities\": 2}, {\"County\": \"Lee\", \"confirmed_cases\": 144, \"deaths\": 1, \"% deaths\": 0.006944444444444444, \"num of facilities\": 3}, {\"County\": \"Randolph\", \"confirmed_cases\": 91, \"deaths\": 1, \"% deaths\": 0.01098901098901099, \"num of facilities\": 7}, {\"County\": \"Hancock\", \"confirmed_cases\": 3, \"deaths\": 1, \"% deaths\": 0.3333333333333333, \"num of facilities\": 1}, {\"County\": \"Stephenson\", \"confirmed_cases\": 40, \"deaths\": 1, \"% deaths\": 0.025, \"num of facilities\": 4}, {\"County\": \"Douglas\", \"confirmed_cases\": 12, \"deaths\": 1, \"% deaths\": 0.08333333333333333, \"num of facilities\": 2}, {\"County\": \"Logan\", \"confirmed_cases\": 24, \"deaths\": 1, \"% deaths\": 0.041666666666666664, \"num of facilities\": 5}, {\"County\": \"Scott\", \"confirmed_cases\": 7, \"deaths\": 0, \"% deaths\": 0.0, \"num of facilities\": 1}, {\"County\": \"Effingham\", \"confirmed_cases\": 9, \"deaths\": 0, \"% deaths\": 0.0, \"num of facilities\": 3}, {\"County\": \"Crawford\", \"confirmed_cases\": 2, \"deaths\": 0, \"% deaths\": 0.0, \"num of facilities\": 1}, {\"County\": \"Fulton\", \"confirmed_cases\": 5, \"deaths\": 0, \"% deaths\": 0.0, \"num of facilities\": 1}, {\"County\": \"Brown\", \"confirmed_cases\": 12, \"deaths\": 0, \"% deaths\": 0.0, \"num of facilities\": 1}, {\"County\": \"Piatt\", \"confirmed_cases\": 11, \"deaths\": 0, \"% deaths\": 0.0, \"num of facilities\": 1}]}}, {\"mode\": \"vega-lite\"});\n",
       "</script>"
      ],
      "text/plain": [
       "alt.HConcatChart(...)"
      ]
     },
     "execution_count": 10,
     "metadata": {},
     "output_type": "execute_result"
    }
   ],
   "source": [
    "import altair as alt\n",
    "df1=df_county.sort_values(by=['deaths'], ascending=False).reset_index()\n",
    "cols = ['Deaths Non LTC', 'LTC Deaths']\n",
    "cols = ['LTC Deaths', 'Deaths Non LTC']\n",
    "\n",
    "\n",
    "chart1 = alt.Chart(df_county.sort_values(by=['deaths'], ascending=False).reset_index()).mark_bar().encode(\n",
    "    x='deaths:Q',\n",
    "    y=alt.Y('County:O', sort='-x'),\n",
    "    tooltip=['County', 'deaths', 'confirmed_cases', '% deaths']\n",
    ")\n",
    "chart2=chart1.encode(x=alt.X('% deaths', axis=alt.Axis(format='%')))\n",
    "#chart2=chart1.encode(x=alt.X('% deaths'))\n",
    "\n",
    "\n",
    "chart1 | chart2"
   ]
  },
  {
   "cell_type": "code",
   "execution_count": 23,
   "metadata": {
    "colab": {},
    "colab_type": "code",
    "id": "lKfOyMwTyyzV",
    "outputId": "2ab0fea3-9b6b-4486-e889-1fef19f0e3db"
   },
   "outputs": [
    {
     "data": {
      "text/html": [
       "\n",
       "<div id=\"altair-viz-b030ec8bcc084de78e838886c0958cc2\"></div>\n",
       "<script type=\"text/javascript\">\n",
       "  (function(spec, embedOpt){\n",
       "    let outputDiv = document.currentScript.previousElementSibling;\n",
       "    if (outputDiv.id !== \"altair-viz-b030ec8bcc084de78e838886c0958cc2\") {\n",
       "      outputDiv = document.getElementById(\"altair-viz-b030ec8bcc084de78e838886c0958cc2\");\n",
       "    }\n",
       "    const paths = {\n",
       "      \"vega\": \"https://cdn.jsdelivr.net/npm//vega@5?noext\",\n",
       "      \"vega-lib\": \"https://cdn.jsdelivr.net/npm//vega-lib?noext\",\n",
       "      \"vega-lite\": \"https://cdn.jsdelivr.net/npm//vega-lite@4.8.1?noext\",\n",
       "      \"vega-embed\": \"https://cdn.jsdelivr.net/npm//vega-embed@6?noext\",\n",
       "    };\n",
       "\n",
       "    function loadScript(lib) {\n",
       "      return new Promise(function(resolve, reject) {\n",
       "        var s = document.createElement('script');\n",
       "        s.src = paths[lib];\n",
       "        s.async = true;\n",
       "        s.onload = () => resolve(paths[lib]);\n",
       "        s.onerror = () => reject(`Error loading script: ${paths[lib]}`);\n",
       "        document.getElementsByTagName(\"head\")[0].appendChild(s);\n",
       "      });\n",
       "    }\n",
       "\n",
       "    function showError(err) {\n",
       "      outputDiv.innerHTML = `<div class=\"error\" style=\"color:red;\">${err}</div>`;\n",
       "      throw err;\n",
       "    }\n",
       "\n",
       "    function displayChart(vegaEmbed) {\n",
       "      vegaEmbed(outputDiv, spec, embedOpt)\n",
       "        .catch(err => showError(`Javascript Error: ${err.message}<br>This usually means there's a typo in your chart specification. See the javascript console for the full traceback.`));\n",
       "    }\n",
       "\n",
       "    if(typeof define === \"function\" && define.amd) {\n",
       "      requirejs.config({paths});\n",
       "      require([\"vega-embed\"], displayChart, err => showError(`Error loading script: ${err.message}`));\n",
       "    } else if (typeof vegaEmbed === \"function\") {\n",
       "      displayChart(vegaEmbed);\n",
       "    } else {\n",
       "      loadScript(\"vega\")\n",
       "        .then(() => loadScript(\"vega-lite\"))\n",
       "        .then(() => loadScript(\"vega-embed\"))\n",
       "        .catch(showError)\n",
       "        .then(() => displayChart(vegaEmbed));\n",
       "    }\n",
       "  })({\"config\": {\"view\": {\"continuousWidth\": 400, \"continuousHeight\": 300}}, \"hconcat\": [{\"mark\": \"bar\", \"encoding\": {\"tooltip\": [{\"type\": \"nominal\", \"field\": \"County\"}, {\"type\": \"quantitative\", \"field\": \"deaths\"}, {\"type\": \"quantitative\", \"field\": \"confirmed_cases\"}, {\"type\": \"quantitative\", \"field\": \"% deaths\"}], \"x\": {\"type\": \"quantitative\", \"field\": \"deaths\"}, \"y\": {\"type\": \"ordinal\", \"field\": \"County\"}}}, {\"mark\": \"bar\", \"encoding\": {\"tooltip\": [{\"type\": \"nominal\", \"field\": \"County\"}, {\"type\": \"quantitative\", \"field\": \"deaths\"}, {\"type\": \"quantitative\", \"field\": \"confirmed_cases\"}, {\"type\": \"quantitative\", \"field\": \"% deaths\"}], \"x\": {\"type\": \"quantitative\", \"axis\": {\"format\": \"%\"}, \"field\": \"% deaths\"}, \"y\": {\"type\": \"ordinal\", \"field\": \"County\"}}}], \"data\": {\"name\": \"data-573b462798393c502b845b6726e02cc0\"}, \"$schema\": \"https://vega.github.io/schema/vega-lite/v4.8.1.json\", \"datasets\": {\"data-573b462798393c502b845b6726e02cc0\": [{\"County\": \"Cook\", \"confirmed_cases\": 15294, \"deaths\": 2450, \"% deaths\": 0.1601935399503073, \"num of facilities\": 409}, {\"County\": \"DuPage\", \"confirmed_cases\": 2872, \"deaths\": 463, \"% deaths\": 0.1612116991643454, \"num of facilities\": 118}, {\"County\": \"Lake\", \"confirmed_cases\": 2319, \"deaths\": 342, \"% deaths\": 0.14747736093143596, \"num of facilities\": 90}, {\"County\": \"Will\", \"confirmed_cases\": 1533, \"deaths\": 212, \"% deaths\": 0.13829093281148075, \"num of facilities\": 59}, {\"County\": \"Kane\", \"confirmed_cases\": 1497, \"deaths\": 198, \"% deaths\": 0.13226452905811623, \"num of facilities\": 77}, {\"County\": \"St. Clair\", \"confirmed_cases\": 951, \"deaths\": 132, \"% deaths\": 0.138801261829653, \"num of facilities\": 39}, {\"County\": \"Madison\", \"confirmed_cases\": 966, \"deaths\": 112, \"% deaths\": 0.11594202898550725, \"num of facilities\": 39}, {\"County\": \"Winnebago\", \"confirmed_cases\": 812, \"deaths\": 107, \"% deaths\": 0.13177339901477833, \"num of facilities\": 39}, {\"County\": \"McHenry\", \"confirmed_cases\": 554, \"deaths\": 92, \"% deaths\": 0.16606498194945848, \"num of facilities\": 22}, {\"County\": \"Rock Island\", \"confirmed_cases\": 476, \"deaths\": 69, \"% deaths\": 0.14495798319327732, \"num of facilities\": 17}, {\"County\": \"Peoria\", \"confirmed_cases\": 494, \"deaths\": 58, \"% deaths\": 0.11740890688259109, \"num of facilities\": 21}, {\"County\": \"LaSalle\", \"confirmed_cases\": 494, \"deaths\": 56, \"% deaths\": 0.11336032388663968, \"num of facilities\": 13}, {\"County\": \"Kankakee\", \"confirmed_cases\": 581, \"deaths\": 47, \"% deaths\": 0.08089500860585198, \"num of facilities\": 20}, {\"County\": \"Jefferson\", \"confirmed_cases\": 236, \"deaths\": 44, \"% deaths\": 0.1864406779661017, \"num of facilities\": 5}, {\"County\": \"Williamson\", \"confirmed_cases\": 245, \"deaths\": 41, \"% deaths\": 0.1673469387755102, \"num of facilities\": 9}, {\"County\": \"Sangamon\", \"confirmed_cases\": 420, \"deaths\": 38, \"% deaths\": 0.09047619047619047, \"num of facilities\": 18}, {\"County\": \"Tazewell\", \"confirmed_cases\": 271, \"deaths\": 35, \"% deaths\": 0.12915129151291513, \"num of facilities\": 14}, {\"County\": \"Macon\", \"confirmed_cases\": 288, \"deaths\": 34, \"% deaths\": 0.11805555555555555, \"num of facilities\": 10}, {\"County\": \"Coles\", \"confirmed_cases\": 330, \"deaths\": 33, \"% deaths\": 0.1, \"num of facilities\": 9}, {\"County\": \"Clinton\", \"confirmed_cases\": 306, \"deaths\": 29, \"% deaths\": 0.09477124183006536, \"num of facilities\": 10}, {\"County\": \"DeKalb\", \"confirmed_cases\": 214, \"deaths\": 28, \"% deaths\": 0.1308411214953271, \"num of facilities\": 10}, {\"County\": \"Monroe\", \"confirmed_cases\": 179, \"deaths\": 27, \"% deaths\": 0.15083798882681565, \"num of facilities\": 5}, {\"County\": \"Morgan\", \"confirmed_cases\": 159, \"deaths\": 24, \"% deaths\": 0.1509433962264151, \"num of facilities\": 6}, {\"County\": \"McLean\", \"confirmed_cases\": 228, \"deaths\": 23, \"% deaths\": 0.10087719298245613, \"num of facilities\": 14}, {\"County\": \"Christian\", \"confirmed_cases\": 162, \"deaths\": 22, \"% deaths\": 0.13580246913580246, \"num of facilities\": 9}, {\"County\": \"McDonough\", \"confirmed_cases\": 117, \"deaths\": 21, \"% deaths\": 0.1794871794871795, \"num of facilities\": 7}, {\"County\": \"Union\", \"confirmed_cases\": 132, \"deaths\": 20, \"% deaths\": 0.15151515151515152, \"num of facilities\": 3}, {\"County\": \"Richland\", \"confirmed_cases\": 147, \"deaths\": 19, \"% deaths\": 0.1292517006802721, \"num of facilities\": 5}, {\"County\": \"Jersey\", \"confirmed_cases\": 105, \"deaths\": 18, \"% deaths\": 0.17142857142857143, \"num of facilities\": 3}, {\"County\": \"Iroquois\", \"confirmed_cases\": 136, \"deaths\": 18, \"% deaths\": 0.1323529411764706, \"num of facilities\": 4}, {\"County\": \"Whiteside\", \"confirmed_cases\": 186, \"deaths\": 18, \"% deaths\": 0.0967741935483871, \"num of facilities\": 11}, {\"County\": \"Adams\", \"confirmed_cases\": 185, \"deaths\": 17, \"% deaths\": 0.0918918918918919, \"num of facilities\": 10}, {\"County\": \"Jackson\", \"confirmed_cases\": 121, \"deaths\": 17, \"% deaths\": 0.14049586776859505, \"num of facilities\": 5}, {\"County\": \"Boone\", \"confirmed_cases\": 106, \"deaths\": 17, \"% deaths\": 0.16037735849056603, \"num of facilities\": 4}, {\"County\": \"Greene\", \"confirmed_cases\": 102, \"deaths\": 15, \"% deaths\": 0.14705882352941177, \"num of facilities\": 1}, {\"County\": \"Fayette\", \"confirmed_cases\": 112, \"deaths\": 15, \"% deaths\": 0.13392857142857142, \"num of facilities\": 3}, {\"County\": \"Clark\", \"confirmed_cases\": 78, \"deaths\": 15, \"% deaths\": 0.19230769230769232, \"num of facilities\": 4}, {\"County\": \"Kendall\", \"confirmed_cases\": 72, \"deaths\": 15, \"% deaths\": 0.20833333333333334, \"num of facilities\": 5}, {\"County\": \"Ford\", \"confirmed_cases\": 139, \"deaths\": 14, \"% deaths\": 0.10071942446043165, \"num of facilities\": 7}, {\"County\": \"Knox\", \"confirmed_cases\": 180, \"deaths\": 14, \"% deaths\": 0.07777777777777778, \"num of facilities\": 10}, {\"County\": \"Perry\", \"confirmed_cases\": 79, \"deaths\": 12, \"% deaths\": 0.1518987341772152, \"num of facilities\": 2}, {\"County\": \"Clay\", \"confirmed_cases\": 64, \"deaths\": 12, \"% deaths\": 0.1875, \"num of facilities\": 2}, {\"County\": \"Cass\", \"confirmed_cases\": 67, \"deaths\": 11, \"% deaths\": 0.16417910447761194, \"num of facilities\": 2}, {\"County\": \"Champaign\", \"confirmed_cases\": 193, \"deaths\": 10, \"% deaths\": 0.05181347150259067, \"num of facilities\": 21}, {\"County\": \"Shelby\", \"confirmed_cases\": 148, \"deaths\": 9, \"% deaths\": 0.060810810810810814, \"num of facilities\": 5}, {\"County\": \"Mason\", \"confirmed_cases\": 96, \"deaths\": 9, \"% deaths\": 0.09375, \"num of facilities\": 2}, {\"County\": \"Marion\", \"confirmed_cases\": 138, \"deaths\": 9, \"% deaths\": 0.06521739130434782, \"num of facilities\": 7}, {\"County\": \"Woodford\", \"confirmed_cases\": 69, \"deaths\": 9, \"% deaths\": 0.13043478260869565, \"num of facilities\": 4}, {\"County\": \"Carroll\", \"confirmed_cases\": 118, \"deaths\": 9, \"% deaths\": 0.07627118644067797, \"num of facilities\": 2}, {\"County\": \"Jasper\", \"confirmed_cases\": 58, \"deaths\": 8, \"% deaths\": 0.13793103448275862, \"num of facilities\": 2}, {\"County\": \"Pike\", \"confirmed_cases\": 89, \"deaths\": 7, \"% deaths\": 0.07865168539325842, \"num of facilities\": 4}, {\"County\": \"De Witt\", \"confirmed_cases\": 70, \"deaths\": 7, \"% deaths\": 0.1, \"num of facilities\": 1}, {\"County\": \"Jo Daviess\", \"confirmed_cases\": 30, \"deaths\": 6, \"% deaths\": 0.2, \"num of facilities\": 4}, {\"County\": \"Wayne\", \"confirmed_cases\": 67, \"deaths\": 6, \"% deaths\": 0.08955223880597014, \"num of facilities\": 4}, {\"County\": \"Edgar\", \"confirmed_cases\": 39, \"deaths\": 6, \"% deaths\": 0.15384615384615385, \"num of facilities\": 1}, {\"County\": \"Saline\", \"confirmed_cases\": 49, \"deaths\": 5, \"% deaths\": 0.10204081632653061, \"num of facilities\": 2}, {\"County\": \"Lawrence\", \"confirmed_cases\": 114, \"deaths\": 5, \"% deaths\": 0.043859649122807015, \"num of facilities\": 2}, {\"County\": \"Moultrie\", \"confirmed_cases\": 52, \"deaths\": 5, \"% deaths\": 0.09615384615384616, \"num of facilities\": 3}, {\"County\": \"Bond\", \"confirmed_cases\": 41, \"deaths\": 4, \"% deaths\": 0.0975609756097561, \"num of facilities\": 2}, {\"County\": \"Mercer\", \"confirmed_cases\": 16, \"deaths\": 4, \"% deaths\": 0.25, \"num of facilities\": 1}, {\"County\": \"Cumberland\", \"confirmed_cases\": 43, \"deaths\": 3, \"% deaths\": 0.06976744186046512, \"num of facilities\": 1}, {\"County\": \"Macoupin\", \"confirmed_cases\": 60, \"deaths\": 3, \"% deaths\": 0.05, \"num of facilities\": 8}, {\"County\": \"Montgomery\", \"confirmed_cases\": 17, \"deaths\": 3, \"% deaths\": 0.17647058823529413, \"num of facilities\": 3}, {\"County\": \"Grundy\", \"confirmed_cases\": 31, \"deaths\": 3, \"% deaths\": 0.0967741935483871, \"num of facilities\": 1}, {\"County\": \"Ogle\", \"confirmed_cases\": 55, \"deaths\": 2, \"% deaths\": 0.03636363636363636, \"num of facilities\": 4}, {\"County\": \"Franklin\", \"confirmed_cases\": 50, \"deaths\": 2, \"% deaths\": 0.04, \"num of facilities\": 5}, {\"County\": \"White\", \"confirmed_cases\": 45, \"deaths\": 2, \"% deaths\": 0.044444444444444446, \"num of facilities\": 2}, {\"County\": \"Warren\", \"confirmed_cases\": 14, \"deaths\": 2, \"% deaths\": 0.14285714285714285, \"num of facilities\": 2}, {\"County\": \"Vermilion\", \"confirmed_cases\": 56, \"deaths\": 1, \"% deaths\": 0.017857142857142856, \"num of facilities\": 7}, {\"County\": \"Bureau\", \"confirmed_cases\": 20, \"deaths\": 1, \"% deaths\": 0.05, \"num of facilities\": 3}, {\"County\": \"Livingston\", \"confirmed_cases\": 30, \"deaths\": 1, \"% deaths\": 0.03333333333333333, \"num of facilities\": 3}, {\"County\": \"Washington\", \"confirmed_cases\": 2, \"deaths\": 1, \"% deaths\": 0.5, \"num of facilities\": 1}, {\"County\": \"Wabash\", \"confirmed_cases\": 31, \"deaths\": 1, \"% deaths\": 0.03225806451612903, \"num of facilities\": 2}, {\"County\": \"Lee\", \"confirmed_cases\": 144, \"deaths\": 1, \"% deaths\": 0.006944444444444444, \"num of facilities\": 3}, {\"County\": \"Randolph\", \"confirmed_cases\": 91, \"deaths\": 1, \"% deaths\": 0.01098901098901099, \"num of facilities\": 7}, {\"County\": \"Hancock\", \"confirmed_cases\": 3, \"deaths\": 1, \"% deaths\": 0.3333333333333333, \"num of facilities\": 1}, {\"County\": \"Stephenson\", \"confirmed_cases\": 40, \"deaths\": 1, \"% deaths\": 0.025, \"num of facilities\": 4}, {\"County\": \"Douglas\", \"confirmed_cases\": 12, \"deaths\": 1, \"% deaths\": 0.08333333333333333, \"num of facilities\": 2}, {\"County\": \"Logan\", \"confirmed_cases\": 24, \"deaths\": 1, \"% deaths\": 0.041666666666666664, \"num of facilities\": 5}, {\"County\": \"Scott\", \"confirmed_cases\": 7, \"deaths\": 0, \"% deaths\": 0.0, \"num of facilities\": 1}, {\"County\": \"Effingham\", \"confirmed_cases\": 9, \"deaths\": 0, \"% deaths\": 0.0, \"num of facilities\": 3}, {\"County\": \"Crawford\", \"confirmed_cases\": 2, \"deaths\": 0, \"% deaths\": 0.0, \"num of facilities\": 1}, {\"County\": \"Fulton\", \"confirmed_cases\": 5, \"deaths\": 0, \"% deaths\": 0.0, \"num of facilities\": 1}, {\"County\": \"Brown\", \"confirmed_cases\": 12, \"deaths\": 0, \"% deaths\": 0.0, \"num of facilities\": 1}, {\"County\": \"Piatt\", \"confirmed_cases\": 11, \"deaths\": 0, \"% deaths\": 0.0, \"num of facilities\": 1}]}}, {\"mode\": \"vega-lite\"});\n",
       "</script>"
      ],
      "text/plain": [
       "alt.HConcatChart(...)"
      ]
     },
     "execution_count": 23,
     "metadata": {},
     "output_type": "execute_result"
    }
   ],
   "source": [
    "import altair as alt\n",
    "df1=df_county.sort_values(by=['deaths'], ascending=False).reset_index()\n",
    "cols = ['Deaths Non LTC', 'LTC Deaths']\n",
    "cols = ['LTC Deaths', 'Deaths Non LTC']\n",
    "\n",
    "\n",
    "chart1 = alt.Chart(df_county.sort_values(by=['deaths'], ascending=False).reset_index()).mark_bar().encode(\n",
    "    x='deaths:Q',\n",
    "    y=alt.Y('County:O'),\n",
    "    tooltip=['County', 'deaths', 'confirmed_cases', '% deaths']\n",
    ")\n",
    "chart2=chart1.encode(x=alt.X('% deaths', axis=alt.Axis(format='%')))\n",
    "#chart2=chart1.encode(x=alt.X('% deaths'))\n",
    "\n",
    "\n",
    "chart1 | chart2 "
   ]
  },
  {
   "cell_type": "code",
   "execution_count": null,
   "metadata": {
    "colab": {},
    "colab_type": "code",
    "id": "h4ivtsiJyyzd"
   },
   "outputs": [],
   "source": [
    "df.sort_values(by=['deaths'], ascending=False).to_csv('IL_LTC_Covid.csv')"
   ]
  },
  {
   "cell_type": "code",
   "execution_count": 12,
   "metadata": {
    "colab": {},
    "colab_type": "code",
    "id": "Rd1RZ4ZIyyzh",
    "outputId": "fa910313-2b6d-4cb3-cc8c-9fb9375f435d"
   },
   "outputs": [
    {
     "data": {
      "text/plain": [
       "1309"
      ]
     },
     "execution_count": 12,
     "metadata": {},
     "output_type": "execute_result"
    }
   ],
   "source": [
    "df.reporting_date.value_counts()[0]"
   ]
  },
  {
   "cell_type": "code",
   "execution_count": 13,
   "metadata": {
    "colab": {},
    "colab_type": "code",
    "id": "QO2ctLpUyyzl"
   },
   "outputs": [
    {
     "data": {
      "text/html": [
       "<div>\n",
       "<style scoped>\n",
       "    .dataframe tbody tr th:only-of-type {\n",
       "        vertical-align: middle;\n",
       "    }\n",
       "\n",
       "    .dataframe tbody tr th {\n",
       "        vertical-align: top;\n",
       "    }\n",
       "\n",
       "    .dataframe thead th {\n",
       "        text-align: right;\n",
       "    }\n",
       "</style>\n",
       "<table border=\"1\" class=\"dataframe\">\n",
       "  <thead>\n",
       "    <tr style=\"text-align: right;\">\n",
       "      <th></th>\n",
       "      <th>County</th>\n",
       "      <th>FacilityName</th>\n",
       "      <th>confirmed_cases</th>\n",
       "      <th>deaths</th>\n",
       "      <th>status</th>\n",
       "      <th>reporting_date</th>\n",
       "      <th>% deaths</th>\n",
       "      <th>num of facilities</th>\n",
       "    </tr>\n",
       "  </thead>\n",
       "  <tbody>\n",
       "    <tr>\n",
       "      <th>0</th>\n",
       "      <td>Adams</td>\n",
       "      <td>Chaddock</td>\n",
       "      <td>3</td>\n",
       "      <td>0</td>\n",
       "      <td>Closed</td>\n",
       "      <td>2020-11-06</td>\n",
       "      <td>0.000000</td>\n",
       "      <td>1</td>\n",
       "    </tr>\n",
       "    <tr>\n",
       "      <th>1</th>\n",
       "      <td>Adams</td>\n",
       "      <td>Illinois Veterans Home</td>\n",
       "      <td>45</td>\n",
       "      <td>2</td>\n",
       "      <td>Open</td>\n",
       "      <td>2020-11-06</td>\n",
       "      <td>0.044444</td>\n",
       "      <td>1</td>\n",
       "    </tr>\n",
       "    <tr>\n",
       "      <th>2</th>\n",
       "      <td>Adams</td>\n",
       "      <td>Senior Center</td>\n",
       "      <td>4</td>\n",
       "      <td>2</td>\n",
       "      <td>Closed</td>\n",
       "      <td>2020-11-06</td>\n",
       "      <td>0.500000</td>\n",
       "      <td>1</td>\n",
       "    </tr>\n",
       "    <tr>\n",
       "      <th>3</th>\n",
       "      <td>Adams</td>\n",
       "      <td>Good Samaritan Home</td>\n",
       "      <td>13</td>\n",
       "      <td>1</td>\n",
       "      <td>Open</td>\n",
       "      <td>2020-11-06</td>\n",
       "      <td>0.076923</td>\n",
       "      <td>1</td>\n",
       "    </tr>\n",
       "    <tr>\n",
       "      <th>4</th>\n",
       "      <td>Adams</td>\n",
       "      <td>Adams Pointe Senior Living</td>\n",
       "      <td>4</td>\n",
       "      <td>0</td>\n",
       "      <td>Closed</td>\n",
       "      <td>2020-11-06</td>\n",
       "      <td>0.000000</td>\n",
       "      <td>1</td>\n",
       "    </tr>\n",
       "  </tbody>\n",
       "</table>\n",
       "</div>"
      ],
      "text/plain": [
       "  County                FacilityName  confirmed_cases  deaths  status  \\\n",
       "0  Adams                    Chaddock                3       0  Closed   \n",
       "1  Adams      Illinois Veterans Home               45       2    Open   \n",
       "2  Adams               Senior Center                4       2  Closed   \n",
       "3  Adams         Good Samaritan Home               13       1    Open   \n",
       "4  Adams  Adams Pointe Senior Living                4       0  Closed   \n",
       "\n",
       "  reporting_date  % deaths  num of facilities  \n",
       "0     2020-11-06  0.000000                  1  \n",
       "1     2020-11-06  0.044444                  1  \n",
       "2     2020-11-06  0.500000                  1  \n",
       "3     2020-11-06  0.076923                  1  \n",
       "4     2020-11-06  0.000000                  1  "
      ]
     },
     "execution_count": 13,
     "metadata": {},
     "output_type": "execute_result"
    }
   ],
   "source": [
    "df.head()"
   ]
  }
 ],
 "metadata": {
  "colab": {
   "name": "IL LTC Data Analysis.ipynb",
   "provenance": []
  },
  "kernelspec": {
   "display_name": "Python 3",
   "language": "python",
   "name": "python3"
  },
  "language_info": {
   "codemirror_mode": {
    "name": "ipython",
    "version": 3
   },
   "file_extension": ".py",
   "mimetype": "text/x-python",
   "name": "python",
   "nbconvert_exporter": "python",
   "pygments_lexer": "ipython3",
   "version": "3.7.6"
  }
 },
 "nbformat": 4,
 "nbformat_minor": 4
}
