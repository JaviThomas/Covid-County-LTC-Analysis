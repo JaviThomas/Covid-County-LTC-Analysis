{
 "cells": [
  {
   "cell_type": "code",
   "execution_count": 1,
   "metadata": {
    "colab": {},
    "colab_type": "code",
    "id": "r3I8QTIvyyyJ"
   },
   "outputs": [],
   "source": [
    "import pandas as pd\n",
    "import urllib3 as urllib\n",
    "import json\n",
    "import IPython.display"
   ]
  },
  {
   "cell_type": "code",
   "execution_count": 2,
   "metadata": {
    "colab": {},
    "colab_type": "code",
    "id": "0DpPxHYpyyyQ"
   },
   "outputs": [],
   "source": [
    "http = urllib.PoolManager()\n",
    "\n",
    "def getResponse(url):\n",
    "    operUrl = http.request('GET', url)\n",
    "    if(operUrl.status==200):\n",
    "        data = operUrl.data\n",
    "        jsonData = json.loads(data.decode('utf-8'))\n",
    "    else:\n",
    "        print(\"Error receiving data\", operUrl.getcode())\n",
    "    return jsonData"
   ]
  },
  {
   "cell_type": "code",
   "execution_count": 3,
   "metadata": {
    "colab": {},
    "colab_type": "code",
    "id": "rtSr_6rEyyyZ"
   },
   "outputs": [],
   "source": [
    "ltc_data = getResponse('http://www.dph.illinois.gov/sitefiles/COVIDLTC.json')\n",
    "reporting_date = '%d-%02d-%02d' %(ltc_data['LastUpdateDate']['year'], ltc_data['LastUpdateDate']['month'], ltc_data['LastUpdateDate']['day'])"
   ]
  },
  {
   "cell_type": "code",
   "execution_count": 4,
   "metadata": {},
   "outputs": [],
   "source": [
    "#Saving a copy of source data \n",
    "ltc_data_json = json.dumps(ltc_data)"
   ]
  },
  {
   "cell_type": "code",
   "execution_count": null,
   "metadata": {},
   "outputs": [],
   "source": []
  },
  {
   "cell_type": "code",
   "execution_count": 5,
   "metadata": {},
   "outputs": [],
   "source": [
    "#Saving a copy of source data \n",
    "ltc_data_json = json.dumps(ltc_data)\n",
    "\n",
    "f = open(\"Source_data/IL_\" + reporting_date + \"LTC_data_Source.json\",\"w\")\n",
    "f.write(ltc_data_json)\n",
    "f.close()"
   ]
  },
  {
   "cell_type": "code",
   "execution_count": 6,
   "metadata": {
    "colab": {},
    "colab_type": "code",
    "id": "ubmsF36syyyn"
   },
   "outputs": [],
   "source": [
    "df = pd.DataFrame(ltc_data['FacilityValues'])\n",
    "df['reporting_date'] = reporting_date\n",
    "df['% deaths'] = df['deaths'] / df['confirmed_cases']"
   ]
  },
  {
   "cell_type": "code",
   "execution_count": 7,
   "metadata": {},
   "outputs": [],
   "source": [
    "df.to_csv('Reporting_data/IL_' + reporting_date + '_LTC_data_.csv', index = False)"
   ]
  },
  {
   "cell_type": "code",
   "execution_count": 8,
   "metadata": {
    "colab": {
     "base_uri": "https://localhost:8080/",
     "height": 67
    },
    "colab_type": "code",
    "id": "eBdmRkxzyyyx",
    "outputId": "e0123e5e-d68a-456a-f1b1-309334ca1a77"
   },
   "outputs": [
    {
     "name": "stdout",
     "output_type": "stream",
     "text": [
      "Date: 2020-10-23\n",
      "Cases: 32972\n",
      "Deaths:  4921\n",
      "Facilities: 1151\n"
     ]
    }
   ],
   "source": [
    "df['num of facilities'] = 1 \n",
    "a = df.sum()\n",
    "print ('Date: %s' % reporting_date)\n",
    "print ('Cases: %d' % a.confirmed_cases)\n",
    "print ('Deaths:  %d'% a.deaths)\n",
    "print ('Facilities: %d' % df.reporting_date.value_counts()[0])"
   ]
  },
  {
   "cell_type": "code",
   "execution_count": 9,
   "metadata": {
    "colab": {
     "base_uri": "https://localhost:8080/",
     "height": 1000
    },
    "colab_type": "code",
    "id": "xSXUDYotyyzA",
    "outputId": "8066eaf5-6bbd-4311-de99-64fef7efc3d7"
   },
   "outputs": [
    {
     "data": {
      "text/html": [
       "<div>\n",
       "<style scoped>\n",
       "    .dataframe tbody tr th:only-of-type {\n",
       "        vertical-align: middle;\n",
       "    }\n",
       "\n",
       "    .dataframe tbody tr th {\n",
       "        vertical-align: top;\n",
       "    }\n",
       "\n",
       "    .dataframe thead th {\n",
       "        text-align: right;\n",
       "    }\n",
       "</style>\n",
       "<table border=\"1\" class=\"dataframe\">\n",
       "  <thead>\n",
       "    <tr style=\"text-align: right;\">\n",
       "      <th></th>\n",
       "      <th>confirmed_cases</th>\n",
       "      <th>deaths</th>\n",
       "      <th>% deaths</th>\n",
       "      <th>num of facilities</th>\n",
       "    </tr>\n",
       "    <tr>\n",
       "      <th>County</th>\n",
       "      <th></th>\n",
       "      <th></th>\n",
       "      <th></th>\n",
       "      <th></th>\n",
       "    </tr>\n",
       "  </thead>\n",
       "  <tbody>\n",
       "    <tr>\n",
       "      <th>Cook</th>\n",
       "      <td>14740</td>\n",
       "      <td>2432</td>\n",
       "      <td>0.164993</td>\n",
       "      <td>375</td>\n",
       "    </tr>\n",
       "    <tr>\n",
       "      <th>DuPage</th>\n",
       "      <td>2525</td>\n",
       "      <td>444</td>\n",
       "      <td>0.175842</td>\n",
       "      <td>98</td>\n",
       "    </tr>\n",
       "    <tr>\n",
       "      <th>Lake</th>\n",
       "      <td>2245</td>\n",
       "      <td>338</td>\n",
       "      <td>0.150557</td>\n",
       "      <td>77</td>\n",
       "    </tr>\n",
       "    <tr>\n",
       "      <th>Will</th>\n",
       "      <td>1318</td>\n",
       "      <td>201</td>\n",
       "      <td>0.152504</td>\n",
       "      <td>56</td>\n",
       "    </tr>\n",
       "    <tr>\n",
       "      <th>Kane</th>\n",
       "      <td>1307</td>\n",
       "      <td>193</td>\n",
       "      <td>0.147666</td>\n",
       "      <td>67</td>\n",
       "    </tr>\n",
       "    <tr>\n",
       "      <th>...</th>\n",
       "      <td>...</td>\n",
       "      <td>...</td>\n",
       "      <td>...</td>\n",
       "      <td>...</td>\n",
       "    </tr>\n",
       "    <tr>\n",
       "      <th>Crawford</th>\n",
       "      <td>2</td>\n",
       "      <td>0</td>\n",
       "      <td>0.000000</td>\n",
       "      <td>1</td>\n",
       "    </tr>\n",
       "    <tr>\n",
       "      <th>Logan</th>\n",
       "      <td>12</td>\n",
       "      <td>0</td>\n",
       "      <td>0.000000</td>\n",
       "      <td>4</td>\n",
       "    </tr>\n",
       "    <tr>\n",
       "      <th>Mason</th>\n",
       "      <td>12</td>\n",
       "      <td>0</td>\n",
       "      <td>0.000000</td>\n",
       "      <td>2</td>\n",
       "    </tr>\n",
       "    <tr>\n",
       "      <th>Brown</th>\n",
       "      <td>6</td>\n",
       "      <td>0</td>\n",
       "      <td>0.000000</td>\n",
       "      <td>1</td>\n",
       "    </tr>\n",
       "    <tr>\n",
       "      <th>Scott</th>\n",
       "      <td>7</td>\n",
       "      <td>0</td>\n",
       "      <td>0.000000</td>\n",
       "      <td>1</td>\n",
       "    </tr>\n",
       "  </tbody>\n",
       "</table>\n",
       "<p>84 rows × 4 columns</p>\n",
       "</div>"
      ],
      "text/plain": [
       "          confirmed_cases  deaths  % deaths  num of facilities\n",
       "County                                                        \n",
       "Cook                14740    2432  0.164993                375\n",
       "DuPage               2525     444  0.175842                 98\n",
       "Lake                 2245     338  0.150557                 77\n",
       "Will                 1318     201  0.152504                 56\n",
       "Kane                 1307     193  0.147666                 67\n",
       "...                   ...     ...       ...                ...\n",
       "Crawford                2       0  0.000000                  1\n",
       "Logan                  12       0  0.000000                  4\n",
       "Mason                  12       0  0.000000                  2\n",
       "Brown                   6       0  0.000000                  1\n",
       "Scott                   7       0  0.000000                  1\n",
       "\n",
       "[84 rows x 4 columns]"
      ]
     },
     "execution_count": 9,
     "metadata": {},
     "output_type": "execute_result"
    }
   ],
   "source": [
    "df_county = df.groupby(by=['County']).sum()\n",
    "df_county['% deaths'] = (df_county['deaths'] / df_county['confirmed_cases'])\n",
    "df_county.sort_values('deaths', ascending=False).to_csv('Reporting_data/IL_county_stats_' + reporting_date + '.csv')\n",
    "df_county.sort_values('deaths', ascending=False)"
   ]
  },
  {
   "cell_type": "code",
   "execution_count": 10,
   "metadata": {
    "colab": {
     "base_uri": "https://localhost:8080/",
     "height": 885
    },
    "colab_type": "code",
    "id": "XwtrMuSVyyzL",
    "outputId": "1c9bb650-b588-4f90-f329-5c14ba8a5385"
   },
   "outputs": [
    {
     "data": {
      "text/html": [
       "\n",
       "<div id=\"altair-viz-2bc4baa323b247fba7933b8114ba93ad\"></div>\n",
       "<script type=\"text/javascript\">\n",
       "  (function(spec, embedOpt){\n",
       "    let outputDiv = document.currentScript.previousElementSibling;\n",
       "    if (outputDiv.id !== \"altair-viz-2bc4baa323b247fba7933b8114ba93ad\") {\n",
       "      outputDiv = document.getElementById(\"altair-viz-2bc4baa323b247fba7933b8114ba93ad\");\n",
       "    }\n",
       "    const paths = {\n",
       "      \"vega\": \"https://cdn.jsdelivr.net/npm//vega@5?noext\",\n",
       "      \"vega-lib\": \"https://cdn.jsdelivr.net/npm//vega-lib?noext\",\n",
       "      \"vega-lite\": \"https://cdn.jsdelivr.net/npm//vega-lite@4.8.1?noext\",\n",
       "      \"vega-embed\": \"https://cdn.jsdelivr.net/npm//vega-embed@6?noext\",\n",
       "    };\n",
       "\n",
       "    function loadScript(lib) {\n",
       "      return new Promise(function(resolve, reject) {\n",
       "        var s = document.createElement('script');\n",
       "        s.src = paths[lib];\n",
       "        s.async = true;\n",
       "        s.onload = () => resolve(paths[lib]);\n",
       "        s.onerror = () => reject(`Error loading script: ${paths[lib]}`);\n",
       "        document.getElementsByTagName(\"head\")[0].appendChild(s);\n",
       "      });\n",
       "    }\n",
       "\n",
       "    function showError(err) {\n",
       "      outputDiv.innerHTML = `<div class=\"error\" style=\"color:red;\">${err}</div>`;\n",
       "      throw err;\n",
       "    }\n",
       "\n",
       "    function displayChart(vegaEmbed) {\n",
       "      vegaEmbed(outputDiv, spec, embedOpt)\n",
       "        .catch(err => showError(`Javascript Error: ${err.message}<br>This usually means there's a typo in your chart specification. See the javascript console for the full traceback.`));\n",
       "    }\n",
       "\n",
       "    if(typeof define === \"function\" && define.amd) {\n",
       "      requirejs.config({paths});\n",
       "      require([\"vega-embed\"], displayChart, err => showError(`Error loading script: ${err.message}`));\n",
       "    } else if (typeof vegaEmbed === \"function\") {\n",
       "      displayChart(vegaEmbed);\n",
       "    } else {\n",
       "      loadScript(\"vega\")\n",
       "        .then(() => loadScript(\"vega-lite\"))\n",
       "        .then(() => loadScript(\"vega-embed\"))\n",
       "        .catch(showError)\n",
       "        .then(() => displayChart(vegaEmbed));\n",
       "    }\n",
       "  })({\"config\": {\"view\": {\"continuousWidth\": 400, \"continuousHeight\": 300}}, \"hconcat\": [{\"mark\": \"bar\", \"encoding\": {\"tooltip\": [{\"type\": \"nominal\", \"field\": \"County\"}, {\"type\": \"quantitative\", \"field\": \"deaths\"}, {\"type\": \"quantitative\", \"field\": \"confirmed_cases\"}, {\"type\": \"quantitative\", \"field\": \"% deaths\"}], \"x\": {\"type\": \"quantitative\", \"field\": \"deaths\"}, \"y\": {\"type\": \"ordinal\", \"field\": \"County\", \"sort\": \"-x\"}}}, {\"mark\": \"bar\", \"encoding\": {\"tooltip\": [{\"type\": \"nominal\", \"field\": \"County\"}, {\"type\": \"quantitative\", \"field\": \"deaths\"}, {\"type\": \"quantitative\", \"field\": \"confirmed_cases\"}, {\"type\": \"quantitative\", \"field\": \"% deaths\"}], \"x\": {\"type\": \"quantitative\", \"axis\": {\"format\": \"%\"}, \"field\": \"% deaths\"}, \"y\": {\"type\": \"ordinal\", \"field\": \"County\", \"sort\": \"-x\"}}}], \"data\": {\"name\": \"data-ae677f3a0a1d36ab959039ebcf83a55e\"}, \"$schema\": \"https://vega.github.io/schema/vega-lite/v4.8.1.json\", \"datasets\": {\"data-ae677f3a0a1d36ab959039ebcf83a55e\": [{\"County\": \"Cook\", \"confirmed_cases\": 14740, \"deaths\": 2432, \"% deaths\": 0.1649932157394844, \"num of facilities\": 375}, {\"County\": \"DuPage\", \"confirmed_cases\": 2525, \"deaths\": 444, \"% deaths\": 0.17584158415841583, \"num of facilities\": 98}, {\"County\": \"Lake\", \"confirmed_cases\": 2245, \"deaths\": 338, \"% deaths\": 0.15055679287305124, \"num of facilities\": 77}, {\"County\": \"Will\", \"confirmed_cases\": 1318, \"deaths\": 201, \"% deaths\": 0.15250379362670713, \"num of facilities\": 56}, {\"County\": \"Kane\", \"confirmed_cases\": 1307, \"deaths\": 193, \"% deaths\": 0.1476664116296863, \"num of facilities\": 67}, {\"County\": \"St. Clair\", \"confirmed_cases\": 896, \"deaths\": 128, \"% deaths\": 0.14285714285714285, \"num of facilities\": 36}, {\"County\": \"Madison\", \"confirmed_cases\": 835, \"deaths\": 109, \"% deaths\": 0.13053892215568863, \"num of facilities\": 37}, {\"County\": \"Winnebago\", \"confirmed_cases\": 679, \"deaths\": 105, \"% deaths\": 0.15463917525773196, \"num of facilities\": 25}, {\"County\": \"McHenry\", \"confirmed_cases\": 536, \"deaths\": 92, \"% deaths\": 0.17164179104477612, \"num of facilities\": 19}, {\"County\": \"Rock Island\", \"confirmed_cases\": 459, \"deaths\": 68, \"% deaths\": 0.14814814814814814, \"num of facilities\": 16}, {\"County\": \"Peoria\", \"confirmed_cases\": 454, \"deaths\": 48, \"% deaths\": 0.10572687224669604, \"num of facilities\": 20}, {\"County\": \"Kankakee\", \"confirmed_cases\": 550, \"deaths\": 47, \"% deaths\": 0.08545454545454545, \"num of facilities\": 17}, {\"County\": \"LaSalle\", \"confirmed_cases\": 372, \"deaths\": 47, \"% deaths\": 0.12634408602150538, \"num of facilities\": 11}, {\"County\": \"Williamson\", \"confirmed_cases\": 240, \"deaths\": 41, \"% deaths\": 0.17083333333333334, \"num of facilities\": 9}, {\"County\": \"Jefferson\", \"confirmed_cases\": 232, \"deaths\": 39, \"% deaths\": 0.16810344827586207, \"num of facilities\": 5}, {\"County\": \"Sangamon\", \"confirmed_cases\": 337, \"deaths\": 36, \"% deaths\": 0.10682492581602374, \"num of facilities\": 15}, {\"County\": \"Macon\", \"confirmed_cases\": 259, \"deaths\": 34, \"% deaths\": 0.13127413127413126, \"num of facilities\": 9}, {\"County\": \"Tazewell\", \"confirmed_cases\": 226, \"deaths\": 30, \"% deaths\": 0.13274336283185842, \"num of facilities\": 13}, {\"County\": \"Coles\", \"confirmed_cases\": 237, \"deaths\": 30, \"% deaths\": 0.12658227848101267, \"num of facilities\": 8}, {\"County\": \"DeKalb\", \"confirmed_cases\": 198, \"deaths\": 28, \"% deaths\": 0.1414141414141414, \"num of facilities\": 9}, {\"County\": \"Monroe\", \"confirmed_cases\": 153, \"deaths\": 24, \"% deaths\": 0.1568627450980392, \"num of facilities\": 4}, {\"County\": \"Morgan\", \"confirmed_cases\": 155, \"deaths\": 24, \"% deaths\": 0.15483870967741936, \"num of facilities\": 5}, {\"County\": \"Union\", \"confirmed_cases\": 132, \"deaths\": 20, \"% deaths\": 0.15151515151515152, \"num of facilities\": 3}, {\"County\": \"Clinton\", \"confirmed_cases\": 265, \"deaths\": 18, \"% deaths\": 0.06792452830188679, \"num of facilities\": 10}, {\"County\": \"Iroquois\", \"confirmed_cases\": 132, \"deaths\": 18, \"% deaths\": 0.13636363636363635, \"num of facilities\": 3}, {\"County\": \"Christian\", \"confirmed_cases\": 159, \"deaths\": 18, \"% deaths\": 0.11320754716981132, \"num of facilities\": 8}, {\"County\": \"Jersey\", \"confirmed_cases\": 100, \"deaths\": 17, \"% deaths\": 0.17, \"num of facilities\": 1}, {\"County\": \"Richland\", \"confirmed_cases\": 145, \"deaths\": 17, \"% deaths\": 0.11724137931034483, \"num of facilities\": 5}, {\"County\": \"Boone\", \"confirmed_cases\": 100, \"deaths\": 17, \"% deaths\": 0.17, \"num of facilities\": 3}, {\"County\": \"McDonough\", \"confirmed_cases\": 97, \"deaths\": 17, \"% deaths\": 0.17525773195876287, \"num of facilities\": 7}, {\"County\": \"Jackson\", \"confirmed_cases\": 109, \"deaths\": 16, \"% deaths\": 0.14678899082568808, \"num of facilities\": 4}, {\"County\": \"McLean\", \"confirmed_cases\": 189, \"deaths\": 16, \"% deaths\": 0.08465608465608465, \"num of facilities\": 13}, {\"County\": \"Kendall\", \"confirmed_cases\": 72, \"deaths\": 14, \"% deaths\": 0.19444444444444445, \"num of facilities\": 5}, {\"County\": \"Fayette\", \"confirmed_cases\": 111, \"deaths\": 14, \"% deaths\": 0.12612612612612611, \"num of facilities\": 3}, {\"County\": \"Greene\", \"confirmed_cases\": 100, \"deaths\": 14, \"% deaths\": 0.14, \"num of facilities\": 1}, {\"County\": \"Whiteside\", \"confirmed_cases\": 112, \"deaths\": 12, \"% deaths\": 0.10714285714285714, \"num of facilities\": 7}, {\"County\": \"Perry\", \"confirmed_cases\": 79, \"deaths\": 12, \"% deaths\": 0.1518987341772152, \"num of facilities\": 2}, {\"County\": \"Clay\", \"confirmed_cases\": 55, \"deaths\": 11, \"% deaths\": 0.2, \"num of facilities\": 1}, {\"County\": \"Cass\", \"confirmed_cases\": 66, \"deaths\": 11, \"% deaths\": 0.16666666666666666, \"num of facilities\": 2}, {\"County\": \"Adams\", \"confirmed_cases\": 159, \"deaths\": 10, \"% deaths\": 0.06289308176100629, \"num of facilities\": 10}, {\"County\": \"Champaign\", \"confirmed_cases\": 115, \"deaths\": 10, \"% deaths\": 0.08695652173913043, \"num of facilities\": 16}, {\"County\": \"Jasper\", \"confirmed_cases\": 57, \"deaths\": 8, \"% deaths\": 0.14035087719298245, \"num of facilities\": 2}, {\"County\": \"Shelby\", \"confirmed_cases\": 122, \"deaths\": 7, \"% deaths\": 0.05737704918032787, \"num of facilities\": 5}, {\"County\": \"Clark\", \"confirmed_cases\": 65, \"deaths\": 7, \"% deaths\": 0.1076923076923077, \"num of facilities\": 3}, {\"County\": \"Edgar\", \"confirmed_cases\": 34, \"deaths\": 6, \"% deaths\": 0.17647058823529413, \"num of facilities\": 1}, {\"County\": \"Ford\", \"confirmed_cases\": 99, \"deaths\": 6, \"% deaths\": 0.06060606060606061, \"num of facilities\": 6}, {\"County\": \"Woodford\", \"confirmed_cases\": 67, \"deaths\": 5, \"% deaths\": 0.07462686567164178, \"num of facilities\": 3}, {\"County\": \"Lawrence\", \"confirmed_cases\": 114, \"deaths\": 5, \"% deaths\": 0.043859649122807015, \"num of facilities\": 2}, {\"County\": \"Jo Daviess\", \"confirmed_cases\": 28, \"deaths\": 5, \"% deaths\": 0.17857142857142858, \"num of facilities\": 3}, {\"County\": \"Knox\", \"confirmed_cases\": 122, \"deaths\": 4, \"% deaths\": 0.03278688524590164, \"num of facilities\": 5}, {\"County\": \"Moultrie\", \"confirmed_cases\": 42, \"deaths\": 4, \"% deaths\": 0.09523809523809523, \"num of facilities\": 2}, {\"County\": \"Carroll\", \"confirmed_cases\": 87, \"deaths\": 4, \"% deaths\": 0.04597701149425287, \"num of facilities\": 2}, {\"County\": \"Bond\", \"confirmed_cases\": 40, \"deaths\": 4, \"% deaths\": 0.1, \"num of facilities\": 2}, {\"County\": \"Mercer\", \"confirmed_cases\": 16, \"deaths\": 4, \"% deaths\": 0.25, \"num of facilities\": 1}, {\"County\": \"Cumberland\", \"confirmed_cases\": 35, \"deaths\": 3, \"% deaths\": 0.08571428571428572, \"num of facilities\": 1}, {\"County\": \"Grundy\", \"confirmed_cases\": 31, \"deaths\": 3, \"% deaths\": 0.0967741935483871, \"num of facilities\": 1}, {\"County\": \"Pike\", \"confirmed_cases\": 51, \"deaths\": 3, \"% deaths\": 0.058823529411764705, \"num of facilities\": 2}, {\"County\": \"Macoupin\", \"confirmed_cases\": 60, \"deaths\": 3, \"% deaths\": 0.05, \"num of facilities\": 8}, {\"County\": \"Montgomery\", \"confirmed_cases\": 17, \"deaths\": 3, \"% deaths\": 0.17647058823529413, \"num of facilities\": 3}, {\"County\": \"Wayne\", \"confirmed_cases\": 41, \"deaths\": 3, \"% deaths\": 0.07317073170731707, \"num of facilities\": 4}, {\"County\": \"Warren\", \"confirmed_cases\": 12, \"deaths\": 2, \"% deaths\": 0.16666666666666666, \"num of facilities\": 2}, {\"County\": \"Marion\", \"confirmed_cases\": 34, \"deaths\": 2, \"% deaths\": 0.058823529411764705, \"num of facilities\": 6}, {\"County\": \"Washington\", \"confirmed_cases\": 2, \"deaths\": 1, \"% deaths\": 0.5, \"num of facilities\": 1}, {\"County\": \"De Witt\", \"confirmed_cases\": 57, \"deaths\": 1, \"% deaths\": 0.017543859649122806, \"num of facilities\": 1}, {\"County\": \"Wabash\", \"confirmed_cases\": 31, \"deaths\": 1, \"% deaths\": 0.03225806451612903, \"num of facilities\": 2}, {\"County\": \"Bureau\", \"confirmed_cases\": 19, \"deaths\": 1, \"% deaths\": 0.05263157894736842, \"num of facilities\": 2}, {\"County\": \"Saline\", \"confirmed_cases\": 28, \"deaths\": 1, \"% deaths\": 0.03571428571428571, \"num of facilities\": 2}, {\"County\": \"Hancock\", \"confirmed_cases\": 3, \"deaths\": 1, \"% deaths\": 0.3333333333333333, \"num of facilities\": 1}, {\"County\": \"Franklin\", \"confirmed_cases\": 43, \"deaths\": 1, \"% deaths\": 0.023255813953488372, \"num of facilities\": 4}, {\"County\": \"Livingston\", \"confirmed_cases\": 29, \"deaths\": 1, \"% deaths\": 0.034482758620689655, \"num of facilities\": 3}, {\"County\": \"Ogle\", \"confirmed_cases\": 30, \"deaths\": 1, \"% deaths\": 0.03333333333333333, \"num of facilities\": 3}, {\"County\": \"Lee\", \"confirmed_cases\": 125, \"deaths\": 1, \"% deaths\": 0.008, \"num of facilities\": 2}, {\"County\": \"Fulton\", \"confirmed_cases\": 5, \"deaths\": 0, \"% deaths\": 0.0, \"num of facilities\": 1}, {\"County\": \"Vermilion\", \"confirmed_cases\": 31, \"deaths\": 0, \"% deaths\": 0.0, \"num of facilities\": 4}, {\"County\": \"Randolph\", \"confirmed_cases\": 34, \"deaths\": 0, \"% deaths\": 0.0, \"num of facilities\": 7}, {\"County\": \"Effingham\", \"confirmed_cases\": 9, \"deaths\": 0, \"% deaths\": 0.0, \"num of facilities\": 3}, {\"County\": \"Stephenson\", \"confirmed_cases\": 17, \"deaths\": 0, \"% deaths\": 0.0, \"num of facilities\": 3}, {\"County\": \"Douglas\", \"confirmed_cases\": 12, \"deaths\": 0, \"% deaths\": 0.0, \"num of facilities\": 2}, {\"County\": \"White\", \"confirmed_cases\": 34, \"deaths\": 0, \"% deaths\": 0.0, \"num of facilities\": 2}, {\"County\": \"Crawford\", \"confirmed_cases\": 2, \"deaths\": 0, \"% deaths\": 0.0, \"num of facilities\": 1}, {\"County\": \"Logan\", \"confirmed_cases\": 12, \"deaths\": 0, \"% deaths\": 0.0, \"num of facilities\": 4}, {\"County\": \"Mason\", \"confirmed_cases\": 12, \"deaths\": 0, \"% deaths\": 0.0, \"num of facilities\": 2}, {\"County\": \"Brown\", \"confirmed_cases\": 6, \"deaths\": 0, \"% deaths\": 0.0, \"num of facilities\": 1}, {\"County\": \"Scott\", \"confirmed_cases\": 7, \"deaths\": 0, \"% deaths\": 0.0, \"num of facilities\": 1}]}}, {\"mode\": \"vega-lite\"});\n",
       "</script>"
      ],
      "text/plain": [
       "alt.HConcatChart(...)"
      ]
     },
     "execution_count": 10,
     "metadata": {},
     "output_type": "execute_result"
    }
   ],
   "source": [
    "import altair as alt\n",
    "df1=df_county.sort_values(by=['deaths'], ascending=False).reset_index()\n",
    "cols = ['Deaths Non LTC', 'LTC Deaths']\n",
    "cols = ['LTC Deaths', 'Deaths Non LTC']\n",
    "\n",
    "\n",
    "chart1 = alt.Chart(df_county.sort_values(by=['deaths'], ascending=False).reset_index()).mark_bar().encode(\n",
    "    x='deaths:Q',\n",
    "    y=alt.Y('County:O', sort='-x'),\n",
    "    tooltip=['County', 'deaths', 'confirmed_cases', '% deaths']\n",
    ")\n",
    "chart2=chart1.encode(x=alt.X('% deaths', axis=alt.Axis(format='%')))\n",
    "#chart2=chart1.encode(x=alt.X('% deaths'))\n",
    "\n",
    "\n",
    "chart1 | chart2"
   ]
  },
  {
   "cell_type": "code",
   "execution_count": 11,
   "metadata": {
    "colab": {},
    "colab_type": "code",
    "id": "lKfOyMwTyyzV",
    "outputId": "2ab0fea3-9b6b-4486-e889-1fef19f0e3db"
   },
   "outputs": [
    {
     "ename": "ModuleNotFoundError",
     "evalue": "No module named 'vega_datasets'",
     "output_type": "error",
     "traceback": [
      "\u001b[0;31m---------------------------------------------------------------------------\u001b[0m",
      "\u001b[0;31mModuleNotFoundError\u001b[0m                       Traceback (most recent call last)",
      "\u001b[0;32m<ipython-input-11-50c1cfff0564>\u001b[0m in \u001b[0;36m<module>\u001b[0;34m\u001b[0m\n\u001b[1;32m      1\u001b[0m \u001b[0;32mimport\u001b[0m \u001b[0maltair\u001b[0m \u001b[0;32mas\u001b[0m \u001b[0malt\u001b[0m\u001b[0;34m\u001b[0m\u001b[0;34m\u001b[0m\u001b[0m\n\u001b[0;32m----> 2\u001b[0;31m \u001b[0;32mfrom\u001b[0m \u001b[0mvega_datasets\u001b[0m \u001b[0;32mimport\u001b[0m \u001b[0mdata\u001b[0m\u001b[0;34m\u001b[0m\u001b[0;34m\u001b[0m\u001b[0m\n\u001b[0m\u001b[1;32m      3\u001b[0m \u001b[0mdf1\u001b[0m\u001b[0;34m=\u001b[0m\u001b[0mdf_county\u001b[0m\u001b[0;34m.\u001b[0m\u001b[0msort_values\u001b[0m\u001b[0;34m(\u001b[0m\u001b[0mby\u001b[0m\u001b[0;34m=\u001b[0m\u001b[0;34m[\u001b[0m\u001b[0;34m'deaths'\u001b[0m\u001b[0;34m]\u001b[0m\u001b[0;34m,\u001b[0m \u001b[0mascending\u001b[0m\u001b[0;34m=\u001b[0m\u001b[0;32mFalse\u001b[0m\u001b[0;34m)\u001b[0m\u001b[0;34m.\u001b[0m\u001b[0mreset_index\u001b[0m\u001b[0;34m(\u001b[0m\u001b[0;34m)\u001b[0m\u001b[0;34m\u001b[0m\u001b[0;34m\u001b[0m\u001b[0m\n\u001b[1;32m      4\u001b[0m \u001b[0mcols\u001b[0m \u001b[0;34m=\u001b[0m \u001b[0;34m[\u001b[0m\u001b[0;34m'Deaths Non LTC'\u001b[0m\u001b[0;34m,\u001b[0m \u001b[0;34m'LTC Deaths'\u001b[0m\u001b[0;34m]\u001b[0m\u001b[0;34m\u001b[0m\u001b[0;34m\u001b[0m\u001b[0m\n\u001b[1;32m      5\u001b[0m \u001b[0mcols\u001b[0m \u001b[0;34m=\u001b[0m \u001b[0;34m[\u001b[0m\u001b[0;34m'LTC Deaths'\u001b[0m\u001b[0;34m,\u001b[0m \u001b[0;34m'Deaths Non LTC'\u001b[0m\u001b[0;34m]\u001b[0m\u001b[0;34m\u001b[0m\u001b[0;34m\u001b[0m\u001b[0m\n",
      "\u001b[0;31mModuleNotFoundError\u001b[0m: No module named 'vega_datasets'"
     ]
    }
   ],
   "source": [
    "import altair as alt\n",
    "from vega_datasets import data\n",
    "df1=df_county.sort_values(by=['deaths'], ascending=False).reset_index()\n",
    "cols = ['Deaths Non LTC', 'LTC Deaths']\n",
    "cols = ['LTC Deaths', 'Deaths Non LTC']\n",
    "\n",
    "\n",
    "chart1 = alt.Chart(df_county.sort_values(by=['deaths'], ascending=False).reset_index()).mark_bar().encode(\n",
    "    x='deaths:Q',\n",
    "    y=alt.Y('County:O'),\n",
    "    tooltip=['County', 'deaths', 'confirmed_cases', '% deaths']\n",
    ")\n",
    "chart2=chart1.encode(x=alt.X('% deaths', axis=alt.Axis(format='%')))\n",
    "#chart2=chart1.encode(x=alt.X('% deaths'))\n",
    "\n",
    "\n",
    "chart1 | chart2 "
   ]
  },
  {
   "cell_type": "code",
   "execution_count": null,
   "metadata": {
    "colab": {},
    "colab_type": "code",
    "id": "h4ivtsiJyyzd"
   },
   "outputs": [],
   "source": [
    "df.sort_values(by=['deaths'], ascending=False).to_csv('IL_LTC_Covid.csv')"
   ]
  },
  {
   "cell_type": "code",
   "execution_count": null,
   "metadata": {
    "colab": {},
    "colab_type": "code",
    "id": "Rd1RZ4ZIyyzh",
    "outputId": "fa910313-2b6d-4cb3-cc8c-9fb9375f435d"
   },
   "outputs": [],
   "source": [
    "df.reporting_date.value_counts()[0]"
   ]
  },
  {
   "cell_type": "code",
   "execution_count": null,
   "metadata": {
    "colab": {},
    "colab_type": "code",
    "id": "QO2ctLpUyyzl"
   },
   "outputs": [],
   "source": [
    "df.head()"
   ]
  },
  {
   "cell_type": "code",
   "execution_count": null,
   "metadata": {},
   "outputs": [],
   "source": [
    "df.sum()"
   ]
  },
  {
   "cell_type": "code",
   "execution_count": null,
   "metadata": {},
   "outputs": [],
   "source": [
    "df2 = pd.read_json(r'../Covid-County-LTC-Analysis/Source_data/IL_2020-05-29LTC_data_Source.json'[FacilityValues])"
   ]
  },
  {
   "cell_type": "code",
   "execution_count": null,
   "metadata": {},
   "outputs": [],
   "source": [
    "int(3103.23)"
   ]
  },
  {
   "cell_type": "code",
   "execution_count": null,
   "metadata": {},
   "outputs": [],
   "source": [
    "len(str(3103))"
   ]
  },
  {
   "cell_type": "code",
   "execution_count": null,
   "metadata": {},
   "outputs": [],
   "source": [
    "def roundUp(n):\n",
    "    '''Round up to set axis upper limit'''\n",
    "    n1 = 10**(len(str(int(n))) - 2)\n",
    "    return int(n/n1+1)*n1"
   ]
  },
  {
   "cell_type": "code",
   "execution_count": null,
   "metadata": {},
   "outputs": [],
   "source": [
    "n=3103.23\n",
    "n1=10**(len(str(int(n))) - 2)\n",
    "int(n/n1+1)*n1"
   ]
  },
  {
   "cell_type": "code",
   "execution_count": null,
   "metadata": {},
   "outputs": [],
   "source": [
    "print(roundUp(3199.33))\n",
    "print(roundUp(39.33))"
   ]
  },
  {
   "cell_type": "code",
   "execution_count": null,
   "metadata": {},
   "outputs": [],
   "source": [
    "n=33.8\n",
    "n1 = 10 ** (len(str(int(n))) - 2)\n",
    "if n1 <0: n1 = 2\n",
    "print (n, n1)\n",
    "int(int(n / n1 + 1) * n1)"
   ]
  },
  {
   "cell_type": "code",
   "execution_count": null,
   "metadata": {},
   "outputs": [],
   "source": [
    "n1"
   ]
  },
  {
   "cell_type": "code",
   "execution_count": null,
   "metadata": {},
   "outputs": [],
   "source": [
    "int(n)"
   ]
  },
  {
   "cell_type": "code",
   "execution_count": null,
   "metadata": {},
   "outputs": [],
   "source": []
  }
 ],
 "metadata": {
  "colab": {
   "name": "IL LTC Data Analysis.ipynb",
   "provenance": []
  },
  "kernelspec": {
   "display_name": "Python 3",
   "language": "python",
   "name": "python3"
  },
  "language_info": {
   "codemirror_mode": {
    "name": "ipython",
    "version": 3
   },
   "file_extension": ".py",
   "mimetype": "text/x-python",
   "name": "python",
   "nbconvert_exporter": "python",
   "pygments_lexer": "ipython3",
   "version": "3.7.6"
  }
 },
 "nbformat": 4,
 "nbformat_minor": 4
}
