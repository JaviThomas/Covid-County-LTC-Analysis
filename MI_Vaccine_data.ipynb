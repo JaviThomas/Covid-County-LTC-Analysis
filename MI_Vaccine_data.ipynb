{
 "cells": [
  {
   "cell_type": "markdown",
   "metadata": {},
   "source": [
    "# Statistics on MI Vaccinations"
   ]
  },
  {
   "cell_type": "code",
   "execution_count": 1,
   "metadata": {},
   "outputs": [],
   "source": [
    "import pandas as pd"
   ]
  },
  {
   "cell_type": "code",
   "execution_count": 2,
   "metadata": {},
   "outputs": [],
   "source": [
    "df= pd.read_excel('https://www.michigan.gov/documents/flu/Covid_Vaccine_Doses_Administered_710815_7.xlsx', sheet_name=1)"
   ]
  },
  {
   "cell_type": "code",
   "execution_count": 13,
   "metadata": {},
   "outputs": [
    {
     "name": "stdout",
     "output_type": "stream",
     "text": [
      "Counts by: Facility Type\n",
      "===============================================\n",
      "Federally Qualified Health Center: 1802\n",
      "Hospital: 144911\n",
      "Local Health Department: 29955\n",
      "Pharmacy: 2322\n",
      "Tribal Health: 195\n",
      "Family Practice: 89\n",
      "Internal Medicine: 1\n",
      "Long Term Care: 316\n",
      "LTC Program: 10215\n",
      "Occupational Health: 817\n",
      "Home Health Provider: 4503\n",
      "Urgent Care: 114\n"
     ]
    }
   ],
   "source": [
    "area = 'Facility Type'\n",
    "print ('Counts by: ' + area)\n",
    "print ('===============================================')\n",
    "for type in df[area].unique():\n",
    "    a_df = df[df[area] == type]\n",
    "    print('%s: %d' % (type, a_df['Number of Doses'].sum()))"
   ]
  },
  {
   "cell_type": "code",
   "execution_count": 14,
   "metadata": {},
   "outputs": [
    {
     "name": "stdout",
     "output_type": "stream",
     "text": [
      "Counts by: Vaccine Type\n",
      "===============================================\n",
      "Moderna: 52588\n",
      "Pfizer: 142652\n"
     ]
    }
   ],
   "source": [
    "area = 'Vaccine Type'\n",
    "print ('Counts by: ' + area)\n",
    "print ('===============================================')\n",
    "for type in df[area].unique():\n",
    "    a_df = df[df[area] == type]\n",
    "    print('%s: %d' % (type, a_df['Number of Doses'].sum()))"
   ]
  },
  {
   "cell_type": "code",
   "execution_count": null,
   "metadata": {},
   "outputs": [],
   "source": []
  }
 ],
 "metadata": {
  "kernelspec": {
   "display_name": "Python 3",
   "language": "python",
   "name": "python3"
  },
  "language_info": {
   "codemirror_mode": {
    "name": "ipython",
    "version": 3
   },
   "file_extension": ".py",
   "mimetype": "text/x-python",
   "name": "python",
   "nbconvert_exporter": "python",
   "pygments_lexer": "ipython3",
   "version": "3.7.6"
  }
 },
 "nbformat": 4,
 "nbformat_minor": 4
}
