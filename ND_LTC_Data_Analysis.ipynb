{
 "cells": [
  {
   "cell_type": "code",
   "execution_count": 6,
   "metadata": {
    "colab": {},
    "colab_type": "code",
    "id": "r3I8QTIvyyyJ"
   },
   "outputs": [],
   "source": [
    "import pandas as pd\n",
    "import urllib3 as urllib\n",
    "import json\n",
    "from io import StringIO\n",
    "\n",
    "import IPython.display"
   ]
  },
  {
   "cell_type": "code",
   "execution_count": 3,
   "metadata": {},
   "outputs": [],
   "source": [
    "http = urllib.PoolManager()\n",
    "\n",
    "def getResponse(url):\n",
    "    operUrl = http.request('GET', url)\n",
    "    if(operUrl.status==200):\n",
    "        data = operUrl.data\n",
    "    else:\n",
    "        print(\"Error receiving data\", operUrl.getcode())\n",
    "    return data"
   ]
  },
  {
   "cell_type": "code",
   "execution_count": 24,
   "metadata": {
    "colab": {},
    "colab_type": "code",
    "id": "0DpPxHYpyyyQ"
   },
   "outputs": [
    {
     "data": {
      "text/html": [
       "<div>\n",
       "<style scoped>\n",
       "    .dataframe tbody tr th:only-of-type {\n",
       "        vertical-align: middle;\n",
       "    }\n",
       "\n",
       "    .dataframe tbody tr th {\n",
       "        vertical-align: top;\n",
       "    }\n",
       "\n",
       "    .dataframe thead th {\n",
       "        text-align: right;\n",
       "    }\n",
       "</style>\n",
       "<table border=\"1\" class=\"dataframe\">\n",
       "  <thead>\n",
       "    <tr style=\"text-align: right;\">\n",
       "      <th></th>\n",
       "      <th>Facility Name</th>\n",
       "      <th>County</th>\n",
       "      <th>City</th>\n",
       "      <th>Facilty Licensed Bed Size</th>\n",
       "      <th>Current Active Positive Residents</th>\n",
       "      <th>Current Active Positive Staff</th>\n",
       "      <th>Facilty type of positive Resident</th>\n",
       "    </tr>\n",
       "  </thead>\n",
       "  <tbody>\n",
       "    <tr>\n",
       "      <th>14</th>\n",
       "      <td>Bethany on 42nd</td>\n",
       "      <td>Cass</td>\n",
       "      <td>Fargo</td>\n",
       "      <td>116.0</td>\n",
       "      <td>0</td>\n",
       "      <td>1</td>\n",
       "      <td>Skilled</td>\n",
       "    </tr>\n",
       "    <tr>\n",
       "      <th>16</th>\n",
       "      <td>Bethany Towers</td>\n",
       "      <td>Cass</td>\n",
       "      <td>Fargo</td>\n",
       "      <td>133.0</td>\n",
       "      <td>0</td>\n",
       "      <td>0</td>\n",
       "      <td>Basic / Assisted</td>\n",
       "    </tr>\n",
       "    <tr>\n",
       "      <th>17</th>\n",
       "      <td>Ecumen Evergreen</td>\n",
       "      <td>Cass</td>\n",
       "      <td>Fargo</td>\n",
       "      <td>18.0</td>\n",
       "      <td>1</td>\n",
       "      <td>0</td>\n",
       "      <td>Skilled</td>\n",
       "    </tr>\n",
       "    <tr>\n",
       "      <th>18</th>\n",
       "      <td>Edgewood Fargo</td>\n",
       "      <td>Cass</td>\n",
       "      <td>Fargo</td>\n",
       "      <td>153.0</td>\n",
       "      <td>0</td>\n",
       "      <td>0</td>\n",
       "      <td>Assisted</td>\n",
       "    </tr>\n",
       "    <tr>\n",
       "      <th>21</th>\n",
       "      <td>Good Samaritan Fargo</td>\n",
       "      <td>Cass</td>\n",
       "      <td>Fargo</td>\n",
       "      <td>87.0</td>\n",
       "      <td>0</td>\n",
       "      <td>0</td>\n",
       "      <td>Basic / Assisted</td>\n",
       "    </tr>\n",
       "    <tr>\n",
       "      <th>22</th>\n",
       "      <td>Kinder Care</td>\n",
       "      <td>Cass</td>\n",
       "      <td>Fargo</td>\n",
       "      <td>22.0</td>\n",
       "      <td>0</td>\n",
       "      <td>0</td>\n",
       "      <td>Assisted</td>\n",
       "    </tr>\n",
       "    <tr>\n",
       "      <th>23</th>\n",
       "      <td>Maple View Memory Care Fargo</td>\n",
       "      <td>Cass</td>\n",
       "      <td>Fargo</td>\n",
       "      <td>48.0</td>\n",
       "      <td>0</td>\n",
       "      <td>0</td>\n",
       "      <td>Basic</td>\n",
       "    </tr>\n",
       "    <tr>\n",
       "      <th>24</th>\n",
       "      <td>New Perspectives Senior Living</td>\n",
       "      <td>Cass</td>\n",
       "      <td>Fargo</td>\n",
       "      <td>131.0</td>\n",
       "      <td>0</td>\n",
       "      <td>0</td>\n",
       "      <td>Basic/ Assisted</td>\n",
       "    </tr>\n",
       "    <tr>\n",
       "      <th>25</th>\n",
       "      <td>Pioneer House</td>\n",
       "      <td>Cass</td>\n",
       "      <td>Fargo</td>\n",
       "      <td>48.0</td>\n",
       "      <td>1</td>\n",
       "      <td>0</td>\n",
       "      <td>Assisted</td>\n",
       "    </tr>\n",
       "    <tr>\n",
       "      <th>26</th>\n",
       "      <td>Riverview Place</td>\n",
       "      <td>Cass</td>\n",
       "      <td>Fargo</td>\n",
       "      <td>54.0</td>\n",
       "      <td>0</td>\n",
       "      <td>1</td>\n",
       "      <td>Assisted/ Independent</td>\n",
       "    </tr>\n",
       "    <tr>\n",
       "      <th>27</th>\n",
       "      <td>Rosewood On Broadway</td>\n",
       "      <td>Cass</td>\n",
       "      <td>Fargo</td>\n",
       "      <td>125.0</td>\n",
       "      <td>0</td>\n",
       "      <td>0</td>\n",
       "      <td>Skilled</td>\n",
       "    </tr>\n",
       "    <tr>\n",
       "      <th>28</th>\n",
       "      <td>The Meadows on University</td>\n",
       "      <td>Cass</td>\n",
       "      <td>Fargo</td>\n",
       "      <td>128.0</td>\n",
       "      <td>1</td>\n",
       "      <td>0</td>\n",
       "      <td>Skilled/Assisted</td>\n",
       "    </tr>\n",
       "    <tr>\n",
       "      <th>29</th>\n",
       "      <td>Touchmark at Harwood Groves</td>\n",
       "      <td>Cass</td>\n",
       "      <td>Fargo</td>\n",
       "      <td>117.0</td>\n",
       "      <td>0</td>\n",
       "      <td>0</td>\n",
       "      <td>Basic / Assisted</td>\n",
       "    </tr>\n",
       "    <tr>\n",
       "      <th>30</th>\n",
       "      <td>Villa Maria</td>\n",
       "      <td>Cass</td>\n",
       "      <td>Fargo</td>\n",
       "      <td>140.0</td>\n",
       "      <td>0</td>\n",
       "      <td>1</td>\n",
       "      <td>Skilled</td>\n",
       "    </tr>\n",
       "  </tbody>\n",
       "</table>\n",
       "</div>"
      ],
      "text/plain": [
       "                     Facility Name County   City  Facilty Licensed Bed Size  \\\n",
       "14                 Bethany on 42nd   Cass  Fargo                      116.0   \n",
       "16                  Bethany Towers   Cass  Fargo                      133.0   \n",
       "17                Ecumen Evergreen   Cass  Fargo                       18.0   \n",
       "18                  Edgewood Fargo   Cass  Fargo                      153.0   \n",
       "21            Good Samaritan Fargo   Cass  Fargo                       87.0   \n",
       "22                     Kinder Care   Cass  Fargo                       22.0   \n",
       "23    Maple View Memory Care Fargo   Cass  Fargo                       48.0   \n",
       "24  New Perspectives Senior Living   Cass  Fargo                      131.0   \n",
       "25                   Pioneer House   Cass  Fargo                       48.0   \n",
       "26                 Riverview Place   Cass  Fargo                       54.0   \n",
       "27            Rosewood On Broadway   Cass  Fargo                      125.0   \n",
       "28       The Meadows on University   Cass  Fargo                      128.0   \n",
       "29     Touchmark at Harwood Groves   Cass  Fargo                      117.0   \n",
       "30                     Villa Maria   Cass  Fargo                      140.0   \n",
       "\n",
       "     Current Active Positive Residents  Current Active Positive Staff  \\\n",
       "14                                   0                              1   \n",
       "16                                   0                              0   \n",
       "17                                   1                              0   \n",
       "18                                   0                              0   \n",
       "21                                   0                              0   \n",
       "22                                   0                              0   \n",
       "23                                   0                              0   \n",
       "24                                   0                              0   \n",
       "25                                   1                              0   \n",
       "26                                   0                              1   \n",
       "27                                   0                              0   \n",
       "28                                   1                              0   \n",
       "29                                   0                              0   \n",
       "30                                   0                              1   \n",
       "\n",
       "   Facilty type of positive Resident  \n",
       "14                           Skilled  \n",
       "16                  Basic / Assisted  \n",
       "17                           Skilled  \n",
       "18                          Assisted  \n",
       "21                  Basic / Assisted  \n",
       "22                          Assisted  \n",
       "23                             Basic  \n",
       "24                   Basic/ Assisted  \n",
       "25                          Assisted  \n",
       "26             Assisted/ Independent  \n",
       "27                           Skilled  \n",
       "28                  Skilled/Assisted  \n",
       "29                  Basic / Assisted  \n",
       "30                           Skilled  "
      ]
     },
     "execution_count": 24,
     "metadata": {},
     "output_type": "execute_result"
    }
   ],
   "source": [
    "ltc_data = getResponse('https://static.dwcdn.net/data/DlMVc.csv')\n",
    "df = pd.read_csv(StringIO(ltc_data.decode(\"utf-8\")))\n",
    "df[df.City == 'Fargo']"
   ]
  },
  {
   "cell_type": "code",
   "execution_count": 21,
   "metadata": {},
   "outputs": [
    {
     "data": {
      "text/plain": [
       "Facilty Licensed Bed Size             5806.0\n",
       " Current Active Positive Residents      16.0\n",
       "Current Active Positive Staff           38.0\n",
       "dtype: float64"
      ]
     },
     "execution_count": 21,
     "metadata": {},
     "output_type": "execute_result"
    }
   ],
   "source": [
    "a = df.sum()\n",
    "a"
   ]
  },
  {
   "cell_type": "code",
   "execution_count": null,
   "metadata": {},
   "outputs": [],
   "source": []
  },
  {
   "cell_type": "code",
   "execution_count": null,
   "metadata": {},
   "outputs": [],
   "source": []
  },
  {
   "cell_type": "code",
   "execution_count": null,
   "metadata": {
    "colab": {},
    "colab_type": "code",
    "id": "ubmsF36syyyn"
   },
   "outputs": [],
   "source": [
    "df = pd.DataFrame(ltc_data['FacilityValues'])\n",
    "df['reporting_date'] = reporting_date\n",
    "df['% deaths'] = df['deaths'] / df['confirmed_cases']\n",
    "df['num of facilities'] = 1 "
   ]
  },
  {
   "cell_type": "code",
   "execution_count": null,
   "metadata": {},
   "outputs": [],
   "source": [
    "df.to_csv('Reporting_data/IL_' + reporting_date + '_LTC_data_.csv', index = False)"
   ]
  },
  {
   "cell_type": "code",
   "execution_count": null,
   "metadata": {
    "colab": {
     "base_uri": "https://localhost:8080/",
     "height": 67
    },
    "colab_type": "code",
    "id": "eBdmRkxzyyyx",
    "outputId": "e0123e5e-d68a-456a-f1b1-309334ca1a77"
   },
   "outputs": [],
   "source": [
    "a = df.sum()\n",
    "print ('Date: %s' % reporting_date)\n",
    "print ('Cases: %d' % a.confirmed_cases)\n",
    "print ('Deaths:  %d' % a.deaths)\n",
    "print ('Facilities: %d' % df.reporting_date.value_counts()[0])"
   ]
  },
  {
   "cell_type": "code",
   "execution_count": null,
   "metadata": {
    "colab": {
     "base_uri": "https://localhost:8080/",
     "height": 1000
    },
    "colab_type": "code",
    "id": "xSXUDYotyyzA",
    "outputId": "8066eaf5-6bbd-4311-de99-64fef7efc3d7"
   },
   "outputs": [],
   "source": [
    "df_county = df.groupby(by=['County']).sum()\n",
    "df_county['% deaths'] = (df_county['deaths'] / df_county['confirmed_cases'])\n",
    "df_county.sort_values('deaths', ascending=False)"
   ]
  },
  {
   "cell_type": "code",
   "execution_count": null,
   "metadata": {
    "colab": {
     "base_uri": "https://localhost:8080/",
     "height": 885
    },
    "colab_type": "code",
    "id": "XwtrMuSVyyzL",
    "outputId": "1c9bb650-b588-4f90-f329-5c14ba8a5385"
   },
   "outputs": [],
   "source": [
    "import altair as alt\n",
    "from vega_datasets import data\n",
    "df1=df_county.sort_values(by=['deaths'], ascending=False).reset_index()\n",
    "cols = ['Deaths Non LTC', 'LTC Deaths']\n",
    "cols = ['LTC Deaths', 'Deaths Non LTC']\n",
    "\n",
    "\n",
    "chart1 = alt.Chart(df_county.sort_values(by=['deaths'], ascending=False).reset_index()).mark_bar().encode(\n",
    "    x='deaths:Q',\n",
    "    y=alt.Y('County:O', sort='-x'),\n",
    "    tooltip=['County', 'deaths', 'confirmed_cases', '% deaths']\n",
    ")\n",
    "chart2=chart1.encode(x=alt.X('% deaths', axis=alt.Axis(format='%')))\n",
    "#chart2=chart1.encode(x=alt.X('% deaths'))\n",
    "\n",
    "\n",
    "chart1 | chart2"
   ]
  },
  {
   "cell_type": "code",
   "execution_count": null,
   "metadata": {
    "colab": {},
    "colab_type": "code",
    "id": "lKfOyMwTyyzV",
    "outputId": "2ab0fea3-9b6b-4486-e889-1fef19f0e3db"
   },
   "outputs": [],
   "source": [
    "import altair as alt\n",
    "from vega_datasets import data\n",
    "df1=df_county.sort_values(by=['deaths'], ascending=False).reset_index()\n",
    "cols = ['Deaths Non LTC', 'LTC Deaths']\n",
    "cols = ['LTC Deaths', 'Deaths Non LTC']\n",
    "\n",
    "\n",
    "chart1 = alt.Chart(df_county.sort_values(by=['deaths'], ascending=False).reset_index()).mark_bar().encode(\n",
    "    x='deaths:Q',\n",
    "    y=alt.Y('County:O'),\n",
    "    tooltip=['County', 'deaths', 'confirmed_cases', '% deaths']\n",
    ")\n",
    "chart2=chart1.encode(x=alt.X('% deaths', axis=alt.Axis(format='%')))\n",
    "#chart2=chart1.encode(x=alt.X('% deaths'))\n",
    "\n",
    "\n",
    "chart1 | chart2 "
   ]
  },
  {
   "cell_type": "code",
   "execution_count": null,
   "metadata": {
    "colab": {},
    "colab_type": "code",
    "id": "h4ivtsiJyyzd"
   },
   "outputs": [],
   "source": [
    "df.sort_values(by=['deaths'], ascending=False).to_csv('IL_LTC_Covid.csv')"
   ]
  },
  {
   "cell_type": "code",
   "execution_count": null,
   "metadata": {
    "colab": {},
    "colab_type": "code",
    "id": "Rd1RZ4ZIyyzh",
    "outputId": "fa910313-2b6d-4cb3-cc8c-9fb9375f435d"
   },
   "outputs": [],
   "source": [
    "df.reporting_date.value_counts()[0]"
   ]
  },
  {
   "cell_type": "code",
   "execution_count": null,
   "metadata": {
    "colab": {},
    "colab_type": "code",
    "id": "QO2ctLpUyyzl"
   },
   "outputs": [],
   "source": [
    "df.head()"
   ]
  },
  {
   "cell_type": "code",
   "execution_count": null,
   "metadata": {},
   "outputs": [],
   "source": [
    "df.sum()"
   ]
  },
  {
   "cell_type": "code",
   "execution_count": null,
   "metadata": {},
   "outputs": [],
   "source": [
    "df2 = pd.read_json(r'../Covid-County-LTC-Analysis/Source_data/IL_2020-05-29LTC_data_Source.json'[FacilityValues])"
   ]
  },
  {
   "cell_type": "code",
   "execution_count": null,
   "metadata": {},
   "outputs": [],
   "source": []
  }
 ],
 "metadata": {
  "colab": {
   "name": "IL LTC Data Analysis.ipynb",
   "provenance": []
  },
  "kernelspec": {
   "display_name": "Python 3",
   "language": "python",
   "name": "python3"
  },
  "language_info": {
   "codemirror_mode": {
    "name": "ipython",
    "version": 3
   },
   "file_extension": ".py",
   "mimetype": "text/x-python",
   "name": "python",
   "nbconvert_exporter": "python",
   "pygments_lexer": "ipython3",
   "version": "3.7.6"
  }
 },
 "nbformat": 4,
 "nbformat_minor": 4
}
