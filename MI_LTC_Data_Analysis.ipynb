{
 "cells": [
  {
   "cell_type": "code",
   "execution_count": 205,
   "metadata": {},
   "outputs": [],
   "source": [
    "import pandas as pd\n",
    "import numpy as np\n",
    "import requests\n",
    "import lxml.html as lh\n",
    "from bs4 import BeautifulSoup"
   ]
  },
  {
   "cell_type": "code",
   "execution_count": 206,
   "metadata": {},
   "outputs": [],
   "source": [
    "url = 'https://www.michigan.gov/coronavirus/0,9753,7-406-98163_98173-526911--,00.html'\n",
    "page = requests.get(url)\n",
    "soup = BeautifulSoup(page.text, 'lxml')"
   ]
  },
  {
   "cell_type": "code",
   "execution_count": 207,
   "metadata": {},
   "outputs": [],
   "source": [
    "tables = soup.find_all('table')\n",
    "#[len(a) for a in a[0].find_all('tr')]"
   ]
  },
  {
   "cell_type": "code",
   "execution_count": 208,
   "metadata": {},
   "outputs": [
    {
     "name": "stdout",
     "output_type": "stream",
     "text": [
      "Resident Confirmed Cases * 7582\n",
      "Residents Recovered or Recovering  5736\n",
      "Resident COVID-19 Deaths * 1986\n",
      "Staff Confirmed Cases * 3697\n",
      "Staff COVID-19 Deaths * 21\n"
     ]
    }
   ],
   "source": [
    "rows = tables[0].find_all('tr')\n",
    "for row in rows:\n",
    "    if len(row) == 5:\n",
    "        cells = row.find_all('td')\n",
    "        if len(cells) == 2: # TODO = Should throw error if not\n",
    "            print (cells[0].get_text(), cells[1].get_text())"
   ]
  },
  {
   "cell_type": "code",
   "execution_count": 209,
   "metadata": {},
   "outputs": [
    {
     "data": {
      "text/plain": [
       "['Resident COVID-19 Deaths *', '1986']"
      ]
     },
     "execution_count": 209,
     "metadata": {},
     "output_type": "execute_result"
    }
   ],
   "source": [
    "cells = rows[2].find_all('td')\n",
    "[a.get_text() for a in cells]"
   ]
  },
  {
   "cell_type": "code",
   "execution_count": 210,
   "metadata": {},
   "outputs": [],
   "source": [
    "def fix_MI_values(val):\n",
    "    if val == '--':\n",
    "        return np.nan\n",
    "    if type(val) == int:\n",
    "        return val\n",
    "    else :\n",
    "        return int(val.replace('*', '').strip())"
   ]
  },
  {
   "cell_type": "code",
   "execution_count": 211,
   "metadata": {},
   "outputs": [],
   "source": [
    "rows = tables[2].find_all('tr')\n",
    "county=\"ERROR\" # SHould throw exception and catch these, but for now\n",
    "facilities = []\n",
    "new_county = True\n",
    "for row in rows:\n",
    "    if len(row) == 11:\n",
    "        cells = row.find_all('td')\n",
    "        if new_county:\n",
    "            headers = ['County'] + [cell.get_text() for cell in cells]\n",
    "            headers[2] = 'Resident ' + headers[2]\n",
    "            headers[3] = 'Resident ' + headers[3]\n",
    "            headers[4] = 'Staff ' + headers[4]\n",
    "            headers[5] = 'Staff ' + headers[5]\n",
    "            #print(headers)\n",
    "            new_county = False\n",
    "        else:\n",
    "            values = [cell.get_text() for cell in cells]\n",
    "            #values = [values[0]] + [int(a.replace('*', '').replace('--', '-1').strip()) for a in values[1:]]\n",
    "            values = [values[0]] + [fix_MI_values(a) for a in values[1:]]\n",
    "            facilities.append(dict(zip(headers, [county] + values)))\n",
    "            \n",
    "    if len(row) == 7:\n",
    "        cells = row.find_all('td')\n",
    "        county=cells[0].get_text()\n",
    "        new_county = True\n",
    "        #print('County = ' + cells[0].get_text())"
   ]
  },
  {
   "cell_type": "code",
   "execution_count": 212,
   "metadata": {},
   "outputs": [
    {
     "data": {
      "text/html": [
       "<div>\n",
       "<style scoped>\n",
       "    .dataframe tbody tr th:only-of-type {\n",
       "        vertical-align: middle;\n",
       "    }\n",
       "\n",
       "    .dataframe tbody tr th {\n",
       "        vertical-align: top;\n",
       "    }\n",
       "\n",
       "    .dataframe thead th {\n",
       "        text-align: right;\n",
       "    }\n",
       "</style>\n",
       "<table border=\"1\" class=\"dataframe\">\n",
       "  <thead>\n",
       "    <tr style=\"text-align: right;\">\n",
       "      <th></th>\n",
       "      <th>County</th>\n",
       "      <th>Facility Name</th>\n",
       "      <th>Resident Cumulative Confirmed Cases</th>\n",
       "      <th>Resident Cumulative COVID-19 Deaths</th>\n",
       "      <th>Staff Cumulative Confirmed Cases</th>\n",
       "      <th>Staff Cumulative COVID-19 Deaths</th>\n",
       "    </tr>\n",
       "  </thead>\n",
       "  <tbody>\n",
       "    <tr>\n",
       "      <th>60</th>\n",
       "      <td>DICKINSON</td>\n",
       "      <td>Freeman Nursing &amp; Rehab</td>\n",
       "      <td>0.0</td>\n",
       "      <td>0.0</td>\n",
       "      <td>3.0</td>\n",
       "      <td>0.0</td>\n",
       "    </tr>\n",
       "    <tr>\n",
       "      <th>61</th>\n",
       "      <td>DICKINSON</td>\n",
       "      <td>Manorcare Nursing and Rehab Center</td>\n",
       "      <td>0.0</td>\n",
       "      <td>0.0</td>\n",
       "      <td>0.0</td>\n",
       "      <td>0.0</td>\n",
       "    </tr>\n",
       "    <tr>\n",
       "      <th>62</th>\n",
       "      <td>EATON</td>\n",
       "      <td>Dimondale Nursing Care Center</td>\n",
       "      <td>0.0</td>\n",
       "      <td>0.0</td>\n",
       "      <td>0.0</td>\n",
       "      <td>0.0</td>\n",
       "    </tr>\n",
       "    <tr>\n",
       "      <th>63</th>\n",
       "      <td>EATON</td>\n",
       "      <td>Eaton County Health and Rehabilitation</td>\n",
       "      <td>1.0</td>\n",
       "      <td>0.0</td>\n",
       "      <td>6.0</td>\n",
       "      <td>0.0</td>\n",
       "    </tr>\n",
       "    <tr>\n",
       "      <th>64</th>\n",
       "      <td>EATON</td>\n",
       "      <td>Medilodge Of Lansing</td>\n",
       "      <td>0.0</td>\n",
       "      <td>0.0</td>\n",
       "      <td>0.0</td>\n",
       "      <td>0.0</td>\n",
       "    </tr>\n",
       "    <tr>\n",
       "      <th>65</th>\n",
       "      <td>EATON</td>\n",
       "      <td>Regency at Lansing West</td>\n",
       "      <td>4.0</td>\n",
       "      <td>2.0</td>\n",
       "      <td>4.0</td>\n",
       "      <td>0.0</td>\n",
       "    </tr>\n",
       "    <tr>\n",
       "      <th>66</th>\n",
       "      <td>EMMET</td>\n",
       "      <td>Bay Bluffs - Emmet Co. Medical Care</td>\n",
       "      <td>0.0</td>\n",
       "      <td>0.0</td>\n",
       "      <td>0.0</td>\n",
       "      <td>0.0</td>\n",
       "    </tr>\n",
       "    <tr>\n",
       "      <th>67</th>\n",
       "      <td>EMMET</td>\n",
       "      <td>Hiland Cottage</td>\n",
       "      <td>NaN</td>\n",
       "      <td>NaN</td>\n",
       "      <td>NaN</td>\n",
       "      <td>NaN</td>\n",
       "    </tr>\n",
       "    <tr>\n",
       "      <th>68</th>\n",
       "      <td>EMMET</td>\n",
       "      <td>The Villa at the Bay</td>\n",
       "      <td>0.0</td>\n",
       "      <td>0.0</td>\n",
       "      <td>0.0</td>\n",
       "      <td>0.0</td>\n",
       "    </tr>\n",
       "    <tr>\n",
       "      <th>69</th>\n",
       "      <td>GENESEE</td>\n",
       "      <td>Argentine Care Center</td>\n",
       "      <td>0.0</td>\n",
       "      <td>0.0</td>\n",
       "      <td>2.0</td>\n",
       "      <td>0.0</td>\n",
       "    </tr>\n",
       "  </tbody>\n",
       "</table>\n",
       "</div>"
      ],
      "text/plain": [
       "       County                            Facility Name  \\\n",
       "60  DICKINSON                  Freeman Nursing & Rehab   \n",
       "61  DICKINSON       Manorcare Nursing and Rehab Center   \n",
       "62      EATON            Dimondale Nursing Care Center   \n",
       "63      EATON  Eaton County Health and Rehabilitation    \n",
       "64      EATON                     Medilodge Of Lansing   \n",
       "65      EATON                  Regency at Lansing West   \n",
       "66      EMMET      Bay Bluffs - Emmet Co. Medical Care   \n",
       "67      EMMET                           Hiland Cottage   \n",
       "68      EMMET                     The Villa at the Bay   \n",
       "69    GENESEE                    Argentine Care Center   \n",
       "\n",
       "    Resident Cumulative Confirmed Cases  Resident Cumulative COVID-19 Deaths  \\\n",
       "60                                  0.0                                  0.0   \n",
       "61                                  0.0                                  0.0   \n",
       "62                                  0.0                                  0.0   \n",
       "63                                  1.0                                  0.0   \n",
       "64                                  0.0                                  0.0   \n",
       "65                                  4.0                                  2.0   \n",
       "66                                  0.0                                  0.0   \n",
       "67                                  NaN                                  NaN   \n",
       "68                                  0.0                                  0.0   \n",
       "69                                  0.0                                  0.0   \n",
       "\n",
       "    Staff Cumulative Confirmed Cases  Staff Cumulative COVID-19 Deaths  \n",
       "60                               3.0                               0.0  \n",
       "61                               0.0                               0.0  \n",
       "62                               0.0                               0.0  \n",
       "63                               6.0                               0.0  \n",
       "64                               0.0                               0.0  \n",
       "65                               4.0                               0.0  \n",
       "66                               0.0                               0.0  \n",
       "67                               NaN                               NaN  \n",
       "68                               0.0                               0.0  \n",
       "69                               2.0                               0.0  "
      ]
     },
     "execution_count": 212,
     "metadata": {},
     "output_type": "execute_result"
    }
   ],
   "source": [
    "df = pd.DataFrame(facilities)\n",
    "\n",
    "df[60:70]"
   ]
  },
  {
   "cell_type": "code",
   "execution_count": null,
   "metadata": {},
   "outputs": [],
   "source": []
  },
  {
   "cell_type": "code",
   "execution_count": 225,
   "metadata": {},
   "outputs": [],
   "source": [
    "df = pd.DataFrame(facilities)\n",
    "df_county = df.groupby(by=['County']).sum()\n",
    "#TODO - add date to filename\n",
    "#TODO - get date from scaping web site\n",
    "df_county.sort_values('Resident Cumulative Confirmed Cases', ascending=False).to_csv('Reporting_data/MI_county_stats.csv')"
   ]
  },
  {
   "cell_type": "code",
   "execution_count": 226,
   "metadata": {},
   "outputs": [],
   "source": [
    "df.sort_values('Resident Cumulative Confirmed Cases', ascending=False).to_csv('Reporting_data/MI_2020-07-22_LTC_data.csv', index=False)"
   ]
  },
  {
   "cell_type": "code",
   "execution_count": 121,
   "metadata": {},
   "outputs": [
    {
     "data": {
      "text/plain": [
       "2"
      ]
     },
     "execution_count": 121,
     "metadata": {},
     "output_type": "execute_result"
    }
   ],
   "source": [
    "a='2*'\n",
    "int(a.replace('*', '').replace('--', '-1').strip())"
   ]
  },
  {
   "cell_type": "code",
   "execution_count": null,
   "metadata": {},
   "outputs": [],
   "source": []
  }
 ],
 "metadata": {
  "kernelspec": {
   "display_name": "Python 3",
   "language": "python",
   "name": "python3"
  },
  "language_info": {
   "codemirror_mode": {
    "name": "ipython",
    "version": 3
   },
   "file_extension": ".py",
   "mimetype": "text/x-python",
   "name": "python",
   "nbconvert_exporter": "python",
   "pygments_lexer": "ipython3",
   "version": "3.7.6"
  }
 },
 "nbformat": 4,
 "nbformat_minor": 4
}
