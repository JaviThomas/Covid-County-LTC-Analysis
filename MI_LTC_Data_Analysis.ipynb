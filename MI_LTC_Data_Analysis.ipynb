{
 "cells": [
  {
   "cell_type": "code",
   "execution_count": 1,
   "metadata": {},
   "outputs": [],
   "source": [
    "import pandas as pd\n",
    "import numpy as np\n",
    "import requests\n",
    "import lxml.html as lh\n",
    "from bs4 import BeautifulSoup"
   ]
  },
  {
   "cell_type": "code",
   "execution_count": 21,
   "metadata": {},
   "outputs": [],
   "source": [
    "url = 'https://www.michigan.gov/coronavirus/0,9753,7-406-98163_98173-526911--,00.html'\n",
    "#url = 'https://web.archive.org/web/20200720171507/https://www.michigan.gov/coronavirus/0,9753,7-406-98163_98173-526911--,00.html'\n",
    "# TODO - Wayback machine adds two extra tables at top we need to skip past\n",
    "page = requests.get(url)\n",
    "soup = BeautifulSoup(page.text, 'lxml')"
   ]
  },
  {
   "cell_type": "code",
   "execution_count": 22,
   "metadata": {},
   "outputs": [],
   "source": [
    "tables = soup.find_all('table')\n",
    "#[len(a) for a in a[0].find_all('tr')]"
   ]
  },
  {
   "cell_type": "code",
   "execution_count": 34,
   "metadata": {},
   "outputs": [
    {
     "data": {
      "text/plain": [
       "<table border=\"1\" cellpadding=\"0\" cellspacing=\"0\" style=\"width: 100%;\" width=\"321\">\n",
       "<caption><strong>7/19/2020</strong></caption>\n",
       "<colgroup>\n",
       "<col/>\n",
       "<col/>\n",
       "</colgroup>\n",
       "<tbody>\n",
       "<tr height=\"20\">\n",
       "<td height=\"20\" style=\"height: 20px; text-align: center;\"><strong>Resident Confirmed Cases *</strong></td>\n",
       "<td style=\"text-align: center;\">7524</td>\n",
       "</tr>\n",
       "<tr height=\"20\">\n",
       "<td height=\"20\" style=\"height: 20px; text-align: center;\"><strong>Residents Recovered or Recovering </strong></td>\n",
       "<td style=\"text-align: center;\">5710</td>\n",
       "</tr>\n",
       "<tr height=\"20\">\n",
       "<td height=\"20\" style=\"height: 20px; text-align: center;\"><strong>Resident COVID-19 Deaths *</strong></td>\n",
       "<td style=\"text-align: center;\">1973</td>\n",
       "</tr>\n",
       "<tr height=\"20\">\n",
       "<td height=\"20\" style=\"height: 20px; text-align: center;\"><strong>Staff Confirmed Cases *</strong></td>\n",
       "<td style=\"text-align: center;\">3679</td>\n",
       "</tr>\n",
       "<tr height=\"20\">\n",
       "<td height=\"20\" style=\"height: 20px; text-align: center;\"><strong>Staff COVID-19 Deaths *</strong></td>\n",
       "<td style=\"text-align: center;\">22</td>\n",
       "</tr>\n",
       "<tr height=\"34\">\n",
       "<td colspan=\"2\" height=\"34\" style=\"width: 322px; height: 35px; text-align: center;\">*Includes data that is undergoing additional validation </td>\n",
       "</tr>\n",
       "</tbody>\n",
       "</table>"
      ]
     },
     "execution_count": 34,
     "metadata": {},
     "output_type": "execute_result"
    }
   ],
   "source": [
    "tables[2]"
   ]
  },
  {
   "cell_type": "code",
   "execution_count": 35,
   "metadata": {},
   "outputs": [],
   "source": [
    "tmp = tables[2].find_all('caption')[0].get_text().split('/')\n",
    "tmp[2]\n",
    "#type(tmp)\n",
    "#'-'.join(tmp.reverse())\n",
    "reporting_date = tmp[2] + '-' + '%02d' % int(tmp[0]) + '-' + '%02d' % int(tmp[1])"
   ]
  },
  {
   "cell_type": "code",
   "execution_count": 37,
   "metadata": {},
   "outputs": [
    {
     "name": "stdout",
     "output_type": "stream",
     "text": [
      "2020-07-19\n",
      "Resident Confirmed Cases * 7524\n",
      "Residents Recovered or Recovering  5710\n",
      "Resident COVID-19 Deaths * 1973\n",
      "Staff Confirmed Cases * 3679\n",
      "Staff COVID-19 Deaths * 22\n"
     ]
    }
   ],
   "source": [
    "print (reporting_date)\n",
    "rows = tables[0].find_all('tr')\n",
    "num_facilities = 0\n",
    "for row in rows:\n",
    "    if len(row) == 5:\n",
    "        cells = row.find_all('td')\n",
    "        if len(cells) == 2: # TODO = Should throw error if not\n",
    "            print (cells[0].get_text(), cells[1].get_text())\n",
    "            num_facilities += 1"
   ]
  },
  {
   "cell_type": "code",
   "execution_count": 6,
   "metadata": {},
   "outputs": [
    {
     "data": {
      "text/plain": [
       "['Resident COVID-19 Deaths *', '2088']"
      ]
     },
     "execution_count": 6,
     "metadata": {},
     "output_type": "execute_result"
    }
   ],
   "source": [
    "cells = rows[2].find_all('td')\n",
    "[a.get_text() for a in cells]"
   ]
  },
  {
   "cell_type": "code",
   "execution_count": 7,
   "metadata": {},
   "outputs": [],
   "source": [
    "def fix_MI_values(val):\n",
    "    if val == '--':\n",
    "        return np.nan\n",
    "    if type(val) == int:\n",
    "        return val\n",
    "    else :\n",
    "        return int(val.replace('*', '').replace('^', '').strip())"
   ]
  },
  {
   "cell_type": "code",
   "execution_count": 8,
   "metadata": {},
   "outputs": [],
   "source": [
    "rows = tables[2].find_all('tr')\n",
    "county=\"ERROR\" # SHould throw exception and catch these, but for now\n",
    "facilities = []\n",
    "new_county = True\n",
    "for row in rows:\n",
    "    if len(row) == 11:\n",
    "        cells = row.find_all('td')\n",
    "        if new_county:\n",
    "            headers = ['County'] + [cell.get_text() for cell in cells]\n",
    "            headers[2] = 'Resident ' + headers[2]\n",
    "            headers[3] = 'Resident ' + headers[3]\n",
    "            headers[4] = 'Staff ' + headers[4]\n",
    "            headers[5] = 'Staff ' + headers[5]\n",
    "            #print(headers)\n",
    "            new_county = False\n",
    "        else:\n",
    "            values = [cell.get_text() for cell in cells]\n",
    "            #values = [values[0]] + [int(a.replace('*', '').replace('--', '-1').strip()) for a in values[1:]]\n",
    "            values = [values[0]] + [fix_MI_values(a) for a in values[1:]]\n",
    "            facilities.append(dict(zip(headers, [county] + values)))\n",
    "            \n",
    "    if len(row) == 7:\n",
    "        cells = row.find_all('td')\n",
    "        county=cells[0].get_text()\n",
    "        new_county = True\n",
    "        #print('County = ' + cells[0].get_text())"
   ]
  },
  {
   "cell_type": "code",
   "execution_count": 20,
   "metadata": {},
   "outputs": [
    {
     "name": "stdout",
     "output_type": "stream",
     "text": [
      "Num of Facilities:442\n"
     ]
    }
   ],
   "source": [
    "df = pd.DataFrame(facilities)\n",
    "\n",
    "print(\"Num of Facilities:\" + str(len(df)))"
   ]
  },
  {
   "cell_type": "code",
   "execution_count": null,
   "metadata": {},
   "outputs": [],
   "source": []
  },
  {
   "cell_type": "code",
   "execution_count": 10,
   "metadata": {},
   "outputs": [],
   "source": [
    "df = pd.DataFrame(facilities)\n",
    "df_county = df.groupby(by=['County']).sum()\n",
    "#TODO - add date to filename\n",
    "#TODO - get date from scaping web site\n",
    "df_county.sort_values('Resident Cumulative Confirmed Cases', ascending=False).to_csv('Reporting_data/MI_county_stats_' + reporting_date + '.csv')"
   ]
  },
  {
   "cell_type": "code",
   "execution_count": 11,
   "metadata": {},
   "outputs": [],
   "source": [
    "df.sort_values('Resident Cumulative Confirmed Cases', ascending=False).to_csv('Reporting_data/MI_' + reporting_date + '_LTC_data.csv', index=False)"
   ]
  },
  {
   "cell_type": "code",
   "execution_count": 12,
   "metadata": {},
   "outputs": [
    {
     "data": {
      "text/plain": [
       "2"
      ]
     },
     "execution_count": 12,
     "metadata": {},
     "output_type": "execute_result"
    }
   ],
   "source": [
    "a='2*'\n",
    "int(a.replace('*', '').replace('--', '-1').strip())"
   ]
  },
  {
   "cell_type": "code",
   "execution_count": null,
   "metadata": {},
   "outputs": [],
   "source": []
  }
 ],
 "metadata": {
  "kernelspec": {
   "display_name": "Python 3",
   "language": "python",
   "name": "python3"
  },
  "language_info": {
   "codemirror_mode": {
    "name": "ipython",
    "version": 3
   },
   "file_extension": ".py",
   "mimetype": "text/x-python",
   "name": "python",
   "nbconvert_exporter": "python",
   "pygments_lexer": "ipython3",
   "version": "3.7.6"
  }
 },
 "nbformat": 4,
 "nbformat_minor": 4
}
