{
 "cells": [
  {
   "cell_type": "code",
   "execution_count": 1,
   "metadata": {
    "colab": {},
    "colab_type": "code",
    "id": "r3I8QTIvyyyJ"
   },
   "outputs": [],
   "source": [
    "import pandas as pd\n",
    "import urllib3 as urllib\n",
    "import json\n",
    "import IPython.display"
   ]
  },
  {
   "cell_type": "code",
   "execution_count": 2,
   "metadata": {
    "colab": {},
    "colab_type": "code",
    "id": "0DpPxHYpyyyQ"
   },
   "outputs": [],
   "source": [
    "http = urllib.PoolManager()\n",
    "\n",
    "def getResponse(url):\n",
    "    operUrl = http.request('GET', url)\n",
    "    if(operUrl.status==200):\n",
    "        data = operUrl.data\n",
    "        jsonData = json.loads(data.decode('utf-8'))\n",
    "    else:\n",
    "        print(\"Error receiving data\", operUrl.getcode())\n",
    "    return jsonData"
   ]
  },
  {
   "cell_type": "markdown",
   "metadata": {},
   "source": [
    "# 1 - Pull JSON File from Website"
   ]
  },
  {
   "cell_type": "code",
   "execution_count": 3,
   "metadata": {},
   "outputs": [],
   "source": [
    "def pull_IL_json_from_web():\n",
    "    ltc_data = getResponse('http://www.dph.illinois.gov/sitefiles/COVIDLTC.json')\n",
    "\n",
    "    # Extract Reporting Data\n",
    "    reporting_date = '%d-%02d-%02d' %(ltc_data['LastUpdateDate']['year'], ltc_data['LastUpdateDate']['month'], ltc_data['LastUpdateDate']['day'])\n",
    "\n",
    "    #Saving a copy of source data \n",
    "    ltc_data_json = json.dumps(ltc_data)\n",
    "    file = \"Source_data/IL_\" + reporting_date + \"_LTC_data_Source.json\"\n",
    "    f = open(file, \"w\")\n",
    "    f.write(ltc_data_json)\n",
    "    f.close()\n",
    "    return file"
   ]
  },
  {
   "cell_type": "code",
   "execution_count": 4,
   "metadata": {
    "colab": {},
    "colab_type": "code",
    "id": "rtSr_6rEyyyZ"
   },
   "outputs": [],
   "source": [
    "# ltc_data = getResponse('http://www.dph.illinois.gov/sitefiles/COVIDLTC.json')\n",
    "\n",
    "# # Extract Reporting Data\n",
    "# reporting_date = '%d-%02d-%02d' %(ltc_data['LastUpdateDate']['year'], ltc_data['LastUpdateDate']['month'], ltc_data['LastUpdateDate']['day'])\n",
    "\n",
    "# #Saving a copy of source data \n",
    "# ltc_data_json = json.dumps(ltc_data)\n",
    "# f = open(\"Source_data/IL_\" + reporting_date + \"_LTC_data_Source.json\",\"w\")\n",
    "# f.write(ltc_data_json)\n",
    "# f.close()"
   ]
  },
  {
   "cell_type": "code",
   "execution_count": 5,
   "metadata": {},
   "outputs": [],
   "source": [
    "json_file = pull_IL_json_from_web()\n",
    "with open(json_file) as f:\n",
    "  ltc_data = json.load(f)\n",
    "          \n",
    "# Extract Reporting Data\n",
    "reporting_date = '%d-%02d-%02d' % (ltc_data['LastUpdateDate']['year'], ltc_data['LastUpdateDate']['month'], ltc_data['LastUpdateDate']['day'])"
   ]
  },
  {
   "cell_type": "markdown",
   "metadata": {},
   "source": [
    "# 2 - Put Outbreak data in DataFrame and Augment\n",
    "Data is at the Outbreak level. A Facility can have 1 to Many Outbreaks (not sure about 0)"
   ]
  },
  {
   "cell_type": "code",
   "execution_count": 6,
   "metadata": {},
   "outputs": [],
   "source": [
    "def outbreak_df_from_file(filename):\n",
    "    with open(filename) as f:\n",
    "      ltc_data = json.load(f)\n",
    "\n",
    "    # Extract Reporting Data\n",
    "    reporting_date = '%d-%02d-%02d' %(ltc_data['LastUpdateDate']['year'], ltc_data['LastUpdateDate']['month'], ltc_data['LastUpdateDate']['day'])"
   ]
  },
  {
   "cell_type": "code",
   "execution_count": 7,
   "metadata": {
    "colab": {},
    "colab_type": "code",
    "id": "ubmsF36syyyn"
   },
   "outputs": [
    {
     "data": {
      "text/html": [
       "<div>\n",
       "<style scoped>\n",
       "    .dataframe tbody tr th:only-of-type {\n",
       "        vertical-align: middle;\n",
       "    }\n",
       "\n",
       "    .dataframe tbody tr th {\n",
       "        vertical-align: top;\n",
       "    }\n",
       "\n",
       "    .dataframe thead th {\n",
       "        text-align: right;\n",
       "    }\n",
       "</style>\n",
       "<table border=\"1\" class=\"dataframe\">\n",
       "  <thead>\n",
       "    <tr style=\"text-align: right;\">\n",
       "      <th></th>\n",
       "      <th>County</th>\n",
       "      <th>FacilityName</th>\n",
       "      <th>confirmed_cases</th>\n",
       "      <th>deaths</th>\n",
       "      <th>status</th>\n",
       "      <th>reporting_date</th>\n",
       "      <th>CFR</th>\n",
       "      <th>outbreaks</th>\n",
       "    </tr>\n",
       "  </thead>\n",
       "  <tbody>\n",
       "    <tr>\n",
       "      <th>179</th>\n",
       "      <td>Cook</td>\n",
       "      <td>Niles Nursing and Rehab Center</td>\n",
       "      <td>213</td>\n",
       "      <td>54</td>\n",
       "      <td>Closed</td>\n",
       "      <td>2020-11-06</td>\n",
       "      <td>0.253521</td>\n",
       "      <td>1</td>\n",
       "    </tr>\n",
       "    <tr>\n",
       "      <th>194</th>\n",
       "      <td>Cook</td>\n",
       "      <td>Norridge Gardens</td>\n",
       "      <td>167</td>\n",
       "      <td>46</td>\n",
       "      <td>Open</td>\n",
       "      <td>2020-11-06</td>\n",
       "      <td>0.275449</td>\n",
       "      <td>1</td>\n",
       "    </tr>\n",
       "    <tr>\n",
       "      <th>116</th>\n",
       "      <td>Cook</td>\n",
       "      <td>Villa at Windsor Park</td>\n",
       "      <td>160</td>\n",
       "      <td>44</td>\n",
       "      <td>Closed</td>\n",
       "      <td>2020-11-06</td>\n",
       "      <td>0.275000</td>\n",
       "      <td>1</td>\n",
       "    </tr>\n",
       "    <tr>\n",
       "      <th>1207</th>\n",
       "      <td>Will</td>\n",
       "      <td>Meadowbrook Manor of Bolingbrook</td>\n",
       "      <td>188</td>\n",
       "      <td>41</td>\n",
       "      <td>Closed</td>\n",
       "      <td>2020-11-06</td>\n",
       "      <td>0.218085</td>\n",
       "      <td>1</td>\n",
       "    </tr>\n",
       "    <tr>\n",
       "      <th>229</th>\n",
       "      <td>Cook</td>\n",
       "      <td>Woodbridge Nursing Pavilion</td>\n",
       "      <td>219</td>\n",
       "      <td>40</td>\n",
       "      <td>Closed</td>\n",
       "      <td>2020-11-06</td>\n",
       "      <td>0.182648</td>\n",
       "      <td>1</td>\n",
       "    </tr>\n",
       "  </tbody>\n",
       "</table>\n",
       "</div>"
      ],
      "text/plain": [
       "     County                      FacilityName  confirmed_cases  deaths  \\\n",
       "179    Cook    Niles Nursing and Rehab Center              213      54   \n",
       "194    Cook                  Norridge Gardens              167      46   \n",
       "116    Cook             Villa at Windsor Park              160      44   \n",
       "1207   Will  Meadowbrook Manor of Bolingbrook              188      41   \n",
       "229    Cook       Woodbridge Nursing Pavilion              219      40   \n",
       "\n",
       "      status reporting_date       CFR  outbreaks  \n",
       "179   Closed     2020-11-06  0.253521          1  \n",
       "194     Open     2020-11-06  0.275449          1  \n",
       "116   Closed     2020-11-06  0.275000          1  \n",
       "1207  Closed     2020-11-06  0.218085          1  \n",
       "229   Closed     2020-11-06  0.182648          1  "
      ]
     },
     "execution_count": 7,
     "metadata": {},
     "output_type": "execute_result"
    }
   ],
   "source": [
    "df = pd.DataFrame(ltc_data['FacilityValues'])\n",
    "df['reporting_date'] = reporting_date\n",
    "df['CFR'] = (df['deaths'] / df['confirmed_cases'])\n",
    "df['outbreaks'] = 1 # to allow counting # of outbreaks by Facility\n",
    "\n",
    "#Save Outbreak data to a file\n",
    "outbreak_file = 'Reporting_data/IL_' + reporting_date + '_Outbreaks_LTC_data_v2.csv'\n",
    "df.to_csv(outbreak_file, index = False)\n",
    "\n",
    "df.sort_values(by='deaths', ascending=False).head(5)"
   ]
  },
  {
   "cell_type": "markdown",
   "metadata": {},
   "source": [
    "# 3 - Print Summary Data"
   ]
  },
  {
   "cell_type": "code",
   "execution_count": 8,
   "metadata": {
    "colab": {
     "base_uri": "https://localhost:8080/",
     "height": 67
    },
    "colab_type": "code",
    "id": "eBdmRkxzyyyx",
    "outputId": "e0123e5e-d68a-456a-f1b1-309334ca1a77"
   },
   "outputs": [
    {
     "name": "stdout",
     "output_type": "stream",
     "text": [
      "Date: 2020-11-06\n",
      "Cases: 36683\n",
      "Deaths:  5253\n",
      "Outbreaks: 1309\n",
      "Facilities: 1116\n"
     ]
    }
   ],
   "source": [
    "# Get summary data from feed - Note this may not match totals - ST-TODO: Check if summary data and totals from raw data match\n",
    "deaths = ltc_data['LTC_Reported_Cases']['deaths']\n",
    "confirmed_cases = ltc_data['LTC_Reported_Cases']['confirmed_cases']\n",
    "\n",
    "print ('Date: %s' % reporting_date)\n",
    "print ('Cases: %d' % confirmed_cases)\n",
    "print ('Deaths:  %d'% deaths)\n",
    "print ('Outbreaks: %d' % df.reporting_date.value_counts()[0])\n",
    "print ('Facilities: %d' % len(df.groupby(['County', 'FacilityName']).size().reset_index().rename(columns={0:'count'}).sort_values(by='count', ascending=False)))"
   ]
  },
  {
   "cell_type": "markdown",
   "metadata": {},
   "source": [
    "# 4 - Get Facility Level data, augment and save\n",
    "Facilities can have multiple outbreaks, need to sum these to get counts at the Facility level"
   ]
  },
  {
   "cell_type": "code",
   "execution_count": 9,
   "metadata": {},
   "outputs": [
    {
     "data": {
      "text/html": [
       "<div>\n",
       "<style scoped>\n",
       "    .dataframe tbody tr th:only-of-type {\n",
       "        vertical-align: middle;\n",
       "    }\n",
       "\n",
       "    .dataframe tbody tr th {\n",
       "        vertical-align: top;\n",
       "    }\n",
       "\n",
       "    .dataframe thead th {\n",
       "        text-align: right;\n",
       "    }\n",
       "</style>\n",
       "<table border=\"1\" class=\"dataframe\">\n",
       "  <thead>\n",
       "    <tr style=\"text-align: right;\">\n",
       "      <th></th>\n",
       "      <th></th>\n",
       "      <th>confirmed_cases</th>\n",
       "      <th>deaths</th>\n",
       "      <th>CFR</th>\n",
       "      <th>outbreaks</th>\n",
       "    </tr>\n",
       "    <tr>\n",
       "      <th>County</th>\n",
       "      <th>FacilityName</th>\n",
       "      <th></th>\n",
       "      <th></th>\n",
       "      <th></th>\n",
       "      <th></th>\n",
       "    </tr>\n",
       "  </thead>\n",
       "  <tbody>\n",
       "    <tr>\n",
       "      <th rowspan=\"2\" valign=\"top\">Cook</th>\n",
       "      <th>Ludeman Developmental Center</th>\n",
       "      <td>263</td>\n",
       "      <td>9</td>\n",
       "      <td>0.034221</td>\n",
       "      <td>1</td>\n",
       "    </tr>\n",
       "    <tr>\n",
       "      <th>City View Multi Care Center</th>\n",
       "      <td>249</td>\n",
       "      <td>15</td>\n",
       "      <td>0.060241</td>\n",
       "      <td>1</td>\n",
       "    </tr>\n",
       "    <tr>\n",
       "      <th>Kankakee</th>\n",
       "      <th>Samuel H. Shapiro Developmental Center</th>\n",
       "      <td>232</td>\n",
       "      <td>1</td>\n",
       "      <td>0.004310</td>\n",
       "      <td>2</td>\n",
       "    </tr>\n",
       "    <tr>\n",
       "      <th>Lake</th>\n",
       "      <th>Avantara Long Grove</th>\n",
       "      <td>228</td>\n",
       "      <td>32</td>\n",
       "      <td>0.140351</td>\n",
       "      <td>1</td>\n",
       "    </tr>\n",
       "    <tr>\n",
       "      <th rowspan=\"6\" valign=\"top\">Cook</th>\n",
       "      <th>Peterson Park Health Care</th>\n",
       "      <td>221</td>\n",
       "      <td>35</td>\n",
       "      <td>0.158371</td>\n",
       "      <td>2</td>\n",
       "    </tr>\n",
       "    <tr>\n",
       "      <th>Symphony at Midway</th>\n",
       "      <td>220</td>\n",
       "      <td>27</td>\n",
       "      <td>0.122727</td>\n",
       "      <td>2</td>\n",
       "    </tr>\n",
       "    <tr>\n",
       "      <th>Woodbridge Nursing Pavilion</th>\n",
       "      <td>219</td>\n",
       "      <td>40</td>\n",
       "      <td>0.182648</td>\n",
       "      <td>1</td>\n",
       "    </tr>\n",
       "    <tr>\n",
       "      <th>Niles Nursing and Rehab Center</th>\n",
       "      <td>216</td>\n",
       "      <td>54</td>\n",
       "      <td>0.250000</td>\n",
       "      <td>2</td>\n",
       "    </tr>\n",
       "    <tr>\n",
       "      <th>Symphony of Morgan Park</th>\n",
       "      <td>202</td>\n",
       "      <td>26</td>\n",
       "      <td>0.128713</td>\n",
       "      <td>1</td>\n",
       "    </tr>\n",
       "    <tr>\n",
       "      <th>Symphony of South Shore</th>\n",
       "      <td>197</td>\n",
       "      <td>29</td>\n",
       "      <td>0.147208</td>\n",
       "      <td>2</td>\n",
       "    </tr>\n",
       "  </tbody>\n",
       "</table>\n",
       "</div>"
      ],
      "text/plain": [
       "                                                 confirmed_cases  deaths  \\\n",
       "County   FacilityName                                                      \n",
       "Cook     Ludeman Developmental Center                        263       9   \n",
       "         City View Multi Care Center                         249      15   \n",
       "Kankakee Samuel H. Shapiro Developmental Center              232       1   \n",
       "Lake     Avantara Long Grove                                 228      32   \n",
       "Cook     Peterson Park Health Care                           221      35   \n",
       "         Symphony at Midway                                  220      27   \n",
       "         Woodbridge Nursing Pavilion                         219      40   \n",
       "         Niles Nursing and Rehab Center                      216      54   \n",
       "         Symphony of Morgan Park                             202      26   \n",
       "         Symphony of South Shore                             197      29   \n",
       "\n",
       "                                                      CFR  outbreaks  \n",
       "County   FacilityName                                                 \n",
       "Cook     Ludeman Developmental Center            0.034221          1  \n",
       "         City View Multi Care Center             0.060241          1  \n",
       "Kankakee Samuel H. Shapiro Developmental Center  0.004310          2  \n",
       "Lake     Avantara Long Grove                     0.140351          1  \n",
       "Cook     Peterson Park Health Care               0.158371          2  \n",
       "         Symphony at Midway                      0.122727          2  \n",
       "         Woodbridge Nursing Pavilion             0.182648          1  \n",
       "         Niles Nursing and Rehab Center          0.250000          2  \n",
       "         Symphony of Morgan Park                 0.128713          1  \n",
       "         Symphony of South Shore                 0.147208          2  "
      ]
     },
     "execution_count": 9,
     "metadata": {},
     "output_type": "execute_result"
    }
   ],
   "source": [
    "df_facilities = df.groupby(['County', 'FacilityName']).sum()\n",
    "df_facilities['CFR'] = df_facilities['deaths'] / df_facilities['confirmed_cases']\n",
    "df_facilities.sort_values(by='confirmed_cases', ascending=False).to_csv('Reporting_data/IL_' + reporting_date + '_Facilities_LTC_data_v2.csv')\n",
    "df_facilities.sort_values(by='confirmed_cases', ascending=False).head(10)"
   ]
  },
  {
   "cell_type": "code",
   "execution_count": null,
   "metadata": {},
   "outputs": [],
   "source": []
  },
  {
   "cell_type": "markdown",
   "metadata": {},
   "source": [
    "# 4 - County Level Data & Charts"
   ]
  },
  {
   "cell_type": "code",
   "execution_count": 10,
   "metadata": {
    "colab": {
     "base_uri": "https://localhost:8080/",
     "height": 1000
    },
    "colab_type": "code",
    "id": "xSXUDYotyyzA",
    "outputId": "8066eaf5-6bbd-4311-de99-64fef7efc3d7"
   },
   "outputs": [
    {
     "data": {
      "text/html": [
       "<div>\n",
       "<style scoped>\n",
       "    .dataframe tbody tr th:only-of-type {\n",
       "        vertical-align: middle;\n",
       "    }\n",
       "\n",
       "    .dataframe tbody tr th {\n",
       "        vertical-align: top;\n",
       "    }\n",
       "\n",
       "    .dataframe thead th {\n",
       "        text-align: right;\n",
       "    }\n",
       "</style>\n",
       "<table border=\"1\" class=\"dataframe\">\n",
       "  <thead>\n",
       "    <tr style=\"text-align: right;\">\n",
       "      <th></th>\n",
       "      <th>confirmed_cases</th>\n",
       "      <th>deaths</th>\n",
       "      <th>CFR</th>\n",
       "      <th>outbreaks</th>\n",
       "    </tr>\n",
       "    <tr>\n",
       "      <th>County</th>\n",
       "      <th></th>\n",
       "      <th></th>\n",
       "      <th></th>\n",
       "      <th></th>\n",
       "    </tr>\n",
       "  </thead>\n",
       "  <tbody>\n",
       "    <tr>\n",
       "      <th>Cook</th>\n",
       "      <td>15294</td>\n",
       "      <td>2450</td>\n",
       "      <td>0.160194</td>\n",
       "      <td>409</td>\n",
       "    </tr>\n",
       "    <tr>\n",
       "      <th>DuPage</th>\n",
       "      <td>2872</td>\n",
       "      <td>463</td>\n",
       "      <td>0.161212</td>\n",
       "      <td>118</td>\n",
       "    </tr>\n",
       "    <tr>\n",
       "      <th>Lake</th>\n",
       "      <td>2319</td>\n",
       "      <td>342</td>\n",
       "      <td>0.147477</td>\n",
       "      <td>90</td>\n",
       "    </tr>\n",
       "    <tr>\n",
       "      <th>Will</th>\n",
       "      <td>1533</td>\n",
       "      <td>212</td>\n",
       "      <td>0.138291</td>\n",
       "      <td>59</td>\n",
       "    </tr>\n",
       "    <tr>\n",
       "      <th>Kane</th>\n",
       "      <td>1497</td>\n",
       "      <td>198</td>\n",
       "      <td>0.132265</td>\n",
       "      <td>77</td>\n",
       "    </tr>\n",
       "    <tr>\n",
       "      <th>St. Clair</th>\n",
       "      <td>951</td>\n",
       "      <td>132</td>\n",
       "      <td>0.138801</td>\n",
       "      <td>39</td>\n",
       "    </tr>\n",
       "    <tr>\n",
       "      <th>Madison</th>\n",
       "      <td>966</td>\n",
       "      <td>112</td>\n",
       "      <td>0.115942</td>\n",
       "      <td>39</td>\n",
       "    </tr>\n",
       "    <tr>\n",
       "      <th>Winnebago</th>\n",
       "      <td>812</td>\n",
       "      <td>107</td>\n",
       "      <td>0.131773</td>\n",
       "      <td>39</td>\n",
       "    </tr>\n",
       "    <tr>\n",
       "      <th>McHenry</th>\n",
       "      <td>554</td>\n",
       "      <td>92</td>\n",
       "      <td>0.166065</td>\n",
       "      <td>22</td>\n",
       "    </tr>\n",
       "    <tr>\n",
       "      <th>Rock Island</th>\n",
       "      <td>476</td>\n",
       "      <td>69</td>\n",
       "      <td>0.144958</td>\n",
       "      <td>17</td>\n",
       "    </tr>\n",
       "  </tbody>\n",
       "</table>\n",
       "</div>"
      ],
      "text/plain": [
       "             confirmed_cases  deaths       CFR  outbreaks\n",
       "County                                                   \n",
       "Cook                   15294    2450  0.160194        409\n",
       "DuPage                  2872     463  0.161212        118\n",
       "Lake                    2319     342  0.147477         90\n",
       "Will                    1533     212  0.138291         59\n",
       "Kane                    1497     198  0.132265         77\n",
       "St. Clair                951     132  0.138801         39\n",
       "Madison                  966     112  0.115942         39\n",
       "Winnebago                812     107  0.131773         39\n",
       "McHenry                  554      92  0.166065         22\n",
       "Rock Island              476      69  0.144958         17"
      ]
     },
     "execution_count": 10,
     "metadata": {},
     "output_type": "execute_result"
    }
   ],
   "source": [
    "# County Level Data\n",
    "df_county = df.groupby(by=['County']).sum()\n",
    "df_county['CFR'] = (df_county['deaths'] / df_county['confirmed_cases'])\n",
    "df_county.sort_values('deaths', ascending=False).to_csv('Reporting_data/IL_' + reporting_date + '_County_LTC_stats_v2.csv')\n",
    "df_county.sort_values('deaths', ascending=False).head(10)"
   ]
  },
  {
   "cell_type": "code",
   "execution_count": 11,
   "metadata": {
    "colab": {
     "base_uri": "https://localhost:8080/",
     "height": 885
    },
    "colab_type": "code",
    "id": "XwtrMuSVyyzL",
    "outputId": "1c9bb650-b588-4f90-f329-5c14ba8a5385"
   },
   "outputs": [],
   "source": [
    "# import altair as alt\n",
    "# df1=df_county.sort_values(by=['deaths'], ascending=False).reset_index()\n",
    "# cols = ['Deaths Non LTC', 'LTC Deaths']\n",
    "# cols = ['LTC Deaths', 'Deaths Non LTC']23\n",
    "\n",
    "\n",
    "# chart1 = alt.Chart(df_county.sort_values(by=['deaths'], ascending=False).reset_index()).mark_bar().encode(\n",
    "#     x='deaths:Q',\n",
    "#     y=alt.Y('County:O', sort='-x'),\n",
    "#     tooltip=['County', 'deaths', 'confirmed_cases', 'CFR']\n",
    "# )\n",
    "# chart2=chart1.encode(x=alt.X('CFR', axis=alt.Axis(format='%')))\n",
    "# #chart2=chart1.encode(x=alt.X('CFR'))\n",
    "\n",
    "\n",
    "# chart1 | chart2"
   ]
  },
  {
   "cell_type": "code",
   "execution_count": 12,
   "metadata": {
    "colab": {},
    "colab_type": "code",
    "id": "lKfOyMwTyyzV",
    "outputId": "2ab0fea3-9b6b-4486-e889-1fef19f0e3db"
   },
   "outputs": [],
   "source": [
    "# import altair as alt\n",
    "# df1=df_county.sort_values(by=['deaths'], ascending=False).reset_index()\n",
    "# cols = ['Deaths Non LTC', 'LTC Deaths']\n",
    "# cols = ['LTC Deaths', 'Deaths Non LTC']\n",
    "\n",
    "\n",
    "# chart1 = alt.Chart(df_county.sort_values(by=['deaths'], ascending=False).reset_index()).mark_bar().encode(\n",
    "#     x='deaths:Q',\n",
    "#     y=alt.Y('County:O'),\n",
    "#     tooltip=['County', 'deaths', 'confirmed_cases', 'CFR']\n",
    "# )\n",
    "# chart2=chart1.encode(x=alt.X('CFR', axis=alt.Axis(format='%')))\n",
    "# #chart2=chart1.encode(x=alt.X('CFR'))\n",
    "\n",
    "\n",
    "# chart1 | chart2 "
   ]
  },
  {
   "cell_type": "code",
   "execution_count": null,
   "metadata": {},
   "outputs": [],
   "source": []
  },
  {
   "cell_type": "code",
   "execution_count": null,
   "metadata": {},
   "outputs": [],
   "source": []
  },
  {
   "cell_type": "code",
   "execution_count": null,
   "metadata": {},
   "outputs": [],
   "source": []
  }
 ],
 "metadata": {
  "colab": {
   "name": "IL LTC Data Analysis.ipynb",
   "provenance": []
  },
  "kernelspec": {
   "display_name": "Python 3",
   "language": "python",
   "name": "python3"
  },
  "language_info": {
   "codemirror_mode": {
    "name": "ipython",
    "version": 3
   },
   "file_extension": ".py",
   "mimetype": "text/x-python",
   "name": "python",
   "nbconvert_exporter": "python",
   "pygments_lexer": "ipython3",
   "version": "3.7.6"
  }
 },
 "nbformat": 4,
 "nbformat_minor": 4
}
