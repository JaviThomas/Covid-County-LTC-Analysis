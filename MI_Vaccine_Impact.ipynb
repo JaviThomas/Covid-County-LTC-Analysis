{
 "cells": [
  {
   "cell_type": "markdown",
   "metadata": {},
   "source": [
    "# MI Vaccine Impact"
   ]
  },
  {
   "cell_type": "code",
   "execution_count": 1,
   "metadata": {},
   "outputs": [],
   "source": [
    "import pandas as pd\n",
    "import glob"
   ]
  },
  {
   "cell_type": "code",
   "execution_count": 32,
   "metadata": {},
   "outputs": [
    {
     "name": "stdout",
     "output_type": "stream",
     "text": [
      "./Reporting_data\\MI_1-11-2021LTC_data.csv\n",
      "./Reporting_data\\MI_1-4-2021LTC_data.csv\n",
      "./Reporting_data\\MI_11-02-2020LTC_data.csv\n",
      "./Reporting_data\\MI_11-09-2020LTC_data.csv\n",
      "./Reporting_data\\MI_11-16-2020LTC_data.csv\n",
      "./Reporting_data\\MI_11-23-2020LTC_data.csv\n",
      "./Reporting_data\\MI_12-01-2020LTC_data.csv\n",
      "./Reporting_data\\MI_12-14-2020LTC_data.csv\n",
      "./Reporting_data\\MI_12-21-2020LTC_data.csv\n",
      "./Reporting_data\\MI_12-28-2020LTC_data.csv\n",
      "./Reporting_data\\MI_2020-05-08_LTC_data.csv\n",
      "./Reporting_data\\MI_2020-07-22_LTC_data.csv\n",
      "./Reporting_data\\MI_2020-07-30_LTC_data.csv\n",
      "./Reporting_data\\MI_2020-08-05_LTC_data.csv\n",
      "./Reporting_data\\MI_2020-08-12_LTC_data.csv\n",
      "./Reporting_data\\MI_2020-08-19_LTC_data.csv\n",
      "./Reporting_data\\MI_2020-08-26_LTC_data.csv\n",
      "./Reporting_data\\MI_2020-09-02_LTC_data.csv\n",
      "./Reporting_data\\MI_2020-09-09_LTC_data.csv\n",
      "./Reporting_data\\MI_2020-09-16_LTC_data.csv\n",
      "./Reporting_data\\MI_2020-09-23_LTC_data.csv\n",
      "./Reporting_data\\MI_2020-09-30_LTC_data.csv\n",
      "./Reporting_data\\MI_2020-10-07_LTC_data.csv\n",
      "./Reporting_data\\MI_2020-10-14_LTC_data.csv\n",
      "./Reporting_data\\MI_2020-10-21_LTC_data.csv\n",
      "./Reporting_data\\MI_5-05-08_LTC_data.csv\n"
     ]
    }
   ],
   "source": [
    "files = glob.glob('./Reporting_data/MI_*LTC_data.csv')\n",
    "for file in files:\n",
    "    print(file)"
   ]
  },
  {
   "cell_type": "code",
   "execution_count": 33,
   "metadata": {},
   "outputs": [],
   "source": [
    "files = glob.glob('./Reporting_data/MI_*-20*LTC_data.csv')"
   ]
  },
  {
   "cell_type": "code",
   "execution_count": 49,
   "metadata": {},
   "outputs": [
    {
     "name": "stdout",
     "output_type": "stream",
     "text": [
      "2021111, 487, 108\n",
      "202114, 415, 191\n",
      "11-02-2020, 322, 55\n",
      "11-09-2020, 532, 67\n",
      "11-16-2020, 719, 88\n",
      "11-23-2020, 792, 109\n",
      "12-01-2020, 1126, 129\n",
      "12-14-2020, 1091, 230\n",
      "12-21-2020, 754, 240\n",
      "20201228, 514, 231\n"
     ]
    }
   ],
   "source": [
    "snf_data = {}\n",
    "for file in files:\n",
    "    facilities_df = pd.read_csv(file)\n",
    "    reporting_date = facilities_df['ReportingDate'].max()\n",
    "#     print(reporting_date)\n",
    "    snf_data[reporting_date] = {}\n",
    "    snf_df = facilities_df[facilities_df['TYPE'] == 'SNF']\n",
    "    snf_data[reporting_date]['snf_new_cases'] = snf_df['NEW RESIDENT CASES'].sum().astype(int)\n",
    "    snf_data[reporting_date]['snf_new_deaths'] = snf_df['NEW RESIDENT DEATHS'].sum().astype(int)\n",
    "    print ('%s, %d, %d' % (reporting_date, snf_data[reporting_date]['snf_new_cases'], snf_data[reporting_date]['snf_new_deaths']))"
   ]
  },
  {
   "cell_type": "code",
   "execution_count": 42,
   "metadata": {},
   "outputs": [
    {
     "name": "stdout",
     "output_type": "stream",
     "text": [
      "{'snf_new_cases': 487.0, 'snf_new_deaths': 108.0},487.000000,108.000000\n",
      "{'snf_new_cases': 415.0, 'snf_new_deaths': 191.0},415.000000,191.000000\n",
      "{'snf_new_cases': 322.0, 'snf_new_deaths': 55.0},322.000000,55.000000\n",
      "{'snf_new_cases': 532.0, 'snf_new_deaths': 67.0},532.000000,67.000000\n",
      "{'snf_new_cases': 719.0, 'snf_new_deaths': 88.0},719.000000,88.000000\n",
      "{'snf_new_cases': 792.0, 'snf_new_deaths': 109.0},792.000000,109.000000\n",
      "{'snf_new_cases': 1126.0, 'snf_new_deaths': 129.0},1126.000000,129.000000\n",
      "{'snf_new_cases': 1091.0, 'snf_new_deaths': 230.0},1091.000000,230.000000\n",
      "{'snf_new_cases': 754.0, 'snf_new_deaths': 240.0},754.000000,240.000000\n",
      "{'snf_new_cases': 514.0, 'snf_new_deaths': 231.0},514.000000,231.000000\n"
     ]
    }
   ],
   "source": [
    "for key in snf_data.keys():\n",
    "    print ('%s,%f,%f' %(reporting_date, snf_data[key]['snf_new_cases'], snf_data[key]['snf_new_deaths']))"
   ]
  },
  {
   "cell_type": "code",
   "execution_count": null,
   "metadata": {},
   "outputs": [],
   "source": []
  },
  {
   "cell_type": "code",
   "execution_count": null,
   "metadata": {},
   "outputs": [],
   "source": []
  },
  {
   "cell_type": "code",
   "execution_count": 15,
   "metadata": {},
   "outputs": [
    {
     "name": "stdout",
     "output_type": "stream",
     "text": [
      "12-01-2020\n",
      "SNF\n",
      "NEW RESIDENT CASES        1126\n",
      "TOTAL RESIDENT CASES     12590\n",
      "NEW RESIDENT DEATHS        129\n",
      "TOTAL RESIDENT DEATHS     2630\n",
      "NEW STAFF CASES            967\n",
      "TOTAL STAFF CASES         8985\n",
      "NEW STAFF DEATHS             1\n",
      "TOTAL STAFF DEATHS          25\n",
      "dtype: int32\n",
      "AFC\n",
      "NEW RESIDENT CASES        122\n",
      "TOTAL RESIDENT CASES     1033\n",
      "NEW RESIDENT DEATHS        24\n",
      "TOTAL RESIDENT DEATHS     247\n",
      "NEW STAFF CASES           124\n",
      "TOTAL STAFF CASES         931\n",
      "NEW STAFF DEATHS            1\n",
      "TOTAL STAFF DEATHS         17\n",
      "dtype: int32\n",
      "HFA\n",
      "NEW RESIDENT CASES        168\n",
      "TOTAL RESIDENT CASES     1985\n",
      "NEW RESIDENT DEATHS        51\n",
      "TOTAL RESIDENT DEATHS     571\n",
      "NEW STAFF CASES           269\n",
      "TOTAL STAFF CASES        1928\n",
      "NEW STAFF DEATHS            0\n",
      "TOTAL STAFF DEATHS          3\n",
      "dtype: int32\n",
      "AFC    604\n",
      "SNF    440\n",
      "HFA    307\n",
      "Name: TYPE, dtype: int64\n",
      "NEW RESIDENT CASES        1416\n",
      "TOTAL RESIDENT CASES     15608\n",
      "NEW RESIDENT DEATHS        204\n",
      "TOTAL RESIDENT DEATHS     3448\n",
      "NEW STAFF CASES           1360\n",
      "TOTAL STAFF CASES        11844\n",
      "NEW STAFF DEATHS             2\n",
      "TOTAL STAFF DEATHS          45\n",
      "dtype: int32\n"
     ]
    }
   ],
   "source": [
    "cols = ['NEW RESIDENT CASES', 'TOTAL RESIDENT CASES', 'NEW RESIDENT DEATHS',\n",
    "       'TOTAL RESIDENT DEATHS', 'NEW STAFF CASES', 'TOTAL STAFF CASES',\n",
    "       'NEW STAFF DEATHS', 'TOTAL STAFF DEATHS']\n",
    "print(reporting_date)\n",
    "for type in facilities_df['TYPE'].unique():\n",
    "    print (type)\n",
    "    print(facilities_df[cols][facilities_df['TYPE'] == type].sum().astype(int))\n",
    "print(facilities_df['TYPE'].value_counts())\n",
    "print(facilities_df[cols].sum().astype(int))\n",
    "# print(facilities_df[cols].sum())"
   ]
  },
  {
   "cell_type": "code",
   "execution_count": 26,
   "metadata": {},
   "outputs": [
    {
     "name": "stdout",
     "output_type": "stream",
     "text": [
      "1126.0\n",
      "129.0\n"
     ]
    }
   ],
   "source": [
    "snf_df = facilities_df[facilities_df['TYPE'] == 'SNF']\n",
    "snf_new_cases = snf_df['NEW RESIDENT CASES'].sum()\n",
    "snf_new_deaths = snf_df['NEW RESIDENT DEATHS'].sum()\n",
    "print(snf_new_cases)\n",
    "print(snf_new_deaths)\n",
    "# for col in cols:\n",
    "#     #     a = facilities_df[cols][facilities_df['TYPE'] == 'SNF'].sum().astype(int)\n",
    "#     total = snf_df[col].sum()\n",
    "#     print(col, total)\n"
   ]
  },
  {
   "cell_type": "code",
   "execution_count": 9,
   "metadata": {},
   "outputs": [
    {
     "data": {
      "text/plain": [
       "Index(['ReportingDate', 'FACILITY NAME', 'COUNTY', 'TYPE', 'COMPLIANCE',\n",
       "       'NEW RESIDENT CASES', 'TOTAL RESIDENT CASES', 'NEW RESIDENT DEATHS',\n",
       "       'TOTAL RESIDENT DEATHS', 'NEW STAFF CASES', 'TOTAL STAFF CASES',\n",
       "       'NEW STAFF DEATHS', 'TOTAL STAFF DEATHS'],\n",
       "      dtype='object')"
      ]
     },
     "execution_count": 9,
     "metadata": {},
     "output_type": "execute_result"
    }
   ],
   "source": [
    "facilities_df.columns"
   ]
  },
  {
   "cell_type": "code",
   "execution_count": null,
   "metadata": {},
   "outputs": [],
   "source": []
  }
 ],
 "metadata": {
  "kernelspec": {
   "display_name": "Python 3",
   "language": "python",
   "name": "python3"
  },
  "language_info": {
   "codemirror_mode": {
    "name": "ipython",
    "version": 3
   },
   "file_extension": ".py",
   "mimetype": "text/x-python",
   "name": "python",
   "nbconvert_exporter": "python",
   "pygments_lexer": "ipython3",
   "version": "3.7.6"
  }
 },
 "nbformat": 4,
 "nbformat_minor": 4
}
