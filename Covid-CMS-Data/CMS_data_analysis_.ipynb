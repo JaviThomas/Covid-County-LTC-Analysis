{
 "cells": [
  {
   "cell_type": "code",
   "execution_count": 1,
   "metadata": {},
   "outputs": [],
   "source": [
    "import pandas as pd\n",
    "import urllib3 as urllib\n",
    "import json"
   ]
  },
  {
   "cell_type": "code",
   "execution_count": 2,
   "metadata": {},
   "outputs": [],
   "source": [
    "df = pd.read_csv('COVID-19_Nursing_Home_Dataset.tsv', sep='\\t')\n",
    "\n",
    "IL_DF = df[df[\"Provider State\"] == \"IL\"]"
   ]
  },
  {
   "cell_type": "code",
   "execution_count": 3,
   "metadata": {},
   "outputs": [
    {
     "data": {
      "text/plain": [
       "Residents Total Confirmed COVID-19    7156\n",
       "Residents Total COVID-19 Deaths       1961\n",
       "dtype: object"
      ]
     },
     "execution_count": 3,
     "metadata": {},
     "output_type": "execute_result"
    }
   ],
   "source": [
    "#Filter by IL for states\n",
    "\n",
    "\n",
    "IL_DF[IL_DF['Week Ending'] == '05/31/2020'].sum()[['Residents Total Confirmed COVID-19',  'Residents Total COVID-19 Deaths']]"
   ]
  },
  {
   "cell_type": "code",
   "execution_count": 4,
   "metadata": {},
   "outputs": [],
   "source": [
    "http = urllib.PoolManager()\n",
    "\n",
    "def getResponse(url):\n",
    "    operUrl = http.request('GET', url)\n",
    "    if(operUrl.status==200):\n",
    "        data = operUrl.data\n",
    "        jsonData = json.loads(data.decode('utf-8'))\n",
    "    else:\n",
    "        print(\"Error receiving data\", operUrl.getcode())\n",
    "    return jsonData"
   ]
  },
  {
   "cell_type": "code",
   "execution_count": 6,
   "metadata": {},
   "outputs": [],
   "source": [
    "ltc_data = getResponse('http://www.dph.illinois.gov/sitefiles/COVIDLTC.json')\n",
    "reporting_date = '%d-%02d-%02d' %(ltc_data['LastUpdateDate']['year'], ltc_data['LastUpdateDate']['month'], ltc_data['LastUpdateDate']['day'])"
   ]
  },
  {
   "cell_type": "code",
   "execution_count": 15,
   "metadata": {},
   "outputs": [],
   "source": [
    "df1 = pd.DataFrame(ltc_data['FacilityValues'])\n",
    "df1['reporting_date'] = reporting_date\n",
    "df1['% deaths'] = df1['deaths'] / df1['confirmed_cases']"
   ]
  },
  {
   "cell_type": "code",
   "execution_count": 16,
   "metadata": {},
   "outputs": [
    {
     "data": {
      "text/html": [
       "<div>\n",
       "<style scoped>\n",
       "    .dataframe tbody tr th:only-of-type {\n",
       "        vertical-align: middle;\n",
       "    }\n",
       "\n",
       "    .dataframe tbody tr th {\n",
       "        vertical-align: top;\n",
       "    }\n",
       "\n",
       "    .dataframe thead th {\n",
       "        text-align: right;\n",
       "    }\n",
       "</style>\n",
       "<table border=\"1\" class=\"dataframe\">\n",
       "  <thead>\n",
       "    <tr style=\"text-align: right;\">\n",
       "      <th></th>\n",
       "      <th>County</th>\n",
       "      <th>FacilityName</th>\n",
       "      <th>confirmed_cases</th>\n",
       "      <th>deaths</th>\n",
       "      <th>status</th>\n",
       "      <th>reporting_date</th>\n",
       "      <th>% deaths</th>\n",
       "    </tr>\n",
       "  </thead>\n",
       "  <tbody>\n",
       "    <tr>\n",
       "      <th>0</th>\n",
       "      <td>Boone</td>\n",
       "      <td>Park Place of Belvidere</td>\n",
       "      <td>5</td>\n",
       "      <td>0</td>\n",
       "      <td>Open</td>\n",
       "      <td>2020-06-05</td>\n",
       "      <td>0.000000</td>\n",
       "    </tr>\n",
       "    <tr>\n",
       "      <th>1</th>\n",
       "      <td>Boone</td>\n",
       "      <td>Symphony Northwoods</td>\n",
       "      <td>87</td>\n",
       "      <td>13</td>\n",
       "      <td>Open</td>\n",
       "      <td>2020-06-05</td>\n",
       "      <td>0.149425</td>\n",
       "    </tr>\n",
       "    <tr>\n",
       "      <th>2</th>\n",
       "      <td>Champaign</td>\n",
       "      <td>Reflections Memory Care</td>\n",
       "      <td>8</td>\n",
       "      <td>0</td>\n",
       "      <td>Open</td>\n",
       "      <td>2020-06-05</td>\n",
       "      <td>0.000000</td>\n",
       "    </tr>\n",
       "    <tr>\n",
       "      <th>3</th>\n",
       "      <td>Champaign</td>\n",
       "      <td>University Rehab Center</td>\n",
       "      <td>5</td>\n",
       "      <td>0</td>\n",
       "      <td>Open</td>\n",
       "      <td>2020-06-05</td>\n",
       "      <td>0.000000</td>\n",
       "    </tr>\n",
       "    <tr>\n",
       "      <th>4</th>\n",
       "      <td>Christian</td>\n",
       "      <td>Villas of Holly Brook</td>\n",
       "      <td>2</td>\n",
       "      <td>0</td>\n",
       "      <td>Open</td>\n",
       "      <td>2020-06-05</td>\n",
       "      <td>0.000000</td>\n",
       "    </tr>\n",
       "    <tr>\n",
       "      <th>...</th>\n",
       "      <td>...</td>\n",
       "      <td>...</td>\n",
       "      <td>...</td>\n",
       "      <td>...</td>\n",
       "      <td>...</td>\n",
       "      <td>...</td>\n",
       "      <td>...</td>\n",
       "    </tr>\n",
       "    <tr>\n",
       "      <th>549</th>\n",
       "      <td>Winnebago</td>\n",
       "      <td>Peterson Meadows</td>\n",
       "      <td>7</td>\n",
       "      <td>1</td>\n",
       "      <td>Open</td>\n",
       "      <td>2020-06-05</td>\n",
       "      <td>0.142857</td>\n",
       "    </tr>\n",
       "    <tr>\n",
       "      <th>550</th>\n",
       "      <td>Winnebago</td>\n",
       "      <td>River Bluff Nursing Home</td>\n",
       "      <td>5</td>\n",
       "      <td>0</td>\n",
       "      <td>Open</td>\n",
       "      <td>2020-06-05</td>\n",
       "      <td>0.000000</td>\n",
       "    </tr>\n",
       "    <tr>\n",
       "      <th>551</th>\n",
       "      <td>Winnebago</td>\n",
       "      <td>Rock River Health Care</td>\n",
       "      <td>9</td>\n",
       "      <td>0</td>\n",
       "      <td>Open</td>\n",
       "      <td>2020-06-05</td>\n",
       "      <td>0.000000</td>\n",
       "    </tr>\n",
       "    <tr>\n",
       "      <th>552</th>\n",
       "      <td>Winnebago</td>\n",
       "      <td>Stepping Stone of Rockford</td>\n",
       "      <td>7</td>\n",
       "      <td>1</td>\n",
       "      <td>Open</td>\n",
       "      <td>2020-06-05</td>\n",
       "      <td>0.142857</td>\n",
       "    </tr>\n",
       "    <tr>\n",
       "      <th>553</th>\n",
       "      <td>Winnebago</td>\n",
       "      <td>Van Matre Encompas Health</td>\n",
       "      <td>9</td>\n",
       "      <td>1</td>\n",
       "      <td>Open</td>\n",
       "      <td>2020-06-05</td>\n",
       "      <td>0.111111</td>\n",
       "    </tr>\n",
       "  </tbody>\n",
       "</table>\n",
       "<p>554 rows × 7 columns</p>\n",
       "</div>"
      ],
      "text/plain": [
       "        County                 FacilityName  confirmed_cases  deaths status  \\\n",
       "0        Boone      Park Place of Belvidere                5       0   Open   \n",
       "1        Boone          Symphony Northwoods               87      13   Open   \n",
       "2    Champaign      Reflections Memory Care                8       0   Open   \n",
       "3    Champaign      University Rehab Center                5       0   Open   \n",
       "4    Christian        Villas of Holly Brook                2       0   Open   \n",
       "..         ...                          ...              ...     ...    ...   \n",
       "549  Winnebago             Peterson Meadows                7       1   Open   \n",
       "550  Winnebago     River Bluff Nursing Home                5       0   Open   \n",
       "551  Winnebago       Rock River Health Care                9       0   Open   \n",
       "552  Winnebago  Stepping Stone of Rockford                 7       1   Open   \n",
       "553  Winnebago    Van Matre Encompas Health                9       1   Open   \n",
       "\n",
       "    reporting_date  % deaths  \n",
       "0       2020-06-05  0.000000  \n",
       "1       2020-06-05  0.149425  \n",
       "2       2020-06-05  0.000000  \n",
       "3       2020-06-05  0.000000  \n",
       "4       2020-06-05  0.000000  \n",
       "..             ...       ...  \n",
       "549     2020-06-05  0.142857  \n",
       "550     2020-06-05  0.000000  \n",
       "551     2020-06-05  0.000000  \n",
       "552     2020-06-05  0.142857  \n",
       "553     2020-06-05  0.111111  \n",
       "\n",
       "[554 rows x 7 columns]"
      ]
     },
     "execution_count": 16,
     "metadata": {},
     "output_type": "execute_result"
    }
   ],
   "source": [
    "df1"
   ]
  },
  {
   "cell_type": "code",
   "execution_count": 18,
   "metadata": {},
   "outputs": [],
   "source": [
    "f = open(\"../Covid-County-LTC-Analysis/Source_data/IL_2020-05-29LTC_data_Source.json\")"
   ]
  },
  {
   "cell_type": "code",
   "execution_count": 23,
   "metadata": {},
   "outputs": [
    {
     "ename": "TypeError",
     "evalue": "'_io.TextIOWrapper' object is not subscriptable",
     "output_type": "error",
     "traceback": [
      "\u001b[1;31m---------------------------------------------------------------------------\u001b[0m",
      "\u001b[1;31mTypeError\u001b[0m                                 Traceback (most recent call last)",
      "\u001b[1;32m<ipython-input-23-891e20a12e6b>\u001b[0m in \u001b[0;36m<module>\u001b[1;34m\u001b[0m\n\u001b[1;32m----> 1\u001b[1;33m \u001b[0mf\u001b[0m\u001b[1;33m[\u001b[0m\u001b[1;34m'FacilityValues'\u001b[0m\u001b[1;33m]\u001b[0m\u001b[1;33m\u001b[0m\u001b[1;33m\u001b[0m\u001b[0m\n\u001b[0m",
      "\u001b[1;31mTypeError\u001b[0m: '_io.TextIOWrapper' object is not subscriptable"
     ]
    }
   ],
   "source": []
  },
  {
   "cell_type": "code",
   "execution_count": null,
   "metadata": {},
   "outputs": [],
   "source": []
  }
 ],
 "metadata": {
  "kernelspec": {
   "display_name": "Python 3",
   "language": "python",
   "name": "python3"
  },
  "language_info": {
   "codemirror_mode": {
    "name": "ipython",
    "version": 3
   },
   "file_extension": ".py",
   "mimetype": "text/x-python",
   "name": "python",
   "nbconvert_exporter": "python",
   "pygments_lexer": "ipython3",
   "version": "3.7.6"
  }
 },
 "nbformat": 4,
 "nbformat_minor": 4
}
