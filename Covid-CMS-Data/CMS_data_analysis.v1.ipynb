{
 "cells": [
  {
   "cell_type": "code",
   "execution_count": 2,
   "metadata": {},
   "outputs": [],
   "source": [
    "import pandas as pd\n",
    "import urllib3 as urllib\n",
    "import json"
   ]
  },
  {
   "cell_type": "code",
   "execution_count": null,
   "metadata": {},
   "outputs": [],
   "source": [
    "ls \"C:/Users/MrSteve/Downloads/COVID_Vaccines_Shipped_LTC_712482_7 (1).xlsx\""
   ]
  },
  {
   "cell_type": "code",
   "execution_count": 10,
   "metadata": {},
   "outputs": [
    {
     "name": "stderr",
     "output_type": "stream",
     "text": [
      "C:\\ProgramData\\Anaconda3\\lib\\site-packages\\IPython\\core\\interactiveshell.py:3147: DtypeWarning: Columns (1) have mixed types.Specify dtype option on import or set low_memory=False.\n",
      "  interactivity=interactivity, compiler=compiler, result=result)\n"
     ]
    }
   ],
   "source": [
    "df = pd.read_csv('C:/Users/MrSteve/Downloads/COVID-19_Nursing_Home_Dataset (2).tsv',  sep='\\t')\n",
    "df_latest = df[df['Week Ending'] == max(df['Week Ending'].unique())]\n",
    "\n",
    "IL_DF = df[df[\"Provider State\"] == \"IL\"]"
   ]
  },
  {
   "cell_type": "code",
   "execution_count": null,
   "metadata": {},
   "outputs": [],
   "source": []
  },
  {
   "cell_type": "code",
   "execution_count": null,
   "metadata": {},
   "outputs": [],
   "source": []
  },
  {
   "cell_type": "code",
   "execution_count": 13,
   "metadata": {},
   "outputs": [
    {
     "name": "stdout",
     "output_type": "stream",
     "text": [
      "Week Ending\n",
      "Federal Provider Number\n",
      "Provider Name\n",
      "Provider Address\n",
      "Provider City\n",
      "Provider State\n",
      "Provider Zip Code\n",
      "Submitted Data\n",
      "Passed Quality Assurance Check\n",
      "Residents Weekly Admissions COVID-19\n",
      "Residents Total Admissions COVID-19\n",
      "Residents Weekly Confirmed COVID-19\n",
      "Residents Total Confirmed COVID-19\n",
      "Residents Weekly Suspected COVID-19\n",
      "Residents Total Suspected COVID-19\n",
      "Residents Weekly All Deaths\n",
      "Residents Total All Deaths\n",
      "Residents Weekly COVID-19 Deaths\n",
      "Residents Total COVID-19 Deaths\n",
      "Number of All Beds\n",
      "Total Number of Occupied Beds\n",
      "Resident Access to Testing in Facility\n",
      "Laboratory Type Is State Health Dept\n",
      "Laboratory Type Is Private Lab\n",
      "Laboratory Type Is Other\n",
      "Able to Test or Obtain Resources to Test All Current Residents Within Next 7 Days\n",
      "Reason for Not Testing Residents - Lack of PPE for Personnel \n",
      "Reason for Not Testing Residents - Lack of Supplies\n",
      "Reason for Not Testing Residents  - Lack of Access to Laboratory\n",
      "Reason for Not Testing Residents - Lack of Access to Trained Personnel \n",
      "Reason for Not Testing Residents  - Uncertainty About Reimbursement\n",
      "Reason for Not Testing Residents  - Other\n",
      "During Past Two Weeks Average Time to Receive Resident Test Results\n",
      "Has Facility Performed Resident Tests Since Last Report\n",
      "Tested Residents with New Signs or Symptoms\n",
      "Tested Asymptomatic Residents in a Unit or Section After a New Case\n",
      "Tested Asymptomatic Residents Facility-Wide After a New Case\n",
      "Tested Asymptomatic Residents Without Known Exposure as Surveillance\n",
      "Tested Another Subgroup of Residents\n",
      "Able to Test or Obtain Resources to Test All Staff and/or Personnel Within Next 7 Days\n",
      "Reason for Not Testing Staff and/or Personnel - Lack of PPE for Personnel \n",
      "Reason for Not Testing Staff and/or Personnel - Lack of Supplies\n",
      "Reason for Not Testing Staff and/or Personnel - Lack of Access to Laboratory\n",
      "Reason for Not Testing Staff and/or Personnel  - Lack of Access to Trained Personnel \n",
      "Reason for Not Testing Staff and/or Personnel - Uncertainty About Reimbursement\n",
      "Reason for Not Testing Staff and/or Personnel - Other\n",
      "During Past Two Weeks Average Time to Receive Staff and/or Personnel Test Results\n",
      "Has Facility Performed Staff and/or Personnel Tests Since Last Report\n",
      "Tested Staff and/or Personnel with New Signs or Symptoms\n",
      "Tested Asymptomatic Staff and/or Personnel in a Unit or Section After a New Case\n",
      "Tested Asymptomatic Staff and/or Personnel Facility-Wide After a New Case\n",
      "Tested Asymptomatic Staff and/or Personnel Without Known Exposure as Surveillance\n",
      "Tested Another Subgroup of Staff and/or Personnel\n",
      "In-House Point-of-Care Test Machine\n",
      "COVID-19 Point-of-Care Tests Performed on Residents Since Last Report\n",
      "COVID-19 Point-of-Care Tests Performed on Staff and/or Personnel Since Last Report\n",
      "Enough Supplies to Test All Staff and/or Personnel Using Point-of-Care Test Machine\n",
      "Staff Weekly Confirmed COVID-19\n",
      "Staff Total Confirmed COVID-19\n",
      "Staff Weekly Suspected COVID-19\n",
      "Staff Total Suspected COVID-19\n",
      "Staff Weekly COVID-19 Deaths\n",
      "Staff Total COVID-19 Deaths\n",
      "Shortage of Nursing Staff\n",
      "Shortage of Clinical Staff\n",
      "Shortage of Aides\n",
      "Shortage of Other Staff\n",
      "Any Current Supply of N95 Masks\n",
      "One-Week Supply of N95 Masks\n",
      "Any Current Supply of Surgical Masks\n",
      "One-Week Supply of Surgical Masks\n",
      "Any Current Supply of Eye Protection\n",
      "One-Week Supply of Eye Protection\n",
      "Any Current Supply of Gowns\n",
      "One-Week Supply of Gowns\n",
      "Any Current Supply of Gloves\n",
      "One-Week Supply of Gloves\n",
      "Any Current Supply of Hand Sanitizer\n",
      "One-Week Supply of Hand Sanitizer\n",
      "Ventilator Dependent Unit\n",
      "Number of Ventilators in Facility\n",
      "Number of Ventilators in Use for COVID-19\n",
      "Any Current Supply of Ventilator Supplies\n",
      "One-Week Supply of Ventilator Supplies\n",
      "Weekly Resident Confirmed COVID-19 Cases Per 1,000 Residents\n",
      "Weekly Resident COVID-19 Deaths Per 1,000 Residents\n",
      "Total Resident Confirmed COVID-19 Cases Per 1,000 Residents\n",
      "Total Resident COVID-19 Deaths Per 1,000 Residents\n",
      "Total Residents COVID-19 Deaths as a Percentage of Confirmed COVID-19 Cases\n",
      "County\n",
      "Three or More Confirmed COVID-19 Cases This Week\n",
      "Initial Confirmed COVID-19 Case This Week\n",
      "Geolocation\n",
      "Reporting Interval\n",
      "Has Facility Performed Tests Since Last Report\n",
      "COVID-19 Non-Point-of-Care Tests Performed on Residents Since Last Report\n",
      "COVID-19 Non-Point-of-Care Tests Performed on Staff and/or Personnel Since Last Report\n",
      "Number of Residents with a New Positive COVID-19 Test Result\n",
      "Number of Residents with a New Positive COVID-19 Test Result with Positive Antigen Test Only\n",
      "Number of Residents with a New Positive COVID-19 Test Result with Positive NAAT (PCR) Test Only\n",
      "Number of Residents with a New Positive COVID-19 Test Result with Positive Antigen Test AND Negative NAAT (PCR) Test\n",
      "Number of Residents with a New Positive COVID-19 Test Result with Any Other Combination of Antigen Test and/or NAAT (PCR) Test with At Least One Positive Test\n",
      "Number of Residents with a New Positive COVID-19 Test Result who are Reinfected\n",
      " Number of Residents with a New Positive COVID-19 Test Result who are Reinfected and Symptomatic\n",
      "Number of Residents with a New Positive COVID-19 Test Result who are Reinfected and Asymptomatic\n",
      "Number of Residents with New Influenza\n",
      "Number of Residents with Acute Respiratory Illness Symptoms Excluding COVID-19 and/or Influenza\n",
      "Number of Residents with Confirmed Coinfection with Influenza and COVID-19\n",
      "During Past Two Weeks Average Time to Receive COVID-19 Test Results from Non-Point-of-Care Tests\n",
      "Number of Staff and/or Personnel with a New Positive COVID-19 Test Result\n",
      "Number of Staff and/or Personnel with a New Positive COVID-19 Test Result with Positive Antigen Test Only\n",
      "Number of Staff and/or Personnel with a New Positive COVID-19 Test Result with Positive NAAT (PCR) Test Only\n",
      "Number of Staff and/or Personnel with a New Positive COVID-19 Test Result with Positive Antigen Test AND Negative NAAT (PCR) Test\n",
      "Number of Staff and/or Personnel with a New Positive COVID-19 Test Result with Any Other Combination of Antigen Test and/or NAAT (PCR) Test with At Least One Positive Test\n",
      "Number of Staff and/or Personnel with a New Positive COVID-19 Test Result who are Reinfected\n",
      "Number of Staff and/or Personnel with a New Positive COVID-19 Test Result who are Reinfected and Symptomatic\n",
      "Number of Staff and/or Personnel with a New Positive COVID-19 Test Result who are Reinfected and Asymptomatic\n",
      "Number of Staff and/or Personnel with New Influenza\n",
      "Number of Staff and/or Personnel with Acute Respiratory Illness Symptoms Excluding COVID-19 and/or Influenza\n",
      "Number of Staff and/or Personnel with Confirmed Coinfection with Influenza and COVID-19\n",
      "confirmed-occupied_beds\n"
     ]
    }
   ],
   "source": [
    "for col in df.columns:\n",
    "    print(col)"
   ]
  },
  {
   "cell_type": "code",
   "execution_count": 3,
   "metadata": {},
   "outputs": [],
   "source": [
    "df_latest = df[df['Week Ending'] == max(df['Week Ending'].unique())]\n",
    "#df_latest.to_csv('2020-05-31_CMD_DATA.csv')"
   ]
  },
  {
   "cell_type": "code",
   "execution_count": 4,
   "metadata": {},
   "outputs": [],
   "source": [
    "df['confirmed-occupied_beds'] = df['Residents Total Confirmed COVID-19']/df_latest['Total Number of Occupied Beds']*100"
   ]
  },
  {
   "cell_type": "code",
   "execution_count": 5,
   "metadata": {},
   "outputs": [],
   "source": [
    "cols = ['Week Ending', 'Federal Provider Number', 'Provider Name',\n",
    "       'Provider Address', 'Provider City', 'Provider State',\n",
    "       'Provider Zip Code', 'confirmed-occupied_beds', \n",
    "        'Residents Total Suspected COVID-19', 'Residents Total Admissions COVID-19',\n",
    "        'Residents Total Confirmed COVID-19', 'Total Number of Occupied Beds', \n",
    "        'Number of All Beds', 'Total Number of Occupied Beds']\n",
    "df[(df['confirmed-occupied_beds'] > 100.0) & df['Total Number of Occupied Beds'] > 0][cols].sort_values('confirmed-occupied_beds', ascending=False).to_csv('CMS_Data_More_Cases_Than_Beds.csv')"
   ]
  },
  {
   "cell_type": "code",
   "execution_count": 7,
   "metadata": {},
   "outputs": [
    {
     "data": {
      "text/plain": [
       "Index(['Week Ending', 'Federal Provider Number', 'Provider Name',\n",
       "       'Provider Address', 'Provider City', 'Provider State',\n",
       "       'Provider Zip Code', 'Submitted Data', 'Passed Quality Assurance Check',\n",
       "       'Residents Weekly Admissions COVID-19',\n",
       "       'Residents Total Admissions COVID-19',\n",
       "       'Residents Weekly Confirmed COVID-19',\n",
       "       'Residents Total Confirmed COVID-19',\n",
       "       'Residents Weekly Suspected COVID-19',\n",
       "       'Residents Total Suspected COVID-19', 'Residents Weekly All Deaths',\n",
       "       'Residents Total All Deaths', 'Residents Weekly COVID-19 Deaths',\n",
       "       'Residents Total COVID-19 Deaths', 'Number of All Beds',\n",
       "       'Total Number of Occupied Beds',\n",
       "       'Resident Access to Testing in Facility',\n",
       "       'Laboratory Type Is State Health Dept',\n",
       "       'Laboratory Type Is Private Lab', 'Laboratory Type Is Other',\n",
       "       'Staff Weekly Confirmed COVID-19', 'Staff Total Confirmed COVID-19',\n",
       "       'Staff Weekly Suspected COVID-19', 'Staff Total Suspected COVID-19',\n",
       "       'Staff Weekly COVID-19 Deaths', 'Staff Total COVID-19 Deaths',\n",
       "       'Shortage of Nursing Staff', 'Shortage of Clinical Staff',\n",
       "       'Shortage of Aides', 'Shortage of Other Staff',\n",
       "       'Any Current Supply of N95 Masks', 'One-Week Supply of N95 Masks',\n",
       "       'Any Current Supply of Surgical Masks',\n",
       "       'One-Week Supply of Surgical Masks',\n",
       "       'Any Current Supply of Eye Protection',\n",
       "       'One-Week Supply of Eye Protection', 'Any Current Supply of Gowns',\n",
       "       'One-Week Supply of Gowns', 'Any Current Supply of Gloves',\n",
       "       'One-Week Supply of Gloves', 'Any Current Supply of Hand Sanitizer',\n",
       "       'One-Week Supply of Hand Sanitizer', 'Ventilator Dependent Unit',\n",
       "       'Number of Ventilators in Facility',\n",
       "       'Number of Ventilators in Use for COVID-19',\n",
       "       'Any Current Supply of Ventilator Supplies',\n",
       "       'One-Week Supply of Ventilator Supplies',\n",
       "       'Total Resident Confirmed COVID-19 Cases Per 1,000 Residents',\n",
       "       'Total Resident COVID-19 Deaths Per 1,000 Residents',\n",
       "       'Total Residents COVID-19 Deaths as a Percentage of Confirmed COVID-19 Cases',\n",
       "       'Geolocation', 'confirmed-occupied_beds'],\n",
       "      dtype='object')"
      ]
     },
     "execution_count": 7,
     "metadata": {},
     "output_type": "execute_result"
    }
   ],
   "source": [
    "df.columns"
   ]
  },
  {
   "cell_type": "code",
   "execution_count": 7,
   "metadata": {},
   "outputs": [
    {
     "data": {
      "text/plain": [
       "Index(['Week Ending', 'Federal Provider Number', 'Provider Name',\n",
       "       'Provider Address', 'Provider City', 'Provider State',\n",
       "       'Provider Zip Code', 'Submitted Data', 'Passed Quality Assurance Check',\n",
       "       'Residents Weekly Admissions COVID-19',\n",
       "       'Residents Total Admissions COVID-19',\n",
       "       'Residents Weekly Confirmed COVID-19',\n",
       "       'Residents Total Confirmed COVID-19',\n",
       "       'Residents Weekly Suspected COVID-19',\n",
       "       'Residents Total Suspected COVID-19', 'Residents Weekly All Deaths',\n",
       "       'Residents Total All Deaths', 'Residents Weekly COVID-19 Deaths',\n",
       "       'Residents Total COVID-19 Deaths', 'Number of All Beds',\n",
       "       'Total Number of Occupied Beds',\n",
       "       'Resident Access to Testing in Facility',\n",
       "       'Laboratory Type Is State Health Dept',\n",
       "       'Laboratory Type Is Private Lab', 'Laboratory Type Is Other',\n",
       "       'Staff Weekly Confirmed COVID-19', 'Staff Total Confirmed COVID-19',\n",
       "       'Staff Weekly Suspected COVID-19', 'Staff Total Suspected COVID-19',\n",
       "       'Staff Weekly COVID-19 Deaths', 'Staff Total COVID-19 Deaths',\n",
       "       'Shortage of Nursing Staff', 'Shortage of Clinical Staff',\n",
       "       'Shortage of Aides', 'Shortage of Other Staff',\n",
       "       'Any Current Supply of N95 Masks', 'One-Week Supply of N95 Masks',\n",
       "       'Any Current Supply of Surgical Masks',\n",
       "       'One-Week Supply of Surgical Masks',\n",
       "       'Any Current Supply of Eye Protection',\n",
       "       'One-Week Supply of Eye Protection', 'Any Current Supply of Gowns',\n",
       "       'One-Week Supply of Gowns', 'Any Current Supply of Gloves',\n",
       "       'One-Week Supply of Gloves', 'Any Current Supply of Hand Sanitizer',\n",
       "       'One-Week Supply of Hand Sanitizer', 'Ventilator Dependent Unit',\n",
       "       'Number of Ventilators in Facility',\n",
       "       'Number of Ventilators in Use for COVID-19',\n",
       "       'Any Current Supply of Ventilator Supplies',\n",
       "       'One-Week Supply of Ventilator Supplies',\n",
       "       'Total Resident Confirmed COVID-19 Cases Per 1,000 Residents',\n",
       "       'Total Resident COVID-19 Deaths Per 1,000 Residents',\n",
       "       'Total Residents COVID-19 Deaths as a Percentage of Confirmed COVID-19 Cases',\n",
       "       'Geolocation', 'confirmed-occupied_beds'],\n",
       "      dtype='object')"
      ]
     },
     "execution_count": 7,
     "metadata": {},
     "output_type": "execute_result"
    }
   ],
   "source": [
    "df_latest.columns"
   ]
  },
  {
   "cell_type": "code",
   "execution_count": 3,
   "metadata": {},
   "outputs": [
    {
     "data": {
      "text/plain": [
       "Residents Total Confirmed COVID-19    7156\n",
       "Residents Total COVID-19 Deaths       1961\n",
       "dtype: object"
      ]
     },
     "execution_count": 3,
     "metadata": {},
     "output_type": "execute_result"
    }
   ],
   "source": [
    "#Filter by IL for states\n",
    "\n",
    "\n",
    "IL_DF[IL_DF['Week Ending'] == '05/31/2020'].sum()[['Residents Total Confirmed COVID-19',  'Residents Total COVID-19 Deaths']]"
   ]
  },
  {
   "cell_type": "code",
   "execution_count": 4,
   "metadata": {},
   "outputs": [],
   "source": [
    "http = urllib.PoolManager()\n",
    "\n",
    "def getResponse(url):\n",
    "    operUrl = http.request('GET', url)\n",
    "    if(operUrl.status==200):\n",
    "        data = operUrl.data\n",
    "        jsonData = json.loads(data.decode('utf-8'))\n",
    "    else:\n",
    "        print(\"Error receiving data\", operUrl.getcode())\n",
    "    return jsonData"
   ]
  },
  {
   "cell_type": "code",
   "execution_count": 5,
   "metadata": {},
   "outputs": [],
   "source": [
    "ltc_data = getResponse('http://www.dph.illinois.gov/sitefiles/COVIDLTC.json')\n",
    "reporting_date = '%d-%02d-%02d' %(ltc_data['LastUpdateDate']['year'], ltc_data['LastUpdateDate']['month'], ltc_data['LastUpdateDate']['day'])"
   ]
  },
  {
   "cell_type": "code",
   "execution_count": 6,
   "metadata": {},
   "outputs": [],
   "source": [
    "df1 = pd.DataFrame(ltc_data['FacilityValues'])\n",
    "df1['reporting_date'] = reporting_date\n",
    "df1['% deaths'] = df1['deaths'] / df1['confirmed_cases']"
   ]
  },
  {
   "cell_type": "code",
   "execution_count": 7,
   "metadata": {},
   "outputs": [
    {
     "data": {
      "text/html": [
       "<div>\n",
       "<style scoped>\n",
       "    .dataframe tbody tr th:only-of-type {\n",
       "        vertical-align: middle;\n",
       "    }\n",
       "\n",
       "    .dataframe tbody tr th {\n",
       "        vertical-align: top;\n",
       "    }\n",
       "\n",
       "    .dataframe thead th {\n",
       "        text-align: right;\n",
       "    }\n",
       "</style>\n",
       "<table border=\"1\" class=\"dataframe\">\n",
       "  <thead>\n",
       "    <tr style=\"text-align: right;\">\n",
       "      <th></th>\n",
       "      <th>County</th>\n",
       "      <th>FacilityName</th>\n",
       "      <th>confirmed_cases</th>\n",
       "      <th>deaths</th>\n",
       "      <th>status</th>\n",
       "      <th>reporting_date</th>\n",
       "      <th>% deaths</th>\n",
       "    </tr>\n",
       "  </thead>\n",
       "  <tbody>\n",
       "    <tr>\n",
       "      <th>0</th>\n",
       "      <td>Boone</td>\n",
       "      <td>Park Place of Belvidere</td>\n",
       "      <td>5</td>\n",
       "      <td>0</td>\n",
       "      <td>Open</td>\n",
       "      <td>2020-06-05</td>\n",
       "      <td>0.000000</td>\n",
       "    </tr>\n",
       "    <tr>\n",
       "      <th>1</th>\n",
       "      <td>Boone</td>\n",
       "      <td>Symphony Northwoods</td>\n",
       "      <td>87</td>\n",
       "      <td>13</td>\n",
       "      <td>Open</td>\n",
       "      <td>2020-06-05</td>\n",
       "      <td>0.149425</td>\n",
       "    </tr>\n",
       "    <tr>\n",
       "      <th>2</th>\n",
       "      <td>Champaign</td>\n",
       "      <td>Reflections Memory Care</td>\n",
       "      <td>8</td>\n",
       "      <td>0</td>\n",
       "      <td>Open</td>\n",
       "      <td>2020-06-05</td>\n",
       "      <td>0.000000</td>\n",
       "    </tr>\n",
       "    <tr>\n",
       "      <th>3</th>\n",
       "      <td>Champaign</td>\n",
       "      <td>University Rehab Center</td>\n",
       "      <td>5</td>\n",
       "      <td>0</td>\n",
       "      <td>Open</td>\n",
       "      <td>2020-06-05</td>\n",
       "      <td>0.000000</td>\n",
       "    </tr>\n",
       "    <tr>\n",
       "      <th>4</th>\n",
       "      <td>Christian</td>\n",
       "      <td>Villas of Holly Brook</td>\n",
       "      <td>2</td>\n",
       "      <td>0</td>\n",
       "      <td>Open</td>\n",
       "      <td>2020-06-05</td>\n",
       "      <td>0.000000</td>\n",
       "    </tr>\n",
       "    <tr>\n",
       "      <th>...</th>\n",
       "      <td>...</td>\n",
       "      <td>...</td>\n",
       "      <td>...</td>\n",
       "      <td>...</td>\n",
       "      <td>...</td>\n",
       "      <td>...</td>\n",
       "      <td>...</td>\n",
       "    </tr>\n",
       "    <tr>\n",
       "      <th>549</th>\n",
       "      <td>Winnebago</td>\n",
       "      <td>Peterson Meadows</td>\n",
       "      <td>7</td>\n",
       "      <td>1</td>\n",
       "      <td>Open</td>\n",
       "      <td>2020-06-05</td>\n",
       "      <td>0.142857</td>\n",
       "    </tr>\n",
       "    <tr>\n",
       "      <th>550</th>\n",
       "      <td>Winnebago</td>\n",
       "      <td>River Bluff Nursing Home</td>\n",
       "      <td>5</td>\n",
       "      <td>0</td>\n",
       "      <td>Open</td>\n",
       "      <td>2020-06-05</td>\n",
       "      <td>0.000000</td>\n",
       "    </tr>\n",
       "    <tr>\n",
       "      <th>551</th>\n",
       "      <td>Winnebago</td>\n",
       "      <td>Rock River Health Care</td>\n",
       "      <td>9</td>\n",
       "      <td>0</td>\n",
       "      <td>Open</td>\n",
       "      <td>2020-06-05</td>\n",
       "      <td>0.000000</td>\n",
       "    </tr>\n",
       "    <tr>\n",
       "      <th>552</th>\n",
       "      <td>Winnebago</td>\n",
       "      <td>Stepping Stone of Rockford</td>\n",
       "      <td>7</td>\n",
       "      <td>1</td>\n",
       "      <td>Open</td>\n",
       "      <td>2020-06-05</td>\n",
       "      <td>0.142857</td>\n",
       "    </tr>\n",
       "    <tr>\n",
       "      <th>553</th>\n",
       "      <td>Winnebago</td>\n",
       "      <td>Van Matre Encompas Health</td>\n",
       "      <td>9</td>\n",
       "      <td>1</td>\n",
       "      <td>Open</td>\n",
       "      <td>2020-06-05</td>\n",
       "      <td>0.111111</td>\n",
       "    </tr>\n",
       "  </tbody>\n",
       "</table>\n",
       "<p>554 rows × 7 columns</p>\n",
       "</div>"
      ],
      "text/plain": [
       "        County                 FacilityName  confirmed_cases  deaths status  \\\n",
       "0        Boone      Park Place of Belvidere                5       0   Open   \n",
       "1        Boone          Symphony Northwoods               87      13   Open   \n",
       "2    Champaign      Reflections Memory Care                8       0   Open   \n",
       "3    Champaign      University Rehab Center                5       0   Open   \n",
       "4    Christian        Villas of Holly Brook                2       0   Open   \n",
       "..         ...                          ...              ...     ...    ...   \n",
       "549  Winnebago             Peterson Meadows                7       1   Open   \n",
       "550  Winnebago     River Bluff Nursing Home                5       0   Open   \n",
       "551  Winnebago       Rock River Health Care                9       0   Open   \n",
       "552  Winnebago  Stepping Stone of Rockford                 7       1   Open   \n",
       "553  Winnebago    Van Matre Encompas Health                9       1   Open   \n",
       "\n",
       "    reporting_date  % deaths  \n",
       "0       2020-06-05  0.000000  \n",
       "1       2020-06-05  0.149425  \n",
       "2       2020-06-05  0.000000  \n",
       "3       2020-06-05  0.000000  \n",
       "4       2020-06-05  0.000000  \n",
       "..             ...       ...  \n",
       "549     2020-06-05  0.142857  \n",
       "550     2020-06-05  0.000000  \n",
       "551     2020-06-05  0.000000  \n",
       "552     2020-06-05  0.142857  \n",
       "553     2020-06-05  0.111111  \n",
       "\n",
       "[554 rows x 7 columns]"
      ]
     },
     "execution_count": 7,
     "metadata": {},
     "output_type": "execute_result"
    }
   ],
   "source": [
    "df1"
   ]
  },
  {
   "cell_type": "code",
   "execution_count": 8,
   "metadata": {},
   "outputs": [
    {
     "ename": "FileNotFoundError",
     "evalue": "[Errno 2] No such file or directory: '../Covid-County-LTC-Analysis/Source_data/IL_2020-05-29LTC_data_Source.json'",
     "output_type": "error",
     "traceback": [
      "\u001b[0;31m---------------------------------------------------------------------------\u001b[0m",
      "\u001b[0;31mFileNotFoundError\u001b[0m                         Traceback (most recent call last)",
      "\u001b[0;32m<ipython-input-8-b08ad92d895f>\u001b[0m in \u001b[0;36m<module>\u001b[0;34m\u001b[0m\n\u001b[0;32m----> 1\u001b[0;31m \u001b[0mf\u001b[0m \u001b[0;34m=\u001b[0m \u001b[0mopen\u001b[0m\u001b[0;34m(\u001b[0m\u001b[0;34m\"../Covid-County-LTC-Analysis/Source_data/IL_2020-05-29LTC_data_Source.json\"\u001b[0m\u001b[0;34m)\u001b[0m\u001b[0;34m\u001b[0m\u001b[0;34m\u001b[0m\u001b[0m\n\u001b[0m",
      "\u001b[0;31mFileNotFoundError\u001b[0m: [Errno 2] No such file or directory: '../Covid-County-LTC-Analysis/Source_data/IL_2020-05-29LTC_data_Source.json'"
     ]
    }
   ],
   "source": [
    "f = open(\"../Covid-County-LTC-Analysis/Source_data/IL_2020-05-29LTC_data_Source.json\")"
   ]
  },
  {
   "cell_type": "code",
   "execution_count": null,
   "metadata": {},
   "outputs": [],
   "source": []
  },
  {
   "cell_type": "code",
   "execution_count": null,
   "metadata": {},
   "outputs": [],
   "source": []
  }
 ],
 "metadata": {
  "kernelspec": {
   "display_name": "Python 3",
   "language": "python",
   "name": "python3"
  },
  "language_info": {
   "codemirror_mode": {
    "name": "ipython",
    "version": 3
   },
   "file_extension": ".py",
   "mimetype": "text/x-python",
   "name": "python",
   "nbconvert_exporter": "python",
   "pygments_lexer": "ipython3",
   "version": "3.7.6"
  }
 },
 "nbformat": 4,
 "nbformat_minor": 4
}
