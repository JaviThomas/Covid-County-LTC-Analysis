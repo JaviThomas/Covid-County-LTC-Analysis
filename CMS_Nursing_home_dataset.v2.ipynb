{
 "cells": [
  {
   "cell_type": "code",
   "execution_count": 1,
   "metadata": {
    "colab": {},
    "colab_type": "code",
    "id": "r3I8QTIvyyyJ"
   },
   "outputs": [],
   "source": [
    "import pandas as pd\n",
    "import urllib3 as urllib\n",
    "import json\n",
    "import IPython.display"
   ]
  },
  {
   "cell_type": "code",
   "execution_count": 7,
   "metadata": {},
   "outputs": [
    {
     "name": "stderr",
     "output_type": "stream",
     "text": [
      "/home/steve/anaconda3/lib/python3.7/site-packages/IPython/core/interactiveshell.py:3063: DtypeWarning: Columns (1) have mixed types.Specify dtype option on import or set low_memory=False.\n",
      "  interactivity=interactivity, compiler=compiler, result=result)\n"
     ]
    }
   ],
   "source": [
    "url_csv = 'https://data.cms.gov/api/views/s2uc-8wxp/rows.csv?accessType=DOWNLOAD&api_foundry=true'\n",
    "file = '/home/steve/Downloads/COVID-19_Nursing_Home_Dataset (3).csv'\n",
    "cms_data = pd.read_csv(file, parse_dates=['Week Ending'])\n",
    "max_date = cms_data['Week Ending'].max()"
   ]
  },
  {
   "cell_type": "code",
   "execution_count": 8,
   "metadata": {},
   "outputs": [
    {
     "data": {
      "text/plain": [
       "Index(['Week Ending', 'Federal Provider Number', 'Provider Name',\n",
       "       'Provider Address', 'Provider City', 'Provider State',\n",
       "       'Provider Zip Code', 'Submitted Data', 'Passed Quality Assurance Check',\n",
       "       'Residents Weekly Admissions COVID-19',\n",
       "       'Residents Total Admissions COVID-19',\n",
       "       'Residents Weekly Confirmed COVID-19',\n",
       "       'Residents Total Confirmed COVID-19',\n",
       "       'Residents Weekly Suspected COVID-19',\n",
       "       'Residents Total Suspected COVID-19', 'Residents Weekly All Deaths',\n",
       "       'Residents Total All Deaths', 'Residents Weekly COVID-19 Deaths',\n",
       "       'Residents Total COVID-19 Deaths', 'Number of All Beds',\n",
       "       'Total Number of Occupied Beds',\n",
       "       'Resident Access to Testing in Facility',\n",
       "       'Laboratory Type Is State Health Dept',\n",
       "       'Laboratory Type Is Private Lab', 'Laboratory Type Is Other',\n",
       "       'Able to Test or Obtain Resources to Test All Current Residents Within Next 7 Days',\n",
       "       'Reason for Not Testing Residents - Lack of PPE for Personnel ',\n",
       "       'Reason for Not Testing Residents - Lack of Supplies',\n",
       "       'Reason for Not Testing Residents  - Lack of Access to Laboratory',\n",
       "       'Reason for Not Testing Residents - Lack of Access to Trained Personnel ',\n",
       "       'Reason for Not Testing Residents  - Uncertainty About Reimbursement',\n",
       "       'Reason for Not Testing Residents  - Other',\n",
       "       'During Past Two Weeks Average Time to Receive Resident Test Results',\n",
       "       'Has Facility Performed Resident Tests Since Last Report',\n",
       "       'Tested Residents with New Signs or Symptoms',\n",
       "       'Tested Asymptomatic Residents in a Unit or Section After a New Case',\n",
       "       'Tested Asymptomatic Residents Facility-Wide After a New Case',\n",
       "       'Tested Asymptomatic Residents Without Known Exposure as Surveillance',\n",
       "       'Tested Another Subgroup of Residents',\n",
       "       'Able to Test or Obtain Resources to Test All Staff and/or Personnel Within Next 7 Days',\n",
       "       'Reason for Not Testing Staff and/or Personnel - Lack of PPE for Personnel ',\n",
       "       'Reason for Not Testing Staff and/or Personnel - Lack of Supplies',\n",
       "       'Reason for Not Testing Staff and/or Personnel - Lack of Access to Laboratory',\n",
       "       'Reason for Not Testing Staff and/or Personnel  - Lack of Access to Trained Personnel ',\n",
       "       'Reason for Not Testing Staff and/or Personnel - Uncertainty About Reimbursement',\n",
       "       'Reason for Not Testing Staff and/or Personnel - Other',\n",
       "       'During Past Two Weeks Average Time to Receive Staff and/or Personnel Test Results',\n",
       "       'Has Facility Performed Staff and/or Personnel Tests Since Last Report',\n",
       "       'Tested Staff and/or Personnel with New Signs or Symptoms',\n",
       "       'Tested Asymptomatic Staff and/or Personnel in a Unit or Section After a New Case',\n",
       "       'Tested Asymptomatic Staff and/or Personnel Facility-Wide After a New Case',\n",
       "       'Tested Asymptomatic Staff and/or Personnel Without Known Exposure as Surveillance',\n",
       "       'Tested Another Subgroup of Staff and/or Personnel',\n",
       "       'In-House Point-of-Care Test Machine',\n",
       "       'COVID-19 Point-of-Care Tests Performed on Residents Since Last Report',\n",
       "       'COVID-19 Point-of-Care Tests Performed on Staff and/or Personnel Since Last Report',\n",
       "       'Enough Supplies to Test All Staff and/or Personnel Using Point-of-Care Test Machine',\n",
       "       'Staff Weekly Confirmed COVID-19', 'Staff Total Confirmed COVID-19',\n",
       "       'Staff Weekly Suspected COVID-19', 'Staff Total Suspected COVID-19',\n",
       "       'Staff Weekly COVID-19 Deaths', 'Staff Total COVID-19 Deaths',\n",
       "       'Shortage of Nursing Staff', 'Shortage of Clinical Staff',\n",
       "       'Shortage of Aides', 'Shortage of Other Staff',\n",
       "       'Any Current Supply of N95 Masks', 'One-Week Supply of N95 Masks',\n",
       "       'Any Current Supply of Surgical Masks',\n",
       "       'One-Week Supply of Surgical Masks',\n",
       "       'Any Current Supply of Eye Protection',\n",
       "       'One-Week Supply of Eye Protection', 'Any Current Supply of Gowns',\n",
       "       'One-Week Supply of Gowns', 'Any Current Supply of Gloves',\n",
       "       'One-Week Supply of Gloves', 'Any Current Supply of Hand Sanitizer',\n",
       "       'One-Week Supply of Hand Sanitizer', 'Ventilator Dependent Unit',\n",
       "       'Number of Ventilators in Facility',\n",
       "       'Number of Ventilators in Use for COVID-19',\n",
       "       'Any Current Supply of Ventilator Supplies',\n",
       "       'One-Week Supply of Ventilator Supplies',\n",
       "       'Total Resident Confirmed COVID-19 Cases Per 1,000 Residents',\n",
       "       'Total Resident COVID-19 Deaths Per 1,000 Residents',\n",
       "       'Total Residents COVID-19 Deaths as a Percentage of Confirmed COVID-19 Cases',\n",
       "       'County', 'Three or More Confirmed COVID-19 Cases This Week',\n",
       "       'Initial Confirmed COVID-19 Case This Week', 'Geolocation'],\n",
       "      dtype='object')"
      ]
     },
     "execution_count": 8,
     "metadata": {},
     "output_type": "execute_result"
    }
   ],
   "source": [
    "cms_data.columns"
   ]
  },
  {
   "cell_type": "code",
   "execution_count": 10,
   "metadata": {},
   "outputs": [],
   "source": [
    "cols = ['Week Ending', 'Federal Provider Number', 'Provider Name',\n",
    "       'Provider Address', 'Provider City', 'Provider State',\n",
    "       'Provider Zip Code', 'County', 'Submitted Data', 'Passed Quality Assurance Check',\n",
    "       'Residents Weekly Admissions COVID-19',\n",
    "       'Residents Total Admissions COVID-19',\n",
    "       'Residents Weekly Confirmed COVID-19',\n",
    "       'Residents Total Confirmed COVID-19',\n",
    "       'Residents Weekly Suspected COVID-19',\n",
    "       'Residents Total Suspected COVID-19', 'Residents Weekly All Deaths',\n",
    "       'Residents Total All Deaths', 'Residents Weekly COVID-19 Deaths',\n",
    "       'Residents Total COVID-19 Deaths', 'Number of All Beds',\n",
    "       'Total Number of Occupied Beds',\n",
    "       'Initial Confirmed COVID-19 Case This Week', 'Geolocation']\n",
    "pd.options.display.max_columns = None"
   ]
  },
  {
   "cell_type": "markdown",
   "metadata": {},
   "source": [
    "# str(max_date)[0:10]\n",
    "cms_data[cms_data['Week Ending'] == max_date].groupby(['Provider State'])['Week Ending'].count()"
   ]
  },
  {
   "cell_type": "code",
   "execution_count": 13,
   "metadata": {},
   "outputs": [
    {
     "data": {
      "text/plain": [
       "Timestamp('2020-11-08 00:00:00')"
      ]
     },
     "execution_count": 13,
     "metadata": {},
     "output_type": "execute_result"
    }
   ],
   "source": [
    "MI_cms_data = cms_data[(cms_data['Provider State'] == 'MI') & (cms_data['Week Ending'] == max_date)]\n",
    "MI_cms_data.to_csv('./Reporting_data/MI_CMS_Data_' + str(max_date)[0:10] + '.csv')\n",
    "IL_cms_data = cms_data[(cms_data['Provider State'] == 'IL') & (cms_data['Week Ending'] == max_date)]\n",
    "IL_cms_data.to_csv('./Reporting_data/IL_CMS_Data_' + str(max_date)[0:10] + '.csv')\n",
    "max_date"
   ]
  },
  {
   "cell_type": "code",
   "execution_count": null,
   "metadata": {},
   "outputs": [],
   "source": [
    "cms_data['Week Ending'].value_counts()\n",
    "#cms_data['Provider State'].value_counts()\n",
    "max_date = cms_data['Week Ending'].max()\n",
    "cols = ['Residents Weekly Confirmed COVID-19',\n",
    "       'Residents Total Confirmed COVID-19',\n",
    "       'Residents Weekly Suspected COVID-19',\n",
    "       'Residents Total Suspected COVID-19', \n",
    "       'Residents Weekly All Deaths',\n",
    "       'Residents Total All Deaths',\n",
    "       'Residents Weekly COVID-19 Deaths',\n",
    "       'Residents Total COVID-19 Deaths','Number of All Beds',\n",
    "       'Total Number of Occupied Beds']\n",
    "sort_val = 'Residents Weekly Suspected COVID-19'\n",
    "sort_val = 'Residents Weekly Confirmed COVID-19'\n",
    "#sort_val = 'Residents Total All Deaths'\n",
    "cms_data[(cms_data['Week Ending'] == max_date)].groupby(['Provider State']).sum().sort_values(sort_val, ascending=False).head(10)[cols]"
   ]
  },
  {
   "cell_type": "code",
   "execution_count": null,
   "metadata": {},
   "outputs": [],
   "source": [
    "max_date = cms_data['Week Ending'].max()\n",
    "# Get Top facilites by death and plot over time\n",
    "cols = ['Week Ending', 'Federal Provider Number', 'Provider Name', 'Provider State',\n",
    "       'Residents Weekly Confirmed COVID-19',\n",
    "       'Residents Total Confirmed COVID-19',\n",
    "       'Residents Weekly Suspected COVID-19',\n",
    "       'Residents Total Suspected COVID-19', \n",
    "       'Residents Weekly All Deaths',\n",
    "       'Residents Total All Deaths',\n",
    "       'Residents Weekly COVID-19 Deaths',\n",
    "       'Residents Total COVID-19 Deaths','Number of All Beds',\n",
    "       'Total Number of Occupied Beds']\n",
    "state = 'OK'\n",
    "sort_col = 'Residents Weekly Confirmed COVID-19'\n",
    "sort_col = 'Residents Total All Deaths'\n",
    "top_deaths_df = cms_data[(cms_data['Week Ending'] == max_date) & (cms_data['Provider State'] == state)].sort_values(sort_col, ascending=False)[cols]\n",
    "top_deaths_df = cms_data[(cms_data['Provider State'] == state)].sort_values(sort_col, ascending=False)[cols]\n",
    "for fpn in top_deaths_df['Federal Provider Number'].head(5):\n",
    "    print (fpn)\n",
    "top_deaths_df.groupby('Week Ending')[cols].sum()"
   ]
  },
  {
   "cell_type": "code",
   "execution_count": null,
   "metadata": {},
   "outputs": [],
   "source": [
    "# Data for one Provider by FPN over time.\n",
    "cms_data[cms_data['Federal Provider Number'] == '145860'][cols].sort_values('Week Ending')"
   ]
  },
  {
   "cell_type": "code",
   "execution_count": null,
   "metadata": {},
   "outputs": [],
   "source": [
    "# Get percentage of State totals for a particular field\n",
    "field = 'Residents Total All Deaths'\n",
    "state = 'IL'\n",
    "max_date = cms_data['Week Ending'].max()\n",
    "sort_col = 'Residents Total All Deaths'\n",
    "top_dfs = cms_data[(cms_data['Week Ending'] == max_date) & (cms_data['Provider State'] == state)].sort_values(sort_col, ascending=False)[cols].head(5)\n",
    "col_total = top_dfs[sort_col].sum()\n",
    "top_dfs[sort_col +'_State_Total'] = col_total\n",
    "top_dfs[sort_col + '_State Pct'] = (top_dfs[sort_col] / top_dfs[sort_col +'_State_Total']) / 100\n",
    "top_dfs[sort_col + '_Bed_Total Pct'] = (top_dfs['Total Number of Occupied Beds'] / top_dfs[sort_col]) / 100"
   ]
  },
  {
   "cell_type": "code",
   "execution_count": null,
   "metadata": {},
   "outputs": [],
   "source": [
    "top_dfs"
   ]
  },
  {
   "cell_type": "code",
   "execution_count": null,
   "metadata": {},
   "outputs": [],
   "source": [
    "cms_data_df = pd.read_csv('https://data.cms.gov/api/views/s2uc-8wxp/rows.tsv?accessType=DOWNLOAD&bom=true', sep='\\t')"
   ]
  },
  {
   "cell_type": "code",
   "execution_count": null,
   "metadata": {},
   "outputs": [],
   "source": []
  },
  {
   "cell_type": "code",
   "execution_count": null,
   "metadata": {},
   "outputs": [],
   "source": []
  }
 ],
 "metadata": {
  "kernelspec": {
   "display_name": "Python 3",
   "language": "python",
   "name": "python3"
  },
  "language_info": {
   "codemirror_mode": {
    "name": "ipython",
    "version": 3
   },
   "file_extension": ".py",
   "mimetype": "text/x-python",
   "name": "python",
   "nbconvert_exporter": "python",
   "pygments_lexer": "ipython3",
   "version": "3.7.6"
  }
 },
 "nbformat": 4,
 "nbformat_minor": 4
}
